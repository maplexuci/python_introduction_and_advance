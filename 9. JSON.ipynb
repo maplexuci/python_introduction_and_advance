{
 "cells": [
  {
   "cell_type": "markdown",
   "metadata": {},
   "source": [
    "# What is JSON"
   ]
  },
  {
   "cell_type": "markdown",
   "metadata": {},
   "source": [
    "- **JSON** is short for Javascript Object Notation.  \n",
    "  \n",
    "  \n",
    "- The essence of JSON is a **lightweight** **data exchange format**.  \n",
    "  \n",
    "  \n",
    "- string is a manifestation of JSON. Strings that accord with the JSON format is called JSON string.  \n",
    "  \n",
    "  \n",
    "- JSON is easy to read; is easy to parse; has higher efficiency of network transmission and can exchange data across multiple languages.  \n",
    "  \n"
   ]
  },
  {
   "cell_type": "markdown",
   "metadata": {},
   "source": [
    "# Basic usage of JSON"
   ]
  },
  {
   "cell_type": "markdown",
   "metadata": {},
   "source": [
    "**The basic vector of JSON is string, in python is the `str`.**"
   ]
  },
  {
   "cell_type": "code",
   "execution_count": 1,
   "metadata": {
    "ExecuteTime": {
     "end_time": "2020-05-26T00:12:14.759690Z",
     "start_time": "2020-05-26T00:12:14.754705Z"
    }
   },
   "outputs": [],
   "source": [
    "json_str = \"{name: Lily, age:18}\"  # This is a str, not a dict, because it has \"\"\n",
    "\n",
    "# Say, if this a a JSON string, it looks like to be correspond to the dict of python.\n",
    "# In python, we can convert this JSON string to a python data type, in order to asscss the data in the JSON string.\n",
    "\n",
    "# We can use 'json' module in python to do this."
   ]
  },
  {
   "cell_type": "code",
   "execution_count": 5,
   "metadata": {
    "ExecuteTime": {
     "end_time": "2020-05-26T00:20:12.685218Z",
     "start_time": "2020-05-26T00:20:12.679233Z"
    }
   },
   "outputs": [
    {
     "name": "stdout",
     "output_type": "stream",
     "text": [
      "{'name': 'Lily', 'age': 18}\n"
     ]
    }
   ],
   "source": [
    "# Use json.loads() from json module to convert json string to python data\n",
    "\n",
    "import json\n",
    "\n",
    "# json_str = '{name: Lily, age:18}'  \n",
    "# This is not a correct JSON string format. We need to use \"\" ('' won't work) for every string in JSON string.\n",
    "\n",
    "json_str = '{\"name\": \"Lily\", \"age\":18}' # This is a correct JSON string.\n",
    "\n",
    "student = json.loads(json_str)\n",
    "\n",
    "print(student)\n",
    "print(student['name'])\n",
    "print(student['age'])\n",
    "\n",
    "# Now we have converted JSON string into python dict data type. \n",
    "# And we can asscss the data in the original JSON string by manipulating the dict data in python.\n",
    "# Although it looks similar as the original JSON string, they are basicly not the same data type.\n",
    "\n",
    "# Actuall, the JSON string in javascript is an object (JSON object type), in python we converted it into a dict.\n",
    "# Different language may convert the same JSON string into different data type, not necessarily dict, it is just in python, it converts into dict type.\n",
    "\n"
   ]
  },
  {
   "cell_type": "markdown",
   "metadata": {},
   "source": [
    "- The data type of JSON string in javascript is an object (JSON `object` type).  \n",
    "  \n",
    "\n",
    "- In python, JSON string is converted into a `dict` data type.  \n",
    "  \n",
    "  \n",
    "\n",
    "- Different language may convert the same JSON string into different data type, not necessarily dict, it is just in python, it converts into dict type.  \n",
    "  \n",
    "  \n",
    "\n",
    "- JSON has other data types other than object, like `array`."
   ]
  },
  {
   "cell_type": "code",
   "execution_count": 6,
   "metadata": {
    "ExecuteTime": {
     "end_time": "2020-05-26T00:38:35.710715Z",
     "start_time": "2020-05-26T00:38:35.695498Z"
    }
   },
   "outputs": [
    {
     "name": "stdout",
     "output_type": "stream",
     "text": [
      "[{'name': 'Lily', 'age': 18}, {'name': 'Lily', 'age': 18}]\n"
     ]
    }
   ],
   "source": [
    "# JSON array (a set)\n",
    "\n",
    "json_str = '[{\"name\": \"Lily\", \"age\":18, \"flag\":false}, {\"name\": \"Lily\", \"age\":18}]'\n",
    "# This is a JSON array with two objects.\n",
    "\n",
    "\n",
    "# What data type a JSON array be parsed into python?\n",
    "student = json.loads(json_str)\n",
    "\n",
    "print(student)\n",
    "\n",
    "\n",
    "# We can see that JSON array in python is list, and each object in the array is dict.\n",
    "# We can also see that the 'false' in JSON is automaticlly parsed to 'False' in python, which is the right way for python."
   ]
  },
  {
   "cell_type": "markdown",
   "metadata": {},
   "source": [
    "**The process of parsing a JSON data to a certain data type in a programming language is called deserialization.**  \n",
    "**Likewise, the opposite process, which is from python object to JSON data, called serialization.**"
   ]
  },
  {
   "cell_type": "code",
   "execution_count": 13,
   "metadata": {
    "ExecuteTime": {
     "end_time": "2020-05-26T02:04:35.455239Z",
     "start_time": "2020-05-26T02:04:35.448255Z"
    }
   },
   "outputs": [
    {
     "name": "stdout",
     "output_type": "stream",
     "text": [
      "[{\"name\": \"Lily\", \"age\": 18, \"flag\": false}, {\"name\": \"Lily\", \"age\": 18}]\n"
     ]
    }
   ],
   "source": [
    "# Serialization using json.dumps()\n",
    "student = [\n",
    "            {'name': 'Lily', 'age': 18, 'flag': False},\n",
    "            {'name': 'Lily', 'age': 18}\n",
    "          ]\n",
    "\n",
    "json_str = json.dumps(student)\n",
    "print(type(json_str))\n",
    "print(json_str)"
   ]
  },
  {
   "cell_type": "markdown",
   "metadata": {},
   "source": [
    "**Data type translation between JSON and python.**\n",
    "\n",
    "| JSON | Python |\n",
    "| --- | --- |\n",
    "| object | dict |\n",
    "| array | list |\n",
    "| string | str |\n",
    "| number(int) | int |\n",
    "| number(real) | float |\n",
    "| true | True |\n",
    "| false | False |\n",
    "| null | None |"
   ]
  },
  {
   "cell_type": "markdown",
   "metadata": {},
   "source": [
    "# Understanding JSON"
   ]
  },
  {
   "cell_type": "markdown",
   "metadata": {},
   "source": [
    "- **JSON**  \n",
    "  \n",
    "    \n",
    "- **JSON object**  \n",
    "  \n",
    "  \n",
    "- **JSON string**"
   ]
  },
  {
   "cell_type": "markdown",
   "metadata": {},
   "source": [
    "-------------------------------------------------------\n",
    "- JSON is not specific to Javascript. Just that their data type are so similar. JSON is more like a dependent language. It has its own data type. JSON indeed has been used a lot in Javascript.  \n",
    "  \n",
    "  \n",
    "- JSON is a data exchange format, it is for multiple language. When you think about JSON, we need to jump out of the scope of Javascript.  \n",
    "  \n",
    "  \n",
    "- 'JSON object' is a very biased name, only valid if you use JSON in Javescript. In python, properly speaking, there is no such thing called JSON object.  \n",
    "  \n",
    "\n",
    "- JSON has a data type called `object`, this is not the same concept as the above 'JSON object'.  \n",
    "  \n",
    "  \n",
    "  \n",
    "- JSON data type is a intermediate data type, that can be used very efficiently to exchange data between different languages.  \n",
    "  \n",
    "  \n"
   ]
  },
  {
   "cell_type": "code",
   "execution_count": null,
   "metadata": {},
   "outputs": [],
   "source": []
  }
 ],
 "metadata": {
  "kernelspec": {
   "display_name": "Python 3",
   "language": "python",
   "name": "python3"
  },
  "language_info": {
   "codemirror_mode": {
    "name": "ipython",
    "version": 3
   },
   "file_extension": ".py",
   "mimetype": "text/x-python",
   "name": "python",
   "nbconvert_exporter": "python",
   "pygments_lexer": "ipython3",
   "version": "3.7.6"
  },
  "toc": {
   "base_numbering": 1,
   "nav_menu": {},
   "number_sections": true,
   "sideBar": true,
   "skip_h1_title": false,
   "title_cell": "Table of Contents",
   "title_sidebar": "Contents",
   "toc_cell": false,
   "toc_position": {},
   "toc_section_display": true,
   "toc_window_display": false
  },
  "varInspector": {
   "cols": {
    "lenName": 16,
    "lenType": 16,
    "lenVar": 40
   },
   "kernels_config": {
    "python": {
     "delete_cmd_postfix": "",
     "delete_cmd_prefix": "del ",
     "library": "var_list.py",
     "varRefreshCmd": "print(var_dic_list())"
    },
    "r": {
     "delete_cmd_postfix": ") ",
     "delete_cmd_prefix": "rm(",
     "library": "var_list.r",
     "varRefreshCmd": "cat(var_dic_list()) "
    }
   },
   "types_to_exclude": [
    "module",
    "function",
    "builtin_function_or_method",
    "instance",
    "_Feature"
   ],
   "window_display": false
  }
 },
 "nbformat": 4,
 "nbformat_minor": 4
}
