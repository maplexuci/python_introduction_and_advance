{
 "cells": [
  {
   "cell_type": "markdown",
   "metadata": {},
   "source": [
    "# What is regular expression?"
   ]
  },
  {
   "cell_type": "markdown",
   "metadata": {},
   "source": [
    "Regular expression is a special sequence of string, used to match the strings we want to search.  \n",
    "\n",
    "We can do fast text retrieval and text replacement using regular expression.   \n",
    "\n",
    "Several scenarios that you can use regular expression:  \n",
    "\n",
    "- To check a serial of number is telephone number or not?  \n",
    "  \n",
    "  \n",
    "- To check a string is an email address or not?  \n",
    "  \n",
    "   \n",
    "- To replace a word to another one in a text.  \n",
    "  \n",
    "  \n",
    "- ......."
   ]
  },
  {
   "cell_type": "code",
   "execution_count": 6,
   "metadata": {
    "ExecuteTime": {
     "end_time": "2020-05-24T16:11:33.051918Z",
     "start_time": "2020-05-24T16:11:33.042518Z"
    }
   },
   "outputs": [
    {
     "name": "stdout",
     "output_type": "stream",
     "text": [
      "True\n",
      "True\n",
      "Found string \"Python\"\n"
     ]
    }
   ],
   "source": [
    "# An expression of a simple regular expression.\n",
    "\n",
    "# define a string\n",
    "a = 'C|C++|Java|C#|Python|Javascript'\n",
    "\n",
    "# To check if 'Python' is in this string\n",
    "# We can do this using python method 'index()' or use membership operation 'in'\n",
    "print('Python' in a)\n",
    "print(a.index('Python') > -1)\n",
    "\n",
    "# To use regular expression\n",
    "import re  # import regular expression module. syntax: re.findall('pattern_to_search', str_name).\n",
    "r = re.findall('Python', a)  # It returns a list, as findall() method may have multiple matches.\n",
    "if len(r) > 0:\n",
    "    print('Found string \"Python\"')\n",
    "else:\n",
    "    print('Not found')\n",
    "\n",
    "# This example doesn't make any sense, as we used a constant 'Python' to search the exact word.\n",
    "# We didn't use any abstract expression to do the match work."
   ]
  },
  {
   "cell_type": "code",
   "execution_count": 7,
   "metadata": {
    "ExecuteTime": {
     "end_time": "2020-05-24T16:26:27.292391Z",
     "start_time": "2020-05-24T16:26:27.287401Z"
    }
   },
   "outputs": [
    {
     "name": "stdout",
     "output_type": "stream",
     "text": [
      "['0', '8', '5', '7', '2']\n"
     ]
    }
   ],
   "source": [
    "# A more meaningful regular expression example\n",
    "# To extract all the numbers in this string.\n",
    "# Sure you can use 'for' loop to do this, but here we see how to achieve using regular expression\n",
    "\n",
    "import re\n",
    "\n",
    "a = 'C0C++8Java5C#7Python2Javascript'\n",
    "\n",
    "r = re.findall('\\d', a)  # in regular expression, '\\d' represent the number 0-9.\n",
    "print(r)\n"
   ]
  },
  {
   "cell_type": "markdown",
   "metadata": {},
   "source": [
    "Regular expression is substantially a string. It is consisted of ordinary character and metacharacter.  \n",
    "  \n",
    "  \n",
    "  \n",
    "- In the first example, the every character in `Python` is called ordinary character.  \n",
    "  \n",
    "  \n",
    "- In the second example, `\\d` is called metacharacter.  \n",
    "  \n",
    "  \n",
    "-  Regular expression is a combination of ordinary and meta- characters.  \n",
    "  \n",
    "  \n",
    "- There are so many metacharacters that it is impossible to remember all. The correct way is to learn the way of using regular expression, think about the need of matching, and go the the metacharacter table to find information."
   ]
  },
  {
   "cell_type": "markdown",
   "metadata": {},
   "source": [
    "# Character set\n",
    "## Normal character set"
   ]
  },
  {
   "cell_type": "code",
   "execution_count": 11,
   "metadata": {
    "ExecuteTime": {
     "end_time": "2020-05-24T16:49:37.843050Z",
     "start_time": "2020-05-24T16:49:37.837067Z"
    }
   },
   "outputs": [
    {
     "name": "stdout",
     "output_type": "stream",
     "text": [
      "['acc', 'afc']\n"
     ]
    }
   ],
   "source": [
    "import re\n",
    "\n",
    "# Define a string that consist of multiple words, with comma sepetated.\n",
    "s = 'abc, acc, adc, aec, grafc, ahc'\n",
    "\n",
    "# Now match the word that the middle character is 'c' or 'f'\n",
    "\n",
    "r = re.findall('a[cf]c', s)\n",
    "# Use [] as character set, to put all the characters you want to match in it.\n",
    "# The ordinary characters 'a' and 'c' outside of the [] serves as the boundary,\n",
    "# to make sure the matching word have 'a' on the left of the matching character\n",
    "# as well as 'c' on the right of the matching charater.\n",
    "# Not the whold word doesn't need to be exactly 'acc' or 'afc'\n",
    "# like in the example, the 'afc' is found, where it comes from the word 'grafc'.\n",
    "# But only 'afc' is returned as the matching result, not the whole word, as we set the regular expression to just return 3 characters.\n",
    "\n",
    "print(r)"
   ]
  },
  {
   "cell_type": "code",
   "execution_count": 13,
   "metadata": {
    "ExecuteTime": {
     "end_time": "2020-05-24T16:53:54.881569Z",
     "start_time": "2020-05-24T16:53:54.875584Z"
    }
   },
   "outputs": [
    {
     "name": "stdout",
     "output_type": "stream",
     "text": [
      "['abc', 'aec', 'afc']\n"
     ]
    }
   ],
   "source": [
    "# To match the characters not in the character set, use ^ in front of the characters in the set.\n",
    "r = re.findall('a[^chd]c', s)\n",
    "\n",
    "print(r)"
   ]
  },
  {
   "cell_type": "code",
   "execution_count": 14,
   "metadata": {
    "ExecuteTime": {
     "end_time": "2020-05-24T17:07:56.623662Z",
     "start_time": "2020-05-24T17:07:56.616680Z"
    }
   },
   "outputs": [
    {
     "name": "stdout",
     "output_type": "stream",
     "text": [
      "['acc', 'adc', 'aec', 'afc']\n"
     ]
    }
   ],
   "source": [
    "# If the characters in the set are sequencial, you can use - to connect the fisrt and the last. instead of typing a long list of characters.\n",
    "r = re.findall('a[c-f]c', s)\n",
    "\n",
    "print(r)"
   ]
  },
  {
   "cell_type": "markdown",
   "metadata": {},
   "source": [
    "- The characters in the character set `[]` has the relationship of `or`.  "
   ]
  },
  {
   "cell_type": "markdown",
   "metadata": {},
   "source": [
    "## Abstract character set"
   ]
  },
  {
   "cell_type": "markdown",
   "metadata": {
    "ExecuteTime": {
     "end_time": "2020-05-24T17:12:35.401029Z",
     "start_time": "2020-05-24T17:12:35.394046Z"
    }
   },
   "source": [
    "- **This is not an official name.**  \n",
    "  \n",
    "    \n",
    "- A short combination of characters to represent a group of characters.  \n",
    "  \n",
    "  \n",
    "- E.g. `\\d` represents the numbers 0-9, the same as `[0-9]`; `\\D` represents non-number characters, the same as `[^0-9]  \n",
    "  \n",
    "  \n",
    "- character set only matches single character"
   ]
  },
  {
   "cell_type": "code",
   "execution_count": 22,
   "metadata": {
    "ExecuteTime": {
     "end_time": "2020-05-24T17:33:14.283509Z",
     "start_time": "2020-05-24T17:33:14.276564Z"
    }
   },
   "outputs": [
    {
     "name": "stdout",
     "output_type": "stream",
     "text": [
      "['C', '0', 'C', '8', '_', 'J', 'a', 'v', 'a', '_', '5', 'C', '7', 'P', 'y', 't', 'h', 'o', 'n', '2', 'J', 'a', 'v', 'a', 's', 'c', 'r', 'i', 'p', 't']\n",
      "['+', '+', '\\n', ' ', ' ', '#', ' ', '\\n', '&', '*', '%', '$', '\\t', '\\r']\n"
     ]
    }
   ],
   "source": [
    "# \\w for matching [A-Za-z0-9_], word characters\n",
    "\n",
    "a = 'C0C++\\n8_Java_5  C#7 Python\\n2&*%$Javas\\tcript\\r'\n",
    "\n",
    "r = re.findall('\\w', a)\n",
    "\n",
    "# Like \\D, \\W matches [^A-Za-z0-9_], non-word characters\n",
    "r1 = re.findall('\\W', a)\n",
    "\n",
    "print(r)\n",
    "print(r1)  # From the output we can see that space (' ') as well as new line character (\\n), tab (\\t), Enter (\\r) are the non-word character.\n"
   ]
  },
  {
   "cell_type": "code",
   "execution_count": 23,
   "metadata": {
    "ExecuteTime": {
     "end_time": "2020-05-24T17:34:52.248463Z",
     "start_time": "2020-05-24T17:34:52.242478Z"
    }
   },
   "outputs": [
    {
     "name": "stdout",
     "output_type": "stream",
     "text": [
      "['\\n', ' ', ' ', ' ', '\\n', '\\t', '\\r']\n"
     ]
    }
   ],
   "source": [
    "# \\s for matching empty characters \n",
    "\n",
    "a = 'C0C++\\n8_Java_5  C#7 Python\\n2&*%$Javas\\tcript\\r'\n",
    "\n",
    "r = re.findall('\\s', a)\n",
    "\n",
    "print(r)  # Note characters like '&', '$' etc, is not matched. They are not empty characters.\n"
   ]
  },
  {
   "cell_type": "markdown",
   "metadata": {},
   "source": [
    "# Quantifier\n",
    "\n",
    "## Basic usage\n",
    "\n",
    "To match multiple characters for the set"
   ]
  },
  {
   "cell_type": "code",
   "execution_count": 24,
   "metadata": {
    "ExecuteTime": {
     "end_time": "2020-05-24T17:42:03.276485Z",
     "start_time": "2020-05-24T17:42:03.270500Z"
    }
   },
   "outputs": [
    {
     "name": "stdout",
     "output_type": "stream",
     "text": [
      "['ava', 'yth', 'ava', 'scr', 'ipt']\n"
     ]
    }
   ],
   "source": [
    "\n",
    "a = 'C0C++8Java5C#7Python2Javascript'\n",
    "\n",
    "# If we want to match 3 letters, use {} to specify the number after the character set.\n",
    "r = re.findall('[a-z]{3}', a)\n",
    "print(r)"
   ]
  },
  {
   "cell_type": "code",
   "execution_count": 26,
   "metadata": {
    "ExecuteTime": {
     "end_time": "2020-05-24T17:44:04.959841Z",
     "start_time": "2020-05-24T17:44:04.953856Z"
    }
   },
   "outputs": [
    {
     "name": "stdout",
     "output_type": "stream",
     "text": [
      "['Java', 'Python', 'Javasc', 'ript']\n"
     ]
    }
   ],
   "source": [
    "# To match the whole word one by one\n",
    "\n",
    "a = 'C0C++8Java5C#7Python2Javascript'\n",
    "\n",
    "# Quantifier can also be a range, use ',' to seperate the two end.\n",
    "r = re.findall('[A-Za-z]{3,6}', a)  # Match the word with 3-6 letters in length.\n",
    "print(r)\n"
   ]
  },
  {
   "cell_type": "markdown",
   "metadata": {},
   "source": [
    "**Question: in the above example, we want to match the letter combination with 3-6 in length. When python matches to `'Jav'`, this should be a successful match, as it has 3 letters, it is one of the patterns we defined. Why python didn't stop there, but continued to match the whole word `'Java'`?**"
   ]
  },
  {
   "cell_type": "markdown",
   "metadata": {},
   "source": [
    "## Greedy and non-greedy"
   ]
  },
  {
   "cell_type": "markdown",
   "metadata": {},
   "source": [
    "- Quantifier in regular expression has two modes of matching: Greedy and non-greedy.  \n",
    "  \n",
    "    \n",
    "- Greedy mode is the default mode, it will match as much as possible in the range of the quantifier.  \n",
    "  \n",
    "  \n",
    "- Non-greedy can be specified by add a `?` behind and outside of the quantifier."
   ]
  },
  {
   "cell_type": "code",
   "execution_count": 27,
   "metadata": {
    "ExecuteTime": {
     "end_time": "2020-05-24T18:30:25.733361Z",
     "start_time": "2020-05-24T18:30:25.726384Z"
    }
   },
   "outputs": [
    {
     "name": "stdout",
     "output_type": "stream",
     "text": [
      "['Jav', 'Pyt', 'hon', 'Jav', 'asc', 'rip']\n"
     ]
    }
   ],
   "source": [
    "# Non-greedy match\n",
    "a = 'C0C++8Java5C#7Python2Javascript'\n",
    "\n",
    "r = re.findall('[A-Za-z]{3,6}?', a)\n",
    "print(r)"
   ]
  },
  {
   "cell_type": "markdown",
   "metadata": {},
   "source": [
    "## Match 0, 1 or infinite times\n",
    "\n",
    "**Other quantifiers**  \n",
    "\n",
    "- `*`, representing match the character in front of `*` for 0 time or for infinite times.  \n",
    "  \n",
    "  \n",
    "- `+`, representing match the character in front of `*` for 1 time or for infinite times.  \n",
    "  \n",
    "  \n",
    "- `?`, representing match the character in front of `*` for 0 time or for 1 times."
   ]
  },
  {
   "cell_type": "code",
   "execution_count": 32,
   "metadata": {
    "ExecuteTime": {
     "end_time": "2020-05-24T18:42:31.467585Z",
     "start_time": "2020-05-24T18:42:31.461604Z"
    }
   },
   "outputs": [
    {
     "name": "stdout",
     "output_type": "stream",
     "text": [
      "['pytho', 'python', 'pythonn']\n"
     ]
    }
   ],
   "source": [
    "# '*' to match 0 or infinite times. \n",
    "\n",
    "b = 'pytho0python1pythonn2'  # Note that there is difference in the word 'python'\n",
    "\n",
    "# 'python*' means to match the word 'pytho' and also match 'n' after 'pytho' for 0 time or infinite times.\n",
    "r = re.findall('python*', b)\n",
    "print(r)"
   ]
  },
  {
   "cell_type": "code",
   "execution_count": 33,
   "metadata": {
    "ExecuteTime": {
     "end_time": "2020-05-24T18:42:31.857007Z",
     "start_time": "2020-05-24T18:42:31.851054Z"
    }
   },
   "outputs": [
    {
     "name": "stdout",
     "output_type": "stream",
     "text": [
      "['python', 'pythonn']\n"
     ]
    }
   ],
   "source": [
    "# '+' to match 1 or infinite times.\n",
    "\n",
    "b = 'pytho0python1pythonn2'  # Note that there is difference in the word 'python'\n",
    "\n",
    "# 'python+' means to match the word 'pytho' and also match 'n' after 'pytho' for 1 time or infinite times.\n",
    "r = re.findall('python+', b)\n",
    "print(r)"
   ]
  },
  {
   "cell_type": "code",
   "execution_count": 34,
   "metadata": {
    "ExecuteTime": {
     "end_time": "2020-05-24T18:43:17.148035Z",
     "start_time": "2020-05-24T18:43:17.142048Z"
    }
   },
   "outputs": [
    {
     "name": "stdout",
     "output_type": "stream",
     "text": [
      "['pytho', 'python', 'python']\n"
     ]
    }
   ],
   "source": [
    "# '?' to match 0 or 1 times.\n",
    "\n",
    "b = 'pytho0python1pythonn2'  # Note that there is difference in the word 'python'\n",
    "\n",
    "# 'python*' means to match the word 'pytho' and also match 'n' after 'pytho' for 0 time or 1 time.\n",
    "r = re.findall('python?', b)\n",
    "print(r)\n",
    "\n",
    "# Why the last one is matched and why it is matching 'python'?\n",
    "# Because the word 'pythonn' includes 'python', and this word matches the 'python?' search,\n",
    "# So it returns 'python' and removed the last 'n'"
   ]
  },
  {
   "cell_type": "markdown",
   "metadata": {},
   "source": [
    "## The use of `?` "
   ]
  },
  {
   "cell_type": "markdown",
   "metadata": {},
   "source": [
    "- In the non-greedy matching, we use `?` matching to convert the quantifiers to non-greedy. Here `?` is a converter. \n",
    "  \n",
    "  \n",
    "- `?`, on the other hand, also represents to match a certain character 0 or 1 time. Here `?` is a quantifier."
   ]
  },
  {
   "cell_type": "code",
   "execution_count": 38,
   "metadata": {
    "ExecuteTime": {
     "end_time": "2020-05-24T18:59:04.823312Z",
     "start_time": "2020-05-24T18:59:04.817292Z"
    }
   },
   "outputs": [
    {
     "name": "stdout",
     "output_type": "stream",
     "text": [
      "['python', 'pythonn']\n",
      "['python', 'python']\n"
     ]
    }
   ],
   "source": [
    "# If we do a bit modification.\n",
    "\n",
    "b = 'pytho0python1pythonn2'\n",
    "\n",
    "# Here {1,2} is to match 'n' for 1 or 2 times in greedy mode. So it prints both 'python' and 'pythonn'\n",
    "r = re.findall('python{1,2}', b)\n",
    "print(r)\n",
    "\n",
    "# Here we use '?' to convert greedy mode into non-greedy mode. So only 1 'n' will be printed.\n",
    "r1 = re.findall('python{1,2}?', b)\n",
    "print(r1)"
   ]
  },
  {
   "cell_type": "markdown",
   "metadata": {},
   "source": [
    "# Boundary matching"
   ]
  },
  {
   "cell_type": "code",
   "execution_count": 40,
   "metadata": {
    "ExecuteTime": {
     "end_time": "2020-05-24T19:40:31.145861Z",
     "start_time": "2020-05-24T19:40:31.139914Z"
    }
   },
   "outputs": [
    {
     "name": "stdout",
     "output_type": "stream",
     "text": [
      "[]\n"
     ]
    }
   ],
   "source": [
    "import re\n",
    "\n",
    "# Define an variable, it is a serial of numbers, whose length is between 4 to 8.\n",
    "f_id = '10000000001'\n",
    "\n",
    "# We could do the matching using '\\d{4,8}', but when the string has more than 8 numbers, it will only return 8 numbers.\n",
    "# We can use a more efficient regular expression, letting it to match the boundary\n",
    "r = re.findall('^\\d{4,8}$', f_id)\n",
    "print(r)\n"
   ]
  },
  {
   "cell_type": "markdown",
   "metadata": {},
   "source": [
    "- Boundary symbol `^` and `$`, use together to match the string from the left boundary and also from the right boundary at the same time. \n",
    "\n",
    "  \n",
    "  \n",
    "- `re.findall('^\\d{4,8}$', f_id)` means to greedy match 4 to 8 numbers in the string `f_id`, the matching happen both from the left end and the right end, if the two matching doesn't find the same, then return empty list `[]`. "
   ]
  },
  {
   "cell_type": "code",
   "execution_count": 44,
   "metadata": {
    "ExecuteTime": {
     "end_time": "2020-05-24T19:51:34.075519Z",
     "start_time": "2020-05-24T19:51:34.068538Z"
    }
   },
   "outputs": [
    {
     "name": "stdout",
     "output_type": "stream",
     "text": [
      "['000', '000', '000']\n",
      "[]\n",
      "[]\n"
     ]
    }
   ],
   "source": [
    "f_id = '100000000001'\n",
    "\n",
    "r = re.findall('000', f_id)\n",
    "print(r)\n",
    "\n",
    "r1 = re.findall('^000', f_id)\n",
    "print(r1)\n",
    "\n",
    "r2 = re.findall('000$', f_id)\n",
    "print(r2)"
   ]
  },
  {
   "cell_type": "markdown",
   "metadata": {},
   "source": [
    "-  `re.findall('^000', f_id)` matches `'000'` in `f_id` starting from the left boundary, it couldn't find, so return `[]`. \n",
    "  \n",
    "  \n",
    "- `re.findall('000$', f_id)` matches `'000'` in `f_id` starting from the right boundary, it couldn't find, so return `[]`."
   ]
  },
  {
   "cell_type": "markdown",
   "metadata": {},
   "source": [
    "# Group\n",
    "\n",
    "**Use () to represent group, the quantifier after group takes the whole group of characters to do matching.**"
   ]
  },
  {
   "cell_type": "code",
   "execution_count": 54,
   "metadata": {
    "ExecuteTime": {
     "end_time": "2020-05-24T20:17:30.992510Z",
     "start_time": "2020-05-24T20:17:30.977026Z"
    }
   },
   "outputs": [
    {
     "name": "stdout",
     "output_type": "stream",
     "text": [
      "['python']\n"
     ]
    }
   ],
   "source": [
    "import re\n",
    "\n",
    "a = 'pythonpythonpythonpython'\n",
    "\n",
    "# r = re.findall('python{3}', a)  \n",
    "# This only match 'n' for 3 times.\n",
    "\n",
    "r = re.findall('(python){3}', a flag)\n",
    "# By adding () around 'python', it matches 'python' for 3 times.\n",
    "\n",
    "print(r)\n",
    "\n",
    "# Why the output is not ['pythonpythonpython']?\n"
   ]
  },
  {
   "cell_type": "markdown",
   "metadata": {},
   "source": [
    "**Why the output is not `['pythonpythonpython']`?**\n",
    "\n",
    "Here is the python documentation for `re.findall()`:\n",
    "If one or more groups are present in the pattern, **return a list of groups**; this will be **a list of tuples if the pattern has more than one group**. Empty matches are included in the result.  \n",
    "  \n",
    "  \n"
   ]
  },
  {
   "cell_type": "markdown",
   "metadata": {},
   "source": [
    "**Group and set**  \n",
    "  \n",
    "  \n",
    "- Group use `()`, the characters in `()` has relationship of `and`.  \n",
    "  \n",
    "  \n",
    "- Set use `[]`, the characters in `[]` has relationship of `or`."
   ]
  },
  {
   "cell_type": "markdown",
   "metadata": {},
   "source": [
    "# Flags"
   ]
  },
  {
   "cell_type": "markdown",
   "metadata": {},
   "source": [
    "- flags defines matching modes. It is an argument that can be used in many methods in `re` module. \n",
    "  \n",
    "  \n",
    "  \n",
    "- The expression’s behaviour can be modified by specifying a `flags` value. Values can be any of the following variables, combined using bitwise OR (the `|` operator).  \n",
    "  \n",
    "  \n",
    "- `flags` has a default value `0`\n",
    "  \n",
    "  \n",
    "flags:\n",
    "- `re.A` or `re.ASCII`  \n",
    "  \n",
    "\n",
    "- `re.DEBUG`  \n",
    "  \n",
    "  \n",
    "\n",
    "- `re.I` or `re.IGNORECASE`  \n",
    "  \n",
    "  \n",
    "\n",
    "- `re.L` or `re.LOCALE`  \n",
    "  \n",
    "  \n",
    "\n",
    "- `re.M` or `re.MULTILINE`  \n",
    "  \n",
    "  \n",
    "\n",
    "- `re.S` or `re.DOTALL`  \n",
    "  \n",
    "  \n",
    "\n",
    "- `re.X` or `re.VERBOSE`"
   ]
  },
  {
   "cell_type": "code",
   "execution_count": 68,
   "metadata": {
    "ExecuteTime": {
     "end_time": "2020-05-25T00:10:12.289625Z",
     "start_time": "2020-05-25T00:10:12.282643Z"
    }
   },
   "outputs": [
    {
     "name": "stdout",
     "output_type": "stream",
     "text": [
      "['Java']\n",
      "[]\n",
      "['Java\\n']\n"
     ]
    }
   ],
   "source": [
    "# An example to use pass arguments to 'flags'.\n",
    "\n",
    "import re\n",
    "\n",
    "language = 'PythonC#Java\\nPHP'\n",
    "\n",
    "# 're.I' to ignore the case sensitivity.\n",
    "r = re.findall('java', language, re.I)  # Or 'flags = re.I'.\n",
    "print(r)\n",
    "\n",
    "# '.' matches all characters except '\\n'.\n",
    "# So 'java.{1}' means to match any one character other than \\n after 'java'\n",
    "r1 = re.findall('java.{1}', language, re.I)\n",
    "print(r1)  # Because '.' can't match `\\n' after 'Java', so it prints empty.\n",
    "\n",
    "# Pass multiple arguments to 'flags'. 're.S' makes '.' matches any character, including new line '\\n'\n",
    "r = re.findall('java.{1}', language, re.I | re.S)  # Or 'flags = re.I | re.S'.  '|' is the bitwise OR operator, meaning to apply both flags.\n",
    "print(r)\n"
   ]
  },
  {
   "cell_type": "markdown",
   "metadata": {},
   "source": [
    "# `re.sub()` method\n",
    "\n",
    "## Basic function\n",
    "\n",
    "**To substitute the strings that are found successfully**  \n",
    "  \n",
    "  \n",
    "**Syntax `re.sub(pattern, rep1, string, count=0, flags=0)`**   \n",
    "  \n",
    "    \n",
    "\n",
    "`rep1` means the replacement string once found a match.  \n",
    "  \n",
    "    \n",
    "    \n",
    "\n",
    "`count` means how many time do you want the replacement done. Default value is `0`, means the replacement can be done as many times until the end of the string.  \n"
   ]
  },
  {
   "cell_type": "code",
   "execution_count": 72,
   "metadata": {
    "ExecuteTime": {
     "end_time": "2020-05-25T00:30:21.552798Z",
     "start_time": "2020-05-25T00:30:21.544819Z"
    }
   },
   "outputs": [
    {
     "name": "stdout",
     "output_type": "stream",
     "text": [
      "PythonGOJava\n",
      "GOPHPGO\n",
      "PythonGOJava\n",
      "C#PHPC#\n"
     ]
    }
   ],
   "source": [
    "import re\n",
    "\n",
    "language = 'PythonC#Java\\nC#PHPC#'\n",
    "\n",
    "# Replace 'C#' with 'GO'\n",
    "r = re.sub('C#', 'GO', language)  # It will return the whol string with the replacement.\n",
    "print(r)\n",
    "\n",
    "# Now we pass value '1' to 'count'\n",
    "r1 = re.sub('C#', 'GO', language, 1)  # This will only do the replacement for only once.\n",
    "print(r1)\n",
    "\n",
    "# For simple replacment, we can also use python built-in method 'replace()'\n"
   ]
  },
  {
   "cell_type": "markdown",
   "metadata": {},
   "source": [
    "## Pass function to `re.sub()` as argument\n",
    "**Another powerful function of `re.sub()` is that the `rep1` argument could be a function.**"
   ]
  },
  {
   "cell_type": "code",
   "execution_count": 75,
   "metadata": {
    "ExecuteTime": {
     "end_time": "2020-05-25T00:38:18.489692Z",
     "start_time": "2020-05-25T00:38:18.483709Z"
    }
   },
   "outputs": [
    {
     "name": "stdout",
     "output_type": "stream",
     "text": [
      "PythonJava\n",
      "PHP\n"
     ]
    }
   ],
   "source": [
    "# Now we define a function and see.\n",
    "\n",
    "def convert(value):\n",
    "    pass\n",
    "\n",
    "r = re.sub('C#', convert, language)\n",
    "print(r)\n",
    "\n",
    "# Why 'C#' are all gone in the output?"
   ]
  },
  {
   "cell_type": "markdown",
   "metadata": {},
   "source": [
    "- When we pass a function to the argument `rep1`, like here, we pass `convert` function to `rep1`, every match string will be passed to the function's parameter.  \n",
    "  \n",
    "    \n",
    "\n",
    "- The return value (**Note: THE RETURN VALUE**) of the function will be used as the replacement.  \n",
    "  \n",
    "    \n",
    "\n",
    "- E.g. when `C#` is matched, `C#` itself will be passed to the parameter `value` of the function `convert`.  So now `value` will have a value `C#`.\n",
    "  \n",
    "    \n",
    "- The return value of function `convert`, which is now `None`, will be used as the replacement. Therefore, all `C#` is replaced by `None`, which is empty."
   ]
  },
  {
   "cell_type": "code",
   "execution_count": 78,
   "metadata": {
    "ExecuteTime": {
     "end_time": "2020-05-25T00:53:56.545591Z",
     "start_time": "2020-05-25T00:53:56.538607Z"
    }
   },
   "outputs": [
    {
     "name": "stdout",
     "output_type": "stream",
     "text": [
      "<re.Match object; span=(6, 8), match='C#'>\n",
      "<re.Match object; span=(13, 15), match='C#'>\n",
      "<re.Match object; span=(18, 20), match='C#'>\n",
      "PythonJava\n",
      "PHP\n"
     ]
    }
   ],
   "source": [
    "# Now let the function do some operations on the parameter\n",
    "\n",
    "# Firstly, let's see what is the value of the parameter 'value'\n",
    "def convert(value):\n",
    "    print(value)\n",
    "\n",
    "r = re.sub('C#', convert, language)\n",
    "print(r)"
   ]
  },
  {
   "cell_type": "markdown",
   "metadata": {},
   "source": [
    "- We can see that the value of the parameter `value` of function `convert` are not simply string `C#`. They are a re.Math object, that not only has the matched string, but also has the information of position of each matched string in the original string.  \n",
    "  \n",
    "  \n",
    "- For example, the first value `<re.Match object; span=(6, 8), match='C#'>`, means the matched characters `C#` has 6 characters in front of it and it ends as the 8th character.\n",
    "  \n",
    "  \n",
    "- We can also see that `value` now has three values, which is making sense, as there are three `C#` matched, so the function `convert` is called three times.   \n",
    "\n",
    "  \n",
    "- To get the matched characters in the values of the re.Math object, we can use `parameter.group()` method. Here, it would be `value.group()`."
   ]
  },
  {
   "cell_type": "code",
   "execution_count": 79,
   "metadata": {
    "ExecuteTime": {
     "end_time": "2020-05-25T01:09:55.536354Z",
     "start_time": "2020-05-25T01:09:55.528408Z"
    }
   },
   "outputs": [
    {
     "name": "stdout",
     "output_type": "stream",
     "text": [
      "Python!!C#!!Java\n",
      "!!C#!!PHP!!C#!!\n"
     ]
    }
   ],
   "source": [
    "# now, we get the matched characters in the function.\n",
    "\n",
    "def convert(value):\n",
    "    matched = value.group()\n",
    "    return '!!' + matched + '!!'\n",
    "\n",
    "r = re.sub('C#', convert, language)\n",
    "print(r)"
   ]
  },
  {
   "cell_type": "markdown",
   "metadata": {},
   "source": [
    "- Now we can see that all the `C#` in the original string has been dynamically replaced by `!!C#!!`.  \n",
    "  \n",
    "  \n",
    "- This is very useful, because most of the time, we are not just replacing a constant. We ofter need to do some operations on the matches. And sometimes we need to do different replace operation based on different match result. Under these scenarios, it would be very difficult to implement this without the help of functions."
   ]
  },
  {
   "cell_type": "markdown",
   "metadata": {},
   "source": [
    "## An example of passing function to `re.sub()` as argument"
   ]
  },
  {
   "cell_type": "code",
   "execution_count": 81,
   "metadata": {
    "ExecuteTime": {
     "end_time": "2020-05-25T02:06:23.043746Z",
     "start_time": "2020-05-25T02:06:23.030156Z"
    }
   },
   "outputs": [
    {
     "name": "stdout",
     "output_type": "stream",
     "text": [
      "A9C0900D99\n"
     ]
    }
   ],
   "source": [
    "# Aim: Find the numbers in string 's', for the numbers >=6, replace them to 9;\n",
    "# for the numbers < 6, replace them to 0.\n",
    "\n",
    "import re\n",
    "s = 'A8C3721D86'\n",
    "\n",
    "def convert(value):\n",
    "    matched = value.group()\n",
    "    if int(matched) >= 6:  # To values.group() returns string, so need to convert to interger to do comparison.\n",
    "        return '9'         # We can't pass a number to the 're.sub()' function for replacement, it has to be a string.\n",
    "    else:\n",
    "        return '0'\n",
    "\n",
    "r = re.sub('\\d', convert, s)\n",
    "print(r)"
   ]
  },
  {
   "cell_type": "markdown",
   "metadata": {},
   "source": [
    "- It is a very classical programming designing thinking for a function is able to receive another function as one of the arguments. \n",
    "  \n",
    "  \n",
    "- Because, usually the program designer won't be able to decide for the users what is the logic of using this program. Therefore, the designer will leave a port (like `convert` in the example) and let the users to implement their own logic.  \n",
    "  \n",
    "  \n",
    "- Now, the designer will require the user to pass a function as an argument, so that he can call that function in the program and provide a intermediate value for passing it to the user defined function.\n",
    "  \n",
    "  \n",
    "- The designer doesn't care how the user manipulate the intermediate value to implement their logic. The only thing the designer needs is to receive a return value from the user-defined function and take as the argument into the program.  \n",
    "  \n",
    "  \n",
    "- In another word, to use my program, define your own function, pass it to my program as argument. Then I will give you a intermediate value for you to implement your logic, and you give me your function return for me to make my program run properly.\n",
    "\n"
   ]
  },
  {
   "cell_type": "markdown",
   "metadata": {},
   "source": [
    "# `re.search()` and `re.match()` methods"
   ]
  },
  {
   "cell_type": "markdown",
   "metadata": {},
   "source": [
    "`match()` syntax: `re.math(pattern, string, flags=0)`  \n",
    "If zero or more characters **at the beginning of string** match the regular expression pattern, return a corresponding **match object**. Return `None` if the string does not match the pattern; note that this is different from a zero-length match. \n",
    "  \n",
    "  \n",
    "`search()` syntax: `re.search(pattern, string, flags=0)`  \n",
    "**Scan through string** looking for the **first location** where the regular expression pattern produces a match, and return a corresponding **match object**. Return `None` if no position in the string matches the pattern; note that this is different from finding a zero-length match at some point in the string. \n",
    "    \n",
    "    \n",
    "We can see the parameters of these two method are the same and also the same as `re.findall()`"
   ]
  },
  {
   "cell_type": "code",
   "execution_count": 88,
   "metadata": {
    "ExecuteTime": {
     "end_time": "2020-05-25T02:52:27.246428Z",
     "start_time": "2020-05-25T02:52:27.239449Z"
    }
   },
   "outputs": [
    {
     "name": "stdout",
     "output_type": "stream",
     "text": [
      "<re.Match object; span=(0, 1), match='1'>\n",
      "(0, 1)\n",
      "<re.Match object; span=(0, 1), match='1'>\n",
      "1\n"
     ]
    }
   ],
   "source": [
    "import re\n",
    "\n",
    "s = '1A83C72D1D8E67'\n",
    "\n",
    "r = re.match('\\d', s)\n",
    "print(r)\n",
    "print(r.span())\n",
    "\n",
    "r1 = re.search('\\d', s)\n",
    "print(r1)\n",
    "print(r1.group())"
   ]
  },
  {
   "cell_type": "markdown",
   "metadata": {},
   "source": [
    "- `search()` and `math()` returns match object, but no a direct string.  \n",
    "  \n",
    "  \n",
    "- To access the matched string, we need to use `group()` method.  \n",
    "  \n",
    "  \n",
    "- Can also get the match position using `span()` method.  \n",
    "\n",
    "  \n",
    "- Both method only match once, the match will stop once they find the first match."
   ]
  },
  {
   "cell_type": "markdown",
   "metadata": {},
   "source": [
    "# `group()`, `groups()` and Grouping\n",
    "## Use `group()`"
   ]
  },
  {
   "cell_type": "code",
   "execution_count": 94,
   "metadata": {
    "ExecuteTime": {
     "end_time": "2020-05-25T03:20:20.625104Z",
     "start_time": "2020-05-25T03:20:20.603162Z"
    }
   },
   "outputs": [
    {
     "name": "stdout",
     "output_type": "stream",
     "text": [
      "life is short, i use python\n",
      " is short, i use \n"
     ]
    }
   ],
   "source": [
    "# Aim: to extract the characters between 'life' and 'python' in the following string.\n",
    "\n",
    "import re\n",
    "\n",
    "s = 'life is short, i use python'\n",
    "\n",
    "r = re.search('life\\wpython', s)\n",
    "#print(r.group())\n",
    "# This will give error, because, '\\w' represent only 1 character, by defining the boundary, the return is 'None'\n",
    "\n",
    "r1 = re.search('life\\w*python', s)  # So use '\\w*'\n",
    "#print(r1.group())\n",
    "# Still error, because '\\w' doesn't reprent 'space' character (This is not empty string ' '). So it couldn't match.\n",
    "\n",
    "r2 = re.search('life.*python', s)\n",
    "print(r2.group())\n",
    "# But this returns the whole string, not what we need in the aim.\n",
    "\n",
    "r3 = re.search('life(.*)python', s)\n",
    "print(r3.group(1))\n",
    "#  Regular expression has groups, each expression is a group.\n",
    "# We talked about grouping before, to use () to define a group.\n",
    "# In this example, the whole expression 'life.*python' is a group, so we could use () on it '(life.*python)'\n",
    "# But there is only one expression here, so () can be omitted.\n",
    "# For matching, python will match the whole group of the expression, therefore, 'life' and 'python' are also returned.\n",
    "# To remove the boundary, we can exclude them outside a group, 'life(.*)python'\n",
    "# Now, the group is (.*), we can assign the group number in the group() to return the matches.\n",
    "# We need do print(r.group(1)) to have the expected return. \n",
    "# group(0) is default argument, returning the match of the whole expression, but not the group"
   ]
  },
  {
   "cell_type": "code",
   "execution_count": 95,
   "metadata": {
    "ExecuteTime": {
     "end_time": "2020-05-25T23:17:05.169999Z",
     "start_time": "2020-05-25T23:17:05.164015Z"
    }
   },
   "outputs": [
    {
     "name": "stdout",
     "output_type": "stream",
     "text": [
      "[' is short, i use ']\n"
     ]
    }
   ],
   "source": [
    "# The advantage of 're.findall()' in implementing this aim is that it doesn't need to pass the group() function\n",
    "\n",
    "r4 = re.findall('life(.*)python', s)\n",
    "print(r4)"
   ]
  },
  {
   "cell_type": "markdown",
   "metadata": {},
   "source": [
    "## Multiple groups"
   ]
  },
  {
   "cell_type": "code",
   "execution_count": 98,
   "metadata": {
    "ExecuteTime": {
     "end_time": "2020-05-25T23:28:22.773285Z",
     "start_time": "2020-05-25T23:28:22.763336Z"
    }
   },
   "outputs": [
    {
     "name": "stdout",
     "output_type": "stream",
     "text": [
      "life is short, i use python, i love python\n",
      " is short, i use \n",
      ", i love \n",
      "('life is short, i use python, i love python', ' is short, i use ', ', i love ')\n",
      "(' is short, i use ', ', i love ')\n"
     ]
    }
   ],
   "source": [
    "# Aim: to extract the characters between 'life' and 'python' \n",
    "# as well as the characters between the two 'python' in the following string.\n",
    "\n",
    "import re\n",
    "\n",
    "s = 'life is short, i use python, i love python'\n",
    "\n",
    "r = re.search('life(.*)python(.*)python', s)\n",
    "print(r.group(0))\n",
    "print(r.group(1))\n",
    "print(r.group(2))\n",
    "\n",
    "print(r.group(0,1,2))\n",
    "\n",
    "print(r.groups())"
   ]
  },
  {
   "cell_type": "markdown",
   "metadata": {},
   "source": [
    "- With two `()` in the expression, we have to groups to match.  \n",
    "\n",
    "  \n",
    "- We can use multiple group numbers in the `group()` method, it returns all the matches for each group in a tuple.  \n",
    "  \n",
    "  \n",
    "- Accessing the group one by one only returns regular strings.  \n",
    "  \n",
    "  \n",
    "- `groups()` will only returns the matching of the groups, also in a tuple, but doesn't return the whole string, which is returned by `group(0)`."
   ]
  },
  {
   "cell_type": "markdown",
   "metadata": {},
   "source": [
    "**There are many regular expression that other people write for different scenario, which you can use directly. We can use them, but also always to test and alway to learn from others.**"
   ]
  },
  {
   "cell_type": "code",
   "execution_count": null,
   "metadata": {},
   "outputs": [],
   "source": []
  }
 ],
 "metadata": {
  "kernelspec": {
   "display_name": "Python 3",
   "language": "python",
   "name": "python3"
  },
  "language_info": {
   "codemirror_mode": {
    "name": "ipython",
    "version": 3
   },
   "file_extension": ".py",
   "mimetype": "text/x-python",
   "name": "python",
   "nbconvert_exporter": "python",
   "pygments_lexer": "ipython3",
   "version": "3.7.6"
  },
  "toc": {
   "base_numbering": 1,
   "nav_menu": {},
   "number_sections": true,
   "sideBar": true,
   "skip_h1_title": false,
   "title_cell": "Table of Contents",
   "title_sidebar": "Contents",
   "toc_cell": false,
   "toc_position": {},
   "toc_section_display": true,
   "toc_window_display": true
  },
  "varInspector": {
   "cols": {
    "lenName": 16,
    "lenType": 16,
    "lenVar": 40
   },
   "kernels_config": {
    "python": {
     "delete_cmd_postfix": "",
     "delete_cmd_prefix": "del ",
     "library": "var_list.py",
     "varRefreshCmd": "print(var_dic_list())"
    },
    "r": {
     "delete_cmd_postfix": ") ",
     "delete_cmd_prefix": "rm(",
     "library": "var_list.r",
     "varRefreshCmd": "cat(var_dic_list()) "
    }
   },
   "types_to_exclude": [
    "module",
    "function",
    "builtin_function_or_method",
    "instance",
    "_Feature"
   ],
   "window_display": false
  }
 },
 "nbformat": 4,
 "nbformat_minor": 4
}
