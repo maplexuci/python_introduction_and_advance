{
 "cells": [
  {
   "cell_type": "markdown",
   "metadata": {},
   "source": [
    "# While loop"
   ]
  },
  {
   "cell_type": "code",
   "execution_count": 1,
   "metadata": {
    "ExecuteTime": {
     "end_time": "2020-05-20T16:56:29.682257Z",
     "start_time": "2020-05-20T16:56:29.669090Z"
    }
   },
   "outputs": [],
   "source": [
    "# Basec structure of while loop\n",
    "\n",
    "# while condition:\n",
    "#     code block\n"
   ]
  },
  {
   "cell_type": "markdown",
   "metadata": {
    "ExecuteTime": {
     "end_time": "2020-05-20T17:08:00.544554Z",
     "start_time": "2020-05-20T16:57:09.967628Z"
    }
   },
   "source": [
    "condition = True\n",
    "while condition:\n",
    "    print('This is a while loop')\n",
    "    \n",
    "This is a dead loop, will run infinitely, if you don't stop it. It should be avoid to write like this."
   ]
  },
  {
   "cell_type": "code",
   "execution_count": 3,
   "metadata": {
    "ExecuteTime": {
     "end_time": "2020-05-20T17:08:11.448722Z",
     "start_time": "2020-05-20T17:08:11.440743Z"
    }
   },
   "outputs": [
    {
     "name": "stdout",
     "output_type": "stream",
     "text": [
      "2\n",
      "3\n",
      "4\n",
      "5\n",
      "6\n",
      "7\n",
      "8\n",
      "9\n",
      "10\n",
      "11\n"
     ]
    }
   ],
   "source": [
    "counter = 1\n",
    "while counter <= 10:\n",
    "    counter += 1\n",
    "    print(counter)\n",
    "else:  # When the while condition is False.\n",
    "    print('EOF')"
   ]
  },
  {
   "cell_type": "code",
   "execution_count": 4,
   "metadata": {
    "ExecuteTime": {
     "end_time": "2020-05-20T17:20:39.620830Z",
     "start_time": "2020-05-20T17:20:39.602141Z"
    }
   },
   "outputs": [],
   "source": [
    "# While loop works best in recursion"
   ]
  },
  {
   "cell_type": "markdown",
   "metadata": {},
   "source": [
    "# For loop"
   ]
  },
  {
   "cell_type": "code",
   "execution_count": 5,
   "metadata": {
    "ExecuteTime": {
     "end_time": "2020-05-20T17:25:52.956077Z",
     "start_time": "2020-05-20T17:25:52.951116Z"
    }
   },
   "outputs": [],
   "source": [
    "# For loop used to walk-through the whole elements of a group\n",
    "# Basic structure\n",
    "\n",
    "# for x in object:\n",
    "#     code block\n",
    "\n",
    "# Nesting for loop\n",
    "# for x in object:\n",
    "#     for y in x:\n",
    "#         for z in y:\n",
    "#             code"
   ]
  },
  {
   "cell_type": "code",
   "execution_count": 6,
   "metadata": {
    "ExecuteTime": {
     "end_time": "2020-05-20T17:27:54.259138Z",
     "start_time": "2020-05-20T17:27:54.249192Z"
    }
   },
   "outputs": [
    {
     "name": "stdout",
     "output_type": "stream",
     "text": [
      "apple\n",
      "orange\n",
      "banana\n",
      "grape\n",
      "1\n",
      "2\n",
      "3\n",
      "fruit is gone\n"
     ]
    }
   ],
   "source": [
    "a = [['apple', 'orange', 'banana', 'grape'], (1, 2, 3)]\n",
    "for x in a:\n",
    "    for y in x:\n",
    "        print(y)\n",
    "else:  # Excute when all the elements are walked-through. Not used commonly.\n",
    "    print('fruit is gone')"
   ]
  },
  {
   "cell_type": "code",
   "execution_count": 10,
   "metadata": {
    "ExecuteTime": {
     "end_time": "2020-05-20T17:31:21.801282Z",
     "start_time": "2020-05-20T17:31:21.796298Z"
    }
   },
   "outputs": [
    {
     "name": "stdout",
     "output_type": "stream",
     "text": [
      "1\n",
      "2\n",
      "3\n"
     ]
    }
   ],
   "source": [
    "b = [1, 2, 3]\n",
    "for x in b: \n",
    "    print(x) # what is the output?"
   ]
  },
  {
   "cell_type": "code",
   "execution_count": 8,
   "metadata": {
    "ExecuteTime": {
     "end_time": "2020-05-20T17:29:36.518920Z",
     "start_time": "2020-05-20T17:29:36.512936Z"
    }
   },
   "outputs": [
    {
     "name": "stdout",
     "output_type": "stream",
     "text": [
      "1\n"
     ]
    }
   ],
   "source": [
    "# Add conditions in for loop\n",
    "b = [1, 2, 3]\n",
    "for x in b:\n",
    "    if x == 2:\n",
    "        break  # Stop looping, \n",
    "    print(x) # what is the output?"
   ]
  },
  {
   "cell_type": "code",
   "execution_count": 9,
   "metadata": {
    "ExecuteTime": {
     "end_time": "2020-05-20T17:30:49.323555Z",
     "start_time": "2020-05-20T17:30:49.317573Z"
    }
   },
   "outputs": [
    {
     "name": "stdout",
     "output_type": "stream",
     "text": [
      "1\n",
      "3\n"
     ]
    }
   ],
   "source": [
    "for x in b:\n",
    "    if x == 2:\n",
    "        continue  # Stop current looping, but will continue from the next one.\n",
    "    print(x) # what is the output?"
   ]
  },
  {
   "cell_type": "code",
   "execution_count": 11,
   "metadata": {
    "ExecuteTime": {
     "end_time": "2020-05-20T17:33:26.673087Z",
     "start_time": "2020-05-20T17:33:26.665115Z"
    }
   },
   "outputs": [
    {
     "name": "stdout",
     "output_type": "stream",
     "text": [
      "1\n"
     ]
    }
   ],
   "source": [
    "b = [1, 2, 3]\n",
    "for x in b:\n",
    "    if x == 2:\n",
    "        break  # Stop looping, \n",
    "    print(x) # what is the output?\n",
    "else:\n",
    "    print('EOF')  # else won't excute if the for loop doesn't loop to the end."
   ]
  },
  {
   "cell_type": "code",
   "execution_count": 12,
   "metadata": {
    "ExecuteTime": {
     "end_time": "2020-05-20T17:34:53.975192Z",
     "start_time": "2020-05-20T17:34:53.958436Z"
    }
   },
   "outputs": [
    {
     "name": "stdout",
     "output_type": "stream",
     "text": [
      "apple\n",
      "1\n",
      "2\n",
      "3\n",
      "fruit is gone\n"
     ]
    }
   ],
   "source": [
    "# What about this?\n",
    "for x in a:\n",
    "    for y in x:\n",
    "        if y == 'orange':\n",
    "            break\n",
    "        print(y)\n",
    "else:  # Why this else statement is excuted? Because break only breaks the inner looping (current layer of looping), the outter looping still continue.s\n",
    "       # In this case, break only stops the y looping in x, but not stopping x looping in a.\n",
    "    print('fruit is gone')"
   ]
  },
  {
   "cell_type": "code",
   "execution_count": 13,
   "metadata": {
    "ExecuteTime": {
     "end_time": "2020-05-20T17:38:16.325292Z",
     "start_time": "2020-05-20T17:38:16.320303Z"
    }
   },
   "outputs": [],
   "source": [
    "# What about this example, why no output at all?\n",
    "for x in a:\n",
    "    if 'banana' in x:\n",
    "        break  # This break stops the looping in the outer layer of looping, therefor, all the rest of the code is not excuting.\n",
    "    for y in x:\n",
    "        if y == 'orange':\n",
    "            break\n",
    "        print(y)\n",
    "else:\n",
    "    print('fruit is gone')"
   ]
  },
  {
   "cell_type": "code",
   "execution_count": 14,
   "metadata": {
    "ExecuteTime": {
     "end_time": "2020-05-20T17:48:56.913558Z",
     "start_time": "2020-05-20T17:48:56.907574Z"
    }
   },
   "outputs": [
    {
     "name": "stdout",
     "output_type": "stream",
     "text": [
      "0\n",
      "1\n",
      "2\n",
      "3\n",
      "4\n",
      "5\n",
      "6\n",
      "7\n",
      "8\n",
      "9\n"
     ]
    }
   ],
   "source": [
    "# Use range() function to let for looping the desired number of times\n",
    "for x in range(10): # range starts with 0 and the number indicated is exluded.\n",
    "    print(x)"
   ]
  },
  {
   "cell_type": "code",
   "execution_count": 17,
   "metadata": {
    "ExecuteTime": {
     "end_time": "2020-05-20T17:51:56.732703Z",
     "start_time": "2020-05-20T17:51:56.725722Z"
    }
   },
   "outputs": [
    {
     "name": "stdout",
     "output_type": "stream",
     "text": [
      "0 | 2 | 4 | 6 | 8 | "
     ]
    }
   ],
   "source": [
    "for x in range(0,10,2):\n",
    "    print(x, end=' | ')"
   ]
  },
  {
   "cell_type": "code",
   "execution_count": 18,
   "metadata": {
    "ExecuteTime": {
     "end_time": "2020-05-20T17:52:18.028447Z",
     "start_time": "2020-05-20T17:52:18.022496Z"
    }
   },
   "outputs": [
    {
     "name": "stdout",
     "output_type": "stream",
     "text": [
      "10 | 8 | 6 | 4 | 2 | "
     ]
    }
   ],
   "source": [
    "for x in range(10,0,-2):\n",
    "    print(x, end=' | ')"
   ]
  },
  {
   "cell_type": "code",
   "execution_count": 19,
   "metadata": {
    "ExecuteTime": {
     "end_time": "2020-05-20T17:55:07.710846Z",
     "start_time": "2020-05-20T17:55:07.704863Z"
    }
   },
   "outputs": [
    {
     "name": "stdout",
     "output_type": "stream",
     "text": [
      "1 | 3 | 5 | 7 | "
     ]
    }
   ],
   "source": [
    "a = [1,2,3,4,5,6,7,8]\n",
    "for i in range(0, len(a), 2):\n",
    "    print(a[i], end = ' | ')"
   ]
  },
  {
   "cell_type": "code",
   "execution_count": 21,
   "metadata": {
    "ExecuteTime": {
     "end_time": "2020-05-20T17:56:24.525468Z",
     "start_time": "2020-05-20T17:56:24.520481Z"
    }
   },
   "outputs": [
    {
     "name": "stdout",
     "output_type": "stream",
     "text": [
      "[1, 3, 5, 7] | "
     ]
    }
   ],
   "source": [
    "# Same way of pick specific number, also called slicing, but this returns a list, \n",
    "# the same type as the object been opreated.\n",
    "b = a[0:len(a):2]\n",
    "print(b, end = ' | ')"
   ]
  },
  {
   "cell_type": "code",
   "execution_count": null,
   "metadata": {},
   "outputs": [],
   "source": []
  }
 ],
 "metadata": {
  "kernelspec": {
   "display_name": "Python 3",
   "language": "python",
   "name": "python3"
  },
  "language_info": {
   "codemirror_mode": {
    "name": "ipython",
    "version": 3
   },
   "file_extension": ".py",
   "mimetype": "text/x-python",
   "name": "python",
   "nbconvert_exporter": "python",
   "pygments_lexer": "ipython3",
   "version": "3.7.6"
  },
  "toc": {
   "base_numbering": 1,
   "nav_menu": {},
   "number_sections": true,
   "sideBar": true,
   "skip_h1_title": false,
   "title_cell": "Table of Contents",
   "title_sidebar": "Contents",
   "toc_cell": false,
   "toc_position": {},
   "toc_section_display": true,
   "toc_window_display": false
  },
  "varInspector": {
   "cols": {
    "lenName": 16,
    "lenType": 16,
    "lenVar": 40
   },
   "kernels_config": {
    "python": {
     "delete_cmd_postfix": "",
     "delete_cmd_prefix": "del ",
     "library": "var_list.py",
     "varRefreshCmd": "print(var_dic_list())"
    },
    "r": {
     "delete_cmd_postfix": ") ",
     "delete_cmd_prefix": "rm(",
     "library": "var_list.r",
     "varRefreshCmd": "cat(var_dic_list()) "
    }
   },
   "types_to_exclude": [
    "module",
    "function",
    "builtin_function_or_method",
    "instance",
    "_Feature"
   ],
   "window_display": false
  }
 },
 "nbformat": 4,
 "nbformat_minor": 4
}
