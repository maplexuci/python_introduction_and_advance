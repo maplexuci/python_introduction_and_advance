{
 "cells": [
  {
   "cell_type": "markdown",
   "metadata": {},
   "source": [
    "# Enumeration"
   ]
  },
  {
   "cell_type": "markdown",
   "metadata": {},
   "source": [
    "How to describe the concept of 'Genre' in python?\n",
    "In the real world, we usually use numbers to represent different genres, given that we may have the idea of what genre is represented by each number.\n",
    "But in computer, say if some numbers are stored in the database to represent some genres, when we read the numbers, we don't know what genre does it represent, unless we tell computer what does each number represent. Because number itself doesn't have the descriptive characteristic. This greatly destroys the readability of the code.\n",
    "In python, the `dict` data type is a suitable data for representing genres.\n",
    "\n",
    "Enumeration is a good type for describing genres.\n"
   ]
  },
  {
   "cell_type": "markdown",
   "metadata": {},
   "source": [
    "An enumeration is **a set of symbolic names (members) bound to unique, constant values**. Within an enumeration, the members can be compared by identity, and the enumeration itself can be iterated over."
   ]
  },
  {
   "cell_type": "markdown",
   "metadata": {},
   "source": [
    "## Create an enumeration type `Enum`"
   ]
  },
  {
   "cell_type": "code",
   "execution_count": 6,
   "metadata": {
    "ExecuteTime": {
     "end_time": "2020-05-26T15:05:36.303175Z",
     "start_time": "2020-05-26T15:05:36.296191Z"
    }
   },
   "outputs": [
    {
     "name": "stdout",
     "output_type": "stream",
     "text": [
      "VIP.YELLOW\n",
      "VIP.YELLOW\n"
     ]
    }
   ],
   "source": [
    "# Need to import `Enum` class from `enum` module.\n",
    "\n",
    "from enum import Enum\n",
    "\n",
    "# To create an 'Enum', we need to define a class that inherit the `Enum` class.\n",
    "# And remember that an 'Enum' is a set of unique, constant values.\n",
    "# Members names of the 'Enum' should be all capitalized.\n",
    "\n",
    "class VIP(Enum):\n",
    "    YELLOW = 1\n",
    "    GREEN = 1\n",
    "    BLACK = 3\n",
    "    RED = 4\n",
    "    \n",
    "print(VIP.YELLOW)  # What the return will be?\n",
    "print(VIP.GREEN)   # What does this return?\n",
    "\n",
    "#VIP.YELLOW = 6  # Can you do this?\n"
   ]
  },
  {
   "cell_type": "markdown",
   "metadata": {},
   "source": [
    "- Class inherited from `Enum` is a class, but it also has differences to the normal classes.  \n",
    "  \n",
    "  \n",
    "- In the above example, if `VIP` is ordinary class, `print(VIP.YELLOW)` will return the value of `YELLOW`, which is `1`.  \n",
    "  \n",
    "  \n",
    "- But it actually returns `VIP.YELLOW`. And that's where enumeration makes sense, because, what we want to know is what members are in this `Enum` class, and that is enough. If it returns `1` like an ordinary class, the `Enum` will lose it's significance, because we still do not know what members are exactly in the `Enum`, we only get numbers and numbers are not descriptive.  \n",
    "  \n",
    "  \n",
    "- Actually, we can assign the value of each member of a `Enum` any type of data, but they need to be different from each other.  \n",
    "  \n",
    "  \n",
    "- "
   ]
  },
  {
   "cell_type": "markdown",
   "metadata": {},
   "source": [
    "## Characteristic of `Enum`"
   ]
  },
  {
   "cell_type": "markdown",
   "metadata": {},
   "source": [
    "- The value of the members could not be changed. That's why `VIP.YELLOW = 6` will give error `Cannot reassign members`.  \n",
    "  \n",
    "  \n",
    "- The same operation will be possible for a `dict` or an ordinary class.  \n",
    "  \n",
    "  \n",
    "- The value of each member should be different from each other\n",
    "  \n",
    "\n",
    "- The labels (names) of each member are different from each other. `Enum` provide protective mechanism to preventing creating members with the same labels. So if we try to define another `YELLOW = 3` inside of the `VIP` class, we will get `Attempted to reuse key: 'Yellow'` error.   \n",
    "  \n",
    "  \n",
    "- But in a `dict` or an ordinary class, different `key` or different variables can have the same value.  \n",
    "  \n",
    "  \n",
    "- \n",
    "  \n",
    "  \n"
   ]
  },
  {
   "cell_type": "markdown",
   "metadata": {},
   "source": [
    "## Operation on `Enum`\n",
    "### Type, name and value of `Enum`"
   ]
  },
  {
   "cell_type": "code",
   "execution_count": 13,
   "metadata": {
    "ExecuteTime": {
     "end_time": "2020-05-26T15:40:55.992341Z",
     "start_time": "2020-05-26T15:40:55.984364Z"
    }
   },
   "outputs": [
    {
     "name": "stdout",
     "output_type": "stream",
     "text": [
      "3\n",
      "GREEN\n",
      "<class 'str'>\n",
      "VIP.GREEN\n",
      "<enum 'VIP'>\n",
      "VIP.GREEN\n"
     ]
    }
   ],
   "source": [
    "# Get the value, name of enum member\n",
    "\n",
    "from enum import Enum\n",
    "\n",
    "class VIP(Enum):\n",
    "    YELLOW = 1\n",
    "    GREEN = 2\n",
    "    BLACK = 3\n",
    "    RED = 4\n",
    "    \n",
    "print(VIP.BLACK.value) \n",
    "\n",
    "print(VIP.GREEN.name)  # What is the difference with 'print(VIP.GREEN)', we can use type() to check.\n",
    "print(type(VIP.GREEN.name))\n",
    "\n",
    "print(VIP.GREEN)\n",
    "print(type(VIP.GREEN))\n",
    "\n",
    "# Get enum name from enum class\n",
    "print(VIP['GREEN'])"
   ]
  },
  {
   "cell_type": "markdown",
   "metadata": {},
   "source": [
    "- `VIP.GREEN.name` returns only the name of the member, it is a string.  \n",
    "  \n",
    "  \n",
    "- `VIP.GREEN` returns a enum type, here is `VIP`, under `Enum`.  \n",
    "  \n",
    "  \n",
    "-  So we can access the name of each enum name through the enum type, `VIP['GREEN']`, which will return `VIP.GREEN`"
   ]
  },
  {
   "cell_type": "markdown",
   "metadata": {},
   "source": [
    "### Iteration of `Enum`"
   ]
  },
  {
   "cell_type": "code",
   "execution_count": 15,
   "metadata": {
    "ExecuteTime": {
     "end_time": "2020-05-26T15:45:07.464178Z",
     "start_time": "2020-05-26T15:45:07.457196Z"
    }
   },
   "outputs": [
    {
     "name": "stdout",
     "output_type": "stream",
     "text": [
      "VIP.YELLOW\n",
      "VIP.GREEN\n",
      "VIP.BLACK\n",
      "VIP.RED\n"
     ]
    }
   ],
   "source": [
    "for v in VIP:\n",
    "    print(v)"
   ]
  },
  {
   "cell_type": "markdown",
   "metadata": {},
   "source": [
    "**Iteration on `Enum` will return every enum type under that `Enum`**"
   ]
  },
  {
   "cell_type": "markdown",
   "metadata": {},
   "source": [
    "## Comparison between enum type"
   ]
  },
  {
   "cell_type": "code",
   "execution_count": 22,
   "metadata": {
    "ExecuteTime": {
     "end_time": "2020-05-26T15:53:12.023757Z",
     "start_time": "2020-05-26T15:53:12.007703Z"
    }
   },
   "outputs": [
    {
     "name": "stdout",
     "output_type": "stream",
     "text": [
      "True\n",
      "False\n",
      "True\n",
      "True\n",
      "False\n"
     ]
    }
   ],
   "source": [
    "from enum import Enum\n",
    "\n",
    "class VIP(Enum):\n",
    "    YELLOW = 1\n",
    "    GREEN = 2\n",
    "    BLACK = 3\n",
    "    RED = 4\n",
    "    \n",
    "print(VIP.GREEN == VIP.GREEN)\n",
    "\n",
    "print(VIP.GREEN == 2)  # Why this returns False?\n",
    "\n",
    "print(VIP.GREEN.value == 2)\n",
    "\n",
    "# print(VIP.GREEN > VIP.BLACK)  # Why this gives error?\n",
    "\n",
    "print(VIP.GREEN is VIP.GREEN)\n",
    "\n",
    "\n",
    "# We create another 'Enum' class, with the same member name and value.\n",
    "class VIP1(Enum):\n",
    "    YELLOW = 1\n",
    "    GREEN = 2\n",
    "    BLACK = 3\n",
    "    RED = 4\n",
    "\n",
    "print(VIP.GREEN == VIP1.GREEN)\n",
    "\n"
   ]
  },
  {
   "cell_type": "markdown",
   "metadata": {},
   "source": [
    "-  We can do identity comparison between enumeration types (the members), like this `VIP.GREEN == VIP.GREEN`.  \n",
    "  \n",
    "  \n",
    "- We can not compare enum type directly with value, like this `VIP.GREEN == 2`, but we can do this by call the `value` of an enum type, like `VIP.GREEN.value == 2`.  \n",
    "  \n",
    "  \n",
    "- enumeration doesn't support `>` or `<` comparison.  \n",
    "  \n",
    "  \n",
    "- enumeration also support `is` operation.  \n",
    "  \n",
    "  \n"
   ]
  },
  {
   "cell_type": "markdown",
   "metadata": {},
   "source": [
    "## Cautions to take when using enumeration"
   ]
  },
  {
   "cell_type": "code",
   "execution_count": 24,
   "metadata": {
    "ExecuteTime": {
     "end_time": "2020-05-26T16:12:58.600427Z",
     "start_time": "2020-05-26T16:12:58.588392Z"
    }
   },
   "outputs": [
    {
     "name": "stdout",
     "output_type": "stream",
     "text": [
      "('YELLOW', <VIP.YELLOW: 1>)\n",
      "('GREEN', <VIP.YELLOW: 1>)\n",
      "('BLACK', <VIP.BLACK: 3>)\n",
      "('RED', <VIP.RED: 4>)\n",
      "YELLOW\n",
      "GREEN\n",
      "BLACK\n",
      "RED\n"
     ]
    }
   ],
   "source": [
    "# Alias of the members\n",
    "class VIP(Enum):\n",
    "    YELLOW = 1\n",
    "    GREEN = 1\n",
    "    BLACK = 3\n",
    "    RED = 4\n",
    "    \n",
    "for v in VIP.__members__.items():\n",
    "    print(v)\n",
    "\n",
    "for v in VIP.__members__:\n",
    "    print(v)"
   ]
  },
  {
   "cell_type": "markdown",
   "metadata": {},
   "source": [
    "-  Don't use same member name.  \n",
    "  \n",
    "  \n",
    "-  Assign different member to the same value, the latter assigned name will be considered an alias of the very first assigned member name. E.g. we assign `YELLOW = 1` then we assign `GREEN = 1`. Then `GREEN` will be an alias of `YELLOW` and won't be considered as an independent member.  \n",
    "  \n",
    "  \n",
    "-  When there is alias for members, the enum type (member) won't be returned when you use `for` loop to iterate the enumeration.  \n",
    "  \n",
    "  \n",
    "-  If you want the alias to be iterated, we need to do this `for v in VIP.__members__.items():`. But this will return a tuple for each item containing the information of enum name, type, and value. like this `('GREEN', <VIP.GREEN: 1>)`.  \n",
    "  \n",
    "  \n",
    "-  To get more concise return, just use `for v in VIP.__members__:`, this will only return the enum names, including the alias.  \n",
    "  \n",
    "  \n"
   ]
  },
  {
   "cell_type": "markdown",
   "metadata": {},
   "source": [
    "## Enumeration conversion"
   ]
  },
  {
   "cell_type": "markdown",
   "metadata": {},
   "source": [
    "- In the scenario of using database, if we store enumeration in the database, we usually store the value of the enumeration. Although we can store the enum name in the database, it is suggested to store the value because it is more concise and save the space.  \n",
    "  \n",
    "  \n",
    "- However, in the code, we better define different enum types (members) through the Enum class and assign each enum type a value. To do this is to improve the readability of the code.  \n",
    "  \n",
    "  \n",
    "- How to convert the meaningless numbers stored in the database to the enum types?\n"
   ]
  },
  {
   "cell_type": "code",
   "execution_count": 29,
   "metadata": {
    "ExecuteTime": {
     "end_time": "2020-05-26T16:33:53.262981Z",
     "start_time": "2020-05-26T16:33:53.256995Z"
    }
   },
   "outputs": [
    {
     "name": "stdout",
     "output_type": "stream",
     "text": [
      "VIP.YELLOW\n"
     ]
    }
   ],
   "source": [
    "class VIP(Enum):\n",
    "    YELLOW = 1\n",
    "    GREEN = 1\n",
    "    \n",
    "# if the enum values (numbers) are stored in the database, \n",
    "# we want to access the enum type through the number, we can do the following:\n",
    "# First assign the number to a variable, then call the variable through the 'Enum' class\n",
    "\n",
    "a = 1\n",
    "print(VIP(a))\n",
    "\n",
    "# print(VIP[1])  # we can't do this.\n"
   ]
  },
  {
   "cell_type": "markdown",
   "metadata": {},
   "source": [
    "## Other usage examples of enumeration"
   ]
  },
  {
   "cell_type": "code",
   "execution_count": 30,
   "metadata": {
    "ExecuteTime": {
     "end_time": "2020-05-26T16:37:48.778056Z",
     "start_time": "2020-05-26T16:37:48.762096Z"
    }
   },
   "outputs": [
    {
     "ename": "ValueError",
     "evalue": "invalid literal for int() with base 10: 'str'",
     "output_type": "error",
     "traceback": [
      "\u001b[1;31m---------------------------------------------------------------------------\u001b[0m",
      "\u001b[1;31mValueError\u001b[0m                                Traceback (most recent call last)",
      "\u001b[1;32m<ipython-input-30-158e92e8bbf4>\u001b[0m in \u001b[0;36m<module>\u001b[1;34m\u001b[0m\n\u001b[0;32m      3\u001b[0m \u001b[1;32mfrom\u001b[0m \u001b[0menum\u001b[0m \u001b[1;32mimport\u001b[0m \u001b[0mIntEnum\u001b[0m\u001b[1;33m\u001b[0m\u001b[1;33m\u001b[0m\u001b[0m\n\u001b[0;32m      4\u001b[0m \u001b[1;33m\u001b[0m\u001b[0m\n\u001b[1;32m----> 5\u001b[1;33m \u001b[1;32mclass\u001b[0m \u001b[0mVIP\u001b[0m\u001b[1;33m(\u001b[0m\u001b[0mIntEnum\u001b[0m\u001b[1;33m)\u001b[0m\u001b[1;33m:\u001b[0m\u001b[1;33m\u001b[0m\u001b[1;33m\u001b[0m\u001b[0m\n\u001b[0m\u001b[0;32m      6\u001b[0m     \u001b[0mYELLOW\u001b[0m \u001b[1;33m=\u001b[0m \u001b[1;36m1\u001b[0m\u001b[1;33m\u001b[0m\u001b[1;33m\u001b[0m\u001b[0m\n\u001b[0;32m      7\u001b[0m     \u001b[0mGREEN\u001b[0m \u001b[1;33m=\u001b[0m \u001b[1;34m'str'\u001b[0m  \u001b[1;31m# This will give error, as it's value is not number.\u001b[0m\u001b[1;33m\u001b[0m\u001b[1;33m\u001b[0m\u001b[0m\n",
      "\u001b[1;32mD:\\Anaconda3\\lib\\enum.py\u001b[0m in \u001b[0;36m__new__\u001b[1;34m(metacls, cls, bases, classdict)\u001b[0m\n\u001b[0;32m    216\u001b[0m                     \u001b[0menum_member\u001b[0m\u001b[1;33m.\u001b[0m\u001b[0m_value_\u001b[0m \u001b[1;33m=\u001b[0m \u001b[0mvalue\u001b[0m\u001b[1;33m\u001b[0m\u001b[1;33m\u001b[0m\u001b[0m\n\u001b[0;32m    217\u001b[0m             \u001b[1;32melse\u001b[0m\u001b[1;33m:\u001b[0m\u001b[1;33m\u001b[0m\u001b[1;33m\u001b[0m\u001b[0m\n\u001b[1;32m--> 218\u001b[1;33m                 \u001b[0menum_member\u001b[0m \u001b[1;33m=\u001b[0m \u001b[0m__new__\u001b[0m\u001b[1;33m(\u001b[0m\u001b[0menum_class\u001b[0m\u001b[1;33m,\u001b[0m \u001b[1;33m*\u001b[0m\u001b[0margs\u001b[0m\u001b[1;33m)\u001b[0m\u001b[1;33m\u001b[0m\u001b[1;33m\u001b[0m\u001b[0m\n\u001b[0m\u001b[0;32m    219\u001b[0m                 \u001b[1;32mif\u001b[0m \u001b[1;32mnot\u001b[0m \u001b[0mhasattr\u001b[0m\u001b[1;33m(\u001b[0m\u001b[0menum_member\u001b[0m\u001b[1;33m,\u001b[0m \u001b[1;34m'_value_'\u001b[0m\u001b[1;33m)\u001b[0m\u001b[1;33m:\u001b[0m\u001b[1;33m\u001b[0m\u001b[1;33m\u001b[0m\u001b[0m\n\u001b[0;32m    220\u001b[0m                     \u001b[1;32mif\u001b[0m \u001b[0mmember_type\u001b[0m \u001b[1;32mis\u001b[0m \u001b[0mobject\u001b[0m\u001b[1;33m:\u001b[0m\u001b[1;33m\u001b[0m\u001b[1;33m\u001b[0m\u001b[0m\n",
      "\u001b[1;31mValueError\u001b[0m: invalid literal for int() with base 10: 'str'"
     ]
    }
   ],
   "source": [
    "# Can only define enum type that have number as their values\n",
    "\n",
    "from enum import IntEnum\n",
    "\n",
    "class VIP(IntEnum):\n",
    "    YELLOW = 1\n",
    "    GREEN = 'str'  # This will give error, as it's value is not number.\n",
    "    BLACK = 3\n",
    "    RED = 4"
   ]
  },
  {
   "cell_type": "code",
   "execution_count": 31,
   "metadata": {
    "ExecuteTime": {
     "end_time": "2020-05-26T16:46:38.413555Z",
     "start_time": "2020-05-26T16:46:38.397598Z"
    }
   },
   "outputs": [
    {
     "ename": "ValueError",
     "evalue": "duplicate values found in <enum 'VIP'>: GREEN -> YELLOW",
     "output_type": "error",
     "traceback": [
      "\u001b[1;31m---------------------------------------------------------------------------\u001b[0m",
      "\u001b[1;31mValueError\u001b[0m                                Traceback (most recent call last)",
      "\u001b[1;32m<ipython-input-31-9a1d733fa32d>\u001b[0m in \u001b[0;36m<module>\u001b[1;34m\u001b[0m\n\u001b[0;32m      3\u001b[0m \u001b[1;33m\u001b[0m\u001b[0m\n\u001b[0;32m      4\u001b[0m \u001b[1;33m@\u001b[0m\u001b[0munique\u001b[0m\u001b[1;33m\u001b[0m\u001b[1;33m\u001b[0m\u001b[0m\n\u001b[1;32m----> 5\u001b[1;33m \u001b[1;32mclass\u001b[0m \u001b[0mVIP\u001b[0m\u001b[1;33m(\u001b[0m\u001b[0mIntEnum\u001b[0m\u001b[1;33m)\u001b[0m\u001b[1;33m:\u001b[0m\u001b[1;33m\u001b[0m\u001b[1;33m\u001b[0m\u001b[0m\n\u001b[0m\u001b[0;32m      6\u001b[0m     \u001b[0mYELLOW\u001b[0m \u001b[1;33m=\u001b[0m \u001b[1;36m1\u001b[0m\u001b[1;33m\u001b[0m\u001b[1;33m\u001b[0m\u001b[0m\n\u001b[0;32m      7\u001b[0m     \u001b[0mGREEN\u001b[0m \u001b[1;33m=\u001b[0m \u001b[1;36m1\u001b[0m  \u001b[1;31m# This will give error, as the value is the same.\u001b[0m\u001b[1;33m\u001b[0m\u001b[1;33m\u001b[0m\u001b[0m\n",
      "\u001b[1;32mD:\\Anaconda3\\lib\\enum.py\u001b[0m in \u001b[0;36munique\u001b[1;34m(enumeration)\u001b[0m\n\u001b[0;32m    867\u001b[0m                 [\"%s -> %s\" % (alias, name) for (alias, name) in duplicates])\n\u001b[0;32m    868\u001b[0m         raise ValueError('duplicate values found in %r: %s' %\n\u001b[1;32m--> 869\u001b[1;33m                 (enumeration, alias_details))\n\u001b[0m\u001b[0;32m    870\u001b[0m     \u001b[1;32mreturn\u001b[0m \u001b[0menumeration\u001b[0m\u001b[1;33m\u001b[0m\u001b[1;33m\u001b[0m\u001b[0m\n\u001b[0;32m    871\u001b[0m \u001b[1;33m\u001b[0m\u001b[0m\n",
      "\u001b[1;31mValueError\u001b[0m: duplicate values found in <enum 'VIP'>: GREEN -> YELLOW"
     ]
    }
   ],
   "source": [
    "# Use decerator to restrict duplicated value of members.\n",
    "from enum import IntEnum,unique\n",
    "\n",
    "@unique\n",
    "class VIP(IntEnum):\n",
    "    YELLOW = 1\n",
    "    GREEN = 1  # This will give error, as the value is duplicated.\n",
    "    BLACK = 3\n",
    "    RED = 4"
   ]
  },
  {
   "cell_type": "markdown",
   "metadata": {},
   "source": [
    "# Closure -- a type of functional programming"
   ]
  },
  {
   "cell_type": "markdown",
   "metadata": {},
   "source": [
    "## Function in python"
   ]
  },
  {
   "cell_type": "markdown",
   "metadata": {},
   "source": [
    "- Functions in other language is just a block of executable code, it is not objects. They can not be instantiated.  \n",
    "  \n",
    "  \n",
    "- But in python, everything is object, including functions. So we can assign a function to a variable. We can also pass a function to another function as a argument; we can even make a function as a return value of another function.  \n",
    "  \n",
    "  \n",
    "- So python can support functional programming very well."
   ]
  },
  {
   "cell_type": "markdown",
   "metadata": {},
   "source": [
    "## What is closure?"
   ]
  },
  {
   "cell_type": "code",
   "execution_count": 37,
   "metadata": {
    "ExecuteTime": {
     "end_time": "2020-05-26T20:10:49.079259Z",
     "start_time": "2020-05-26T20:10:49.073273Z"
    }
   },
   "outputs": [
    {
     "name": "stdout",
     "output_type": "stream",
     "text": [
      "This is a function\n"
     ]
    }
   ],
   "source": [
    "# Before talking about closure, let's see the following example, we define a function inside another function.\n",
    "# This is not a common way of writing function, but we can definitly do this.\n",
    "\n",
    "# def curve_pre():\n",
    "#     def curve():\n",
    "#         pass\n",
    "    \n",
    "# Now think, can we call function'curve() outside of the 'curve_pre()' function?\n",
    "# curve()  \n",
    "# The answer is not. As 'curve()' only works inside of the function 'curve_pre()'\n",
    "\n",
    "\n",
    "# we write as follows, and no error comes up.\n",
    "def curve_pre():\n",
    "    def curve():\n",
    "        print('This is a function')\n",
    "    return curve\n",
    "\n",
    "f = curve_pre()  # Now variable 'f' is the function 'curve()'\n",
    "\n",
    "# Now we can call 'curve()' through 'f()'. Because 'f' now is a function, we need'()' to call it.\n",
    "f()\n"
   ]
  },
  {
   "cell_type": "markdown",
   "metadata": {},
   "source": [
    "Two points that we need to notice from the above example, which we talked before:  \n",
    "  \n",
    "  \n",
    "- function can be an return result.  \n",
    "  \n",
    "  \n",
    "- function can be assigned to a variable."
   ]
  },
  {
   "cell_type": "code",
   "execution_count": 40,
   "metadata": {
    "ExecuteTime": {
     "end_time": "2020-05-26T20:30:08.538280Z",
     "start_time": "2020-05-26T20:30:08.530276Z"
    }
   },
   "outputs": [
    {
     "data": {
      "text/plain": [
       "100"
      ]
     },
     "execution_count": 40,
     "metadata": {},
     "output_type": "execute_result"
    }
   ],
   "source": [
    "# Now we modify the function.\n",
    "\n",
    "def curve_pre():  # This function return function 'curve()' as a result.\n",
    "    a = 25\n",
    "    \n",
    "# Define a function with parameter 'x' and return 'ax^2'.\n",
    "    def curve(x):\n",
    "        return a * x * x  # Variable 'a' is defined outside of the 'curve()' function.\n",
    "    return curve\n",
    "\n",
    "# Now we nodify the value of variable 'a' to 10.\n",
    "a = 10\n",
    "\n",
    "f = curve_pre()  # 'f' is 'curve()'\n",
    "\n",
    "f(2)  # 'f(2)' is 'curve(2)'. Now what is the return value? Why?\n",
    "\n",
    "# This is a phenomenon of closure.\n"
   ]
  },
  {
   "cell_type": "markdown",
   "metadata": {},
   "source": [
    "- The variable is called an environment variable, when it is defined outside of a function and is used inside of that function, however, meanwhile, is not a global variable.  \n",
    "  \n",
    "  \n",
    "- A closure is the combination of a function and its environment variables.  \n",
    "  \n",
    "  \n",
    "- **closure = function + environment variables (when the function is defined)**  \n",
    "  \n",
    "  \n",
    "- In the above example, the function `curve()` has a variable `a`, but `a` is not defined in `curve()`, instead it is defined outside of `curve()`, however, inside of another function `curve_pre()`. `a` is not directly defined in the module, therefore it is not a global variable. Therefore, function `curve()` and variable `a` form a closure.  \n",
    "  \n",
    "  \n",
    "- When we call `curve_pre()`, it not only returns function `curve()`, but as well as the environment variables in the closure, like `a` here. Wherever we call `curve_pre()`, it won't be affected by an outside assignment of `a`.\n"
   ]
  },
  {
   "cell_type": "code",
   "execution_count": 43,
   "metadata": {
    "ExecuteTime": {
     "end_time": "2020-05-26T20:51:55.391418Z",
     "start_time": "2020-05-26T20:51:55.385253Z"
    }
   },
   "outputs": [
    {
     "name": "stdout",
     "output_type": "stream",
     "text": [
      "(<cell at 0x000001FE1B21D978: int object at 0x00007FFAC46AA490>,)\n",
      "25\n"
     ]
    }
   ],
   "source": [
    "# Where is the environment variable of a closure is stored?\n",
    "\n",
    "print(f.__closure__)\n",
    "print(f.__closure__[0].cell_contents)"
   ]
  },
  {
   "cell_type": "markdown",
   "metadata": {},
   "source": [
    "The significance of closure:  \n",
    "-  It saves the scene when a function is called. Ensures the function call is not affected by an external variable."
   ]
  },
  {
   "cell_type": "markdown",
   "metadata": {},
   "source": [
    "**The scope of variables:** (Rule: LEGB)  \n",
    "  \n",
    "  \n",
    "From Inner layer to Outter layer:  \n",
    "  \n",
    "  \n",
    "- **L: Local**, which is the current function.  \n",
    "  \n",
    "  \n",
    "- **E: Enclosing function**, if any, which is the function called by the current function.  \n",
    "  \n",
    "  \n",
    "- **G: Global**, which is the module, in which the function is defined.  \n",
    "  \n",
    "  \n",
    "- **B: Built-in**, which is the built-in namespace of python.  \n",
    "\n"
   ]
  },
  {
   "cell_type": "markdown",
   "metadata": {},
   "source": [
    "## A common mistake of closure"
   ]
  },
  {
   "cell_type": "code",
   "execution_count": 44,
   "metadata": {
    "ExecuteTime": {
     "end_time": "2020-05-26T21:08:57.652376Z",
     "start_time": "2020-05-26T21:08:57.644792Z"
    }
   },
   "outputs": [
    {
     "name": "stdout",
     "output_type": "stream",
     "text": [
      "10\n",
      "20\n",
      "10\n"
     ]
    }
   ],
   "source": [
    "\n",
    "def f1():\n",
    "    a = 10\n",
    "    def f2():\n",
    "        a = 20\n",
    "        print(a)\n",
    "    print(a)\n",
    "    f2()\n",
    "    print(a)\n",
    "    \n",
    "f1()"
   ]
  },
  {
   "cell_type": "markdown",
   "metadata": {},
   "source": [
    "**Analysis of the above code -- an classical mistake of closure**  \n",
    "  \n",
    "  \n",
    "- We analyze it layer by layer, first, in the module, `f1()` is called.  \n",
    "\n",
    "  \n",
    "  \n",
    "- So we go to `f1()`, it firstly defined a variable `a` with value of 10. Then it defines a function `f2()`. So far, we don't need to care what is inside of `f2()`, because it won't be called bu just defining it.  \n",
    "  \n",
    "  \n",
    "- Then `f1()` prints `a`, whose value now is `10`, so `10` is printed out first.  \n",
    "  \n",
    "  \n",
    "- A question here: does the assignment of `a` to 20 when defining `f2()` changes the value of `a` in `f1()`? From what we said in the above point, it won't, we'll explain why later.  \n",
    "  \n",
    "  \n",
    "- Next, `f1()` calls `f2()`, so we need to go into and run the code of `f2()`. \n",
    "  \n",
    "  \n",
    "  - In `f2()`, firstly, variable `a` is assigned to value `20`, then `print(a)`. As now in `f2()`, the value of `a` is `20`, so the second output of the code is 20.  \n",
    "    \n",
    "    \n",
    "- Now, code in `f2()` have been executed, we go back to `f1()` again, to continue to run the rest of the code, which is `print(a)`. What is the value of `a` now?  \n",
    "  \n",
    "  \n",
    "- The scope of the assignment of `a = 20` in `f2()` is only in `f2()`, it is a local variable, it won't change the pre-assigned `a` in `f1()`, whose value is `10`.  \n",
    "  \n",
    "  \n",
    "- **Another question: is is a closure?**"
   ]
  },
  {
   "cell_type": "code",
   "execution_count": 52,
   "metadata": {
    "ExecuteTime": {
     "end_time": "2020-05-26T22:17:35.471605Z",
     "start_time": "2020-05-26T22:17:35.465620Z"
    }
   },
   "outputs": [
    {
     "name": "stdout",
     "output_type": "stream",
     "text": [
      "<function f1.<locals>.f2 at 0x000001FE1DC199D8>\n",
      "None\n"
     ]
    }
   ],
   "source": [
    "# verity and answer the question above\n",
    "\n",
    "def f1():\n",
    "    a = 10\n",
    "    def f2():\n",
    "        a = 20\n",
    "    return f2\n",
    "    \n",
    "f = f1()\n",
    "\n",
    "print(f)\n",
    "print(f.__closure__)"
   ]
  },
  {
   "cell_type": "markdown",
   "metadata": {},
   "source": [
    "- `f` has a return value, which is a function, as expected.  \n",
    "  \n",
    "  \n",
    "-  But this is not a closure, as there is nothing in the environment variable.   \n",
    "\n",
    "- The reason is that we assign a local variable `a` in `f2()`, which is different than the environment variable `a` which is defined in `f1()`, whose value is `10`. The environment variable is not longer be called by `f2()`. So there is no closure. "
   ]
  },
  {
   "cell_type": "code",
   "execution_count": 53,
   "metadata": {
    "ExecuteTime": {
     "end_time": "2020-05-26T22:17:59.427472Z",
     "start_time": "2020-05-26T22:17:59.420491Z"
    }
   },
   "outputs": [
    {
     "name": "stdout",
     "output_type": "stream",
     "text": [
      "<function f1.<locals>.f2 at 0x000001FE1DC19558>\n",
      "(<cell at 0x000001FE1DA22A08: int object at 0x00007FFAC46AA2B0>,)\n"
     ]
    }
   ],
   "source": [
    "# To fix it and make it a closure, just to remove local variable assignment `a = 20`\n",
    "# in 'f2()' and call environment variable.\n",
    "\n",
    "def f1():\n",
    "    a = 10\n",
    "    def f2():\n",
    "        c = 20 * a\n",
    "    return f2\n",
    "    \n",
    "f = f1()\n",
    "\n",
    "print(f)\n",
    "print(f.__closure__)"
   ]
  },
  {
   "cell_type": "code",
   "execution_count": 88,
   "metadata": {
    "ExecuteTime": {
     "end_time": "2020-05-27T01:40:01.228901Z",
     "start_time": "2020-05-27T01:40:01.217930Z"
    }
   },
   "outputs": [
    {
     "name": "stdout",
     "output_type": "stream",
     "text": [
      "2\n",
      "6\n",
      "12\n"
     ]
    }
   ],
   "source": [
    "# Practice. Use closure to solve this question.\n",
    "# Count a how many steps one walks, \n",
    "# and remembers how many steps the one has walked.\n",
    "# When walks again, return the final position (how many steps walked in total).\n",
    "\n",
    "# To solve this question, we need to a function that every time that it is called, it will save the result of the last return.\n",
    "\n",
    "origin = 0\n",
    "\n",
    "def factory(pos):\n",
    "    \n",
    "    def go(step):\n",
    "        nonlocal pos  # Option Explicit a variable is not a local variable. \n",
    "        new_pos = pos + step\n",
    "        pos = new_pos\n",
    "        return new_pos\n",
    "    \n",
    "    return go\n",
    "\n",
    "man = factory(origin)\n",
    "print(man(2))\n",
    "print(man(4))\n",
    "print(man(6))"
   ]
  },
  {
   "cell_type": "code",
   "execution_count": 82,
   "metadata": {
    "ExecuteTime": {
     "end_time": "2020-05-27T01:17:11.143972Z",
     "start_time": "2020-05-27T01:17:11.135014Z"
    }
   },
   "outputs": [
    {
     "name": "stdout",
     "output_type": "stream",
     "text": [
      "2\n",
      "5\n",
      "11\n"
     ]
    }
   ],
   "source": [
    "# Solve this question by not using closure.\n",
    "origin = 0\n",
    "\n",
    "def go(step):\n",
    "    global origin  # 'global' keyword is to make a global variable accessable locally.\n",
    "    new_pos = origin + step\n",
    "    origin = new_pos\n",
    "    return new_pos\n",
    "\n",
    "print(go(2))\n",
    "print(go(3))\n",
    "print(go(6))"
   ]
  },
  {
   "cell_type": "markdown",
   "metadata": {},
   "source": [
    "**closure, functional programming**\n",
    "- factory mode  \n",
    "  \n",
    "  \n",
    "- closure makes it possible to indirectly call local variable externally. Like in the function `curve_pre()` and `curve()` example, `f` can externally call environment variable `a` indirectly through `curve()`.  \n",
    "  \n",
    "  \n",
    "- functional programming is a type of programming thinking mode. There is no better or worse compared to object oriented programming."
   ]
  },
  {
   "cell_type": "markdown",
   "metadata": {},
   "source": [
    "# Anonymous function\n",
    "No need to give function name when defining function"
   ]
  },
  {
   "cell_type": "markdown",
   "metadata": {},
   "source": [
    "## Lambda expression\n",
    "**syntax: `lambda parameter_list: expression`**"
   ]
  },
  {
   "cell_type": "code",
   "execution_count": 91,
   "metadata": {
    "ExecuteTime": {
     "end_time": "2020-05-27T02:02:21.437769Z",
     "start_time": "2020-05-27T02:02:21.423413Z"
    }
   },
   "outputs": [
    {
     "name": "stdout",
     "output_type": "stream",
     "text": [
      "3\n"
     ]
    }
   ],
   "source": [
    "# Define a normal function\n",
    "def add(x, y):\n",
    "    return x + y\n",
    "\n",
    "# Use lambda function\n",
    "lambda x,y: x+y\n",
    "    \n",
    "    \n",
    "# Call anonymous function, assign it to a variable first.\n",
    "f = lambda x,y: x+y  # this calling doesn't show the advantage of the anonymous function.\n",
    "    \n",
    "print(f(1,2))\n"
   ]
  },
  {
   "cell_type": "markdown",
   "metadata": {},
   "source": [
    "### Ternary expression\n",
    "use `if-else` in lambda expression  \n",
    "\n",
    "`return_when_condition_is_True if condition else return_when_is_False`"
   ]
  },
  {
   "cell_type": "code",
   "execution_count": 92,
   "metadata": {
    "ExecuteTime": {
     "end_time": "2020-05-27T02:25:29.735980Z",
     "start_time": "2020-05-27T02:25:29.729997Z"
    }
   },
   "outputs": [
    {
     "data": {
      "text/plain": [
       "<function __main__.<lambda>(x, y)>"
      ]
     },
     "execution_count": 92,
     "metadata": {},
     "output_type": "execute_result"
    }
   ],
   "source": [
    "lambda x,y: x if x>y else y"
   ]
  },
  {
   "cell_type": "markdown",
   "metadata": {},
   "source": [
    "## `map`"
   ]
  },
  {
   "cell_type": "markdown",
   "metadata": {},
   "source": [
    "### Basic usage"
   ]
  },
  {
   "cell_type": "markdown",
   "metadata": {
    "ExecuteTime": {
     "end_time": "2020-05-27T10:38:53.848933Z",
     "start_time": "2020-05-27T10:38:53.842949Z"
    }
   },
   "source": [
    "**`map` is a class, syntax is `map(function, iterable)`. It returns a map object**."
   ]
  },
  {
   "cell_type": "markdown",
   "metadata": {},
   "source": [
    "Question: given a list `[1,2,3,4,5,6,7,8]`, calculate the square of each element, and return the results in a new list."
   ]
  },
  {
   "cell_type": "code",
   "execution_count": 99,
   "metadata": {
    "ExecuteTime": {
     "end_time": "2020-05-27T10:31:43.732048Z",
     "start_time": "2020-05-27T10:31:43.723096Z"
    }
   },
   "outputs": [
    {
     "name": "stdout",
     "output_type": "stream",
     "text": [
      "[1, 4, 9, 16, 25, 36, 49, 64]\n"
     ]
    }
   ],
   "source": [
    "# We can do through 'for' loop.\n",
    "\n",
    "list_x = [1,2,3,4,5,6,7,8]\n",
    "\n",
    "def square(x):\n",
    "    return x * x\n",
    "\n",
    "list_y = []\n",
    "for x in list_x:\n",
    "    sqr = square(x)\n",
    "    list_y.append(sqr)\n",
    "\n",
    "print(list_y)\n"
   ]
  },
  {
   "cell_type": "code",
   "execution_count": 101,
   "metadata": {
    "ExecuteTime": {
     "end_time": "2020-05-27T10:36:24.528270Z",
     "start_time": "2020-05-27T10:36:24.522290Z"
    }
   },
   "outputs": [
    {
     "name": "stdout",
     "output_type": "stream",
     "text": [
      "<map object at 0x000001FE1DD449C8>\n",
      "[1, 4, 9, 16, 25, 36, 49, 64]\n"
     ]
    }
   ],
   "source": [
    "# use 'map' to do this. \n",
    "\n",
    "r = map(square, list_x)\n",
    "print(r)\n",
    "print(list(r))"
   ]
  },
  {
   "cell_type": "markdown",
   "metadata": {},
   "source": [
    "### map and lambda"
   ]
  },
  {
   "cell_type": "code",
   "execution_count": 104,
   "metadata": {
    "ExecuteTime": {
     "end_time": "2020-05-27T10:46:15.397350Z",
     "start_time": "2020-05-27T10:46:15.391365Z"
    }
   },
   "outputs": [
    {
     "name": "stdout",
     "output_type": "stream",
     "text": [
      "[1, 4, 9, 16, 25, 36, 49, 64]\n"
     ]
    }
   ],
   "source": [
    "# Use lambda expression to subsititute the 'square' function above and pass it to 'map'\n",
    "\n",
    "r = map(lambda x: x**2, list_x)  # lambda expresssion is basiclly a function, so it can be passed to map as argument.\n",
    "print (list(r))\n"
   ]
  },
  {
   "cell_type": "code",
   "execution_count": 105,
   "metadata": {
    "ExecuteTime": {
     "end_time": "2020-05-27T10:47:34.248633Z",
     "start_time": "2020-05-27T10:47:34.241667Z"
    }
   },
   "outputs": [
    {
     "name": "stdout",
     "output_type": "stream",
     "text": [
      "[2, 8, 18, 32, 50, 72, 98, 128]\n"
     ]
    }
   ],
   "source": [
    "r = map(lambda x, y: x**2 + y, list_x, list_y)\n",
    "print (list(r))"
   ]
  },
  {
   "cell_type": "code",
   "execution_count": 106,
   "metadata": {
    "ExecuteTime": {
     "end_time": "2020-05-27T10:48:37.921924Z",
     "start_time": "2020-05-27T10:48:37.914956Z"
    }
   },
   "outputs": [
    {
     "name": "stdout",
     "output_type": "stream",
     "text": [
      "[2, 6, 12, 20, 30]\n"
     ]
    }
   ],
   "source": [
    "# What if the elements in the list of the two arguments are not the same?\n",
    "\n",
    "list_y = [1,2,3,4,5]\n",
    "\n",
    "r = map(lambda x, y: x**2 + y, list_x, list_y)\n",
    "# We need to pass two arguments to 'map', as lambda expression has two parameters.\n",
    "\n",
    "print (list(r))\n"
   ]
  },
  {
   "cell_type": "markdown",
   "metadata": {},
   "source": [
    "## `reduce`"
   ]
  },
  {
   "cell_type": "markdown",
   "metadata": {},
   "source": [
    "From python 3 `reduce` is not longer in the global namespacing. To use reduce, we need to import in from `functools` module.  \n",
    "\n",
    "**`from funtools import reduce`**  \n",
    "\n",
    "`reduce` is a function. syntax: **reduce(function, sequence, initial=None)**, it returns a value."
   ]
  },
  {
   "cell_type": "code",
   "execution_count": 108,
   "metadata": {
    "ExecuteTime": {
     "end_time": "2020-05-27T11:18:48.657494Z",
     "start_time": "2020-05-27T11:18:48.646529Z"
    }
   },
   "outputs": [
    {
     "name": "stdout",
     "output_type": "stream",
     "text": [
      "36\n",
      "first12345678\n"
     ]
    }
   ],
   "source": [
    "from functools import reduce\n",
    "\n",
    "list_x = [1,2,3,4,5,6,7,8]\n",
    "\n",
    "r = reduce(lambda x, y: x+y, list_x)  \n",
    "# Here, we have two variables in lambda expression, but we only passed one argument to 'reduce'. Why it worked?\n",
    "\n",
    "print(r)\n",
    "\n",
    "\n",
    "list_y = ['1','2','3','4','5','6','7','8']\n",
    "\n",
    "r1 = reduce(lambda x, y: x+y, list_y, 'first')\n",
    "# The third parameter of 'reduce', whih is the intial value you want 'reduce' to take for opreation.\n",
    "print(r1)\n"
   ]
  },
  {
   "cell_type": "markdown",
   "metadata": {},
   "source": [
    "- `reduce` make continuous operation possible.  \n",
    "  \n",
    "  \n",
    "- In the above example, `lambda` has two parameters `x` and `y`. And we only passed one argument `list_x` to `reduce`.  \n",
    "  \n",
    "  \n",
    "- This won't give error, as `reduce` only takes one sequence as one of its arguments.  \n",
    "  \n",
    "  \n",
    "- `reduce` works like this: in this example, first we passed to `reduce` a lambda expression, which is basically a function, and a sequence `list_x`. lambda has two parameters `x` and `y`, and the operation is `x+y`.  \n",
    "  \n",
    "  \n",
    "- `reduce` will take the first two elements of `list_x` and pass them to lambda `x` and `y`, respectively. Now `x=1`, `y=2`. Then do `x+y` operation and return `3`.  \n",
    "  \n",
    "  \n",
    "- Then `reduce` will take the return of the last operation and pass it to the first parameter (`x`) of the lambda expression, and take the next element of the sequence `list_x` and pass it to `y`. So now `x=3`, `y=3`. Then do `x+y` operation and return `6`.   \n",
    "  \n",
    "  \n",
    "- `reduce` will repeat this until all the elements in the sequence are used in the operation.  \n",
    "  \n",
    "  \n",
    "- **Note that, `reduce` is not a function for sum, the operation it does, depends on the operation that is given in the function.**  \n",
    "  \n",
    "  \n",
    "- The `initial` parameter is the first one that `reduce` takes for operation.\n"
   ]
  },
  {
   "cell_type": "markdown",
   "metadata": {},
   "source": [
    "## `filter`"
   ]
  },
  {
   "cell_type": "markdown",
   "metadata": {},
   "source": [
    "- `filter` is a class.  \n",
    "  \n",
    "  \n",
    "- **syntax: filter(function or None, iterables)**, it returns a **filter object**. \n",
    "  \n",
    "  \n",
    "- Construct an iterator from those elements of iterable for which function returns true. iterable may be either a sequence, a container which supports iteration, or an iterator. If function is None, the identity function is assumed, that is, all elements of iterable that are false are removed."
   ]
  },
  {
   "cell_type": "code",
   "execution_count": 111,
   "metadata": {
    "ExecuteTime": {
     "end_time": "2020-05-27T11:45:34.112160Z",
     "start_time": "2020-05-27T11:45:34.101190Z"
    }
   },
   "outputs": [
    {
     "name": "stdout",
     "output_type": "stream",
     "text": [
      "[1, 1, 1, 1, 1]\n",
      "['a', 'c', 'e']\n"
     ]
    }
   ],
   "source": [
    "list_x = [1,0,1,0,1,1,0,1,0]\n",
    "\n",
    "r = filter(lambda x: True if x==1 else False, list_x)\n",
    "# The lambda expression need to have returns of Trun or False.\n",
    "\n",
    "# So it can also be written like this, which is more concise.\n",
    "r = filter(lambda x: x, list_x)\n",
    "\n",
    "print(list(r))\n",
    "\n",
    "\n",
    "# print all the small letters\n",
    "list_u = ['a', 'B', 'c', 'F', 'e']\n",
    "\n",
    "r1 = filter(lambda x: x.islower(), list_u)\n",
    "print(list(r1))"
   ]
  },
  {
   "cell_type": "markdown",
   "metadata": {},
   "source": [
    "# Decorator"
   ]
  },
  {
   "cell_type": "markdown",
   "metadata": {},
   "source": [
    "## Prepare introduction for decorator"
   ]
  },
  {
   "cell_type": "code",
   "execution_count": 112,
   "metadata": {
    "ExecuteTime": {
     "end_time": "2020-05-27T11:58:08.654970Z",
     "start_time": "2020-05-27T11:58:08.649012Z"
    }
   },
   "outputs": [
    {
     "name": "stdout",
     "output_type": "stream",
     "text": [
      "1590580688.6510196\n",
      "This is a function\n"
     ]
    }
   ],
   "source": [
    "\n",
    "# Here we have a simple function\n",
    "def f1():\n",
    "    print(time.time())\n",
    "    print('This is a function')\n",
    "    \n",
    "f1()\n",
    "\n",
    "# Later on, I want to extend its functionality, to print out the current time.\n",
    "\n",
    "import time\n",
    "\n",
    "def f1():\n",
    "    print(time.time())\n",
    "    print('This is a function')\n",
    "    \n",
    "f1()"
   ]
  },
  {
   "cell_type": "markdown",
   "metadata": {},
   "source": [
    "- This way of modification is fine, but what if we have a hundred of function that need the same functionality. It is simply not smart to add the same line of code to that many functions.  \n",
    "  \n",
    "  \n",
    "- By doing this is also violating a very important good programming practice, which is to make sure you function is closed to modification, but open to extension. Which means we need to try to avoid directly modify the function body as much as possible, but instead, write other functions or classes to help the existing functions gain more extended functionality."
   ]
  },
  {
   "cell_type": "code",
   "execution_count": 115,
   "metadata": {
    "ExecuteTime": {
     "end_time": "2020-05-27T12:17:24.971075Z",
     "start_time": "2020-05-27T12:17:24.955455Z"
    }
   },
   "outputs": [
    {
     "name": "stdout",
     "output_type": "stream",
     "text": [
      "1590581844.9554558\n",
      "This is a function\n",
      "1590581844.9554558\n",
      "This is the second function\n"
     ]
    }
   ],
   "source": [
    "# Therefore, we write another function to achieve this.\n",
    "\n",
    "import time\n",
    "\n",
    "def f1():\n",
    "    print('This is a function')\n",
    "    \n",
    "def f2():\n",
    "    print('This is the second function')\n",
    "\n",
    "\n",
    "# We define a function to print the current time, \n",
    "# with a parameter that allows it to call other functions by passing their function name as argument.    \n",
    "def print_current_time(func):\n",
    "    print(time.time())\n",
    "    func()\n",
    "    \n",
    "\n",
    "# Then we call this new function with the functions name, whose functionality we want to extend.    \n",
    "print_current_time(f1)\n",
    "print_current_time(f2)\n",
    "\n"
   ]
  },
  {
   "cell_type": "markdown",
   "metadata": {},
   "source": [
    "- The above way is good, but still not good enough.  \n",
    "  \n",
    "  \n",
    "- This new function does its own job, which is to print out the time and call other functions. But This is only the functionality of this new function, it doesn't have much to do with the old functions.  \n",
    "  \n",
    "  \n",
    "- Is there a way that we can make the old functions still be bound when their functionality is extended without changing their function body?  \n",
    "  \n",
    "  \n",
    "- This is where we use decorator."
   ]
  },
  {
   "cell_type": "markdown",
   "metadata": {},
   "source": [
    "## Define a  decorator"
   ]
  },
  {
   "cell_type": "code",
   "execution_count": 118,
   "metadata": {
    "ExecuteTime": {
     "end_time": "2020-05-27T12:39:09.357201Z",
     "start_time": "2020-05-27T12:39:09.348225Z"
    }
   },
   "outputs": [
    {
     "name": "stdout",
     "output_type": "stream",
     "text": [
      "1590583149.3532107\n",
      "This is a function\n"
     ]
    }
   ],
   "source": [
    "import time\n",
    "\n",
    "# To create a decorator\n",
    "\n",
    "# Here is simple example of a decorator, it needs a nested function,\n",
    "# and the outer layer function need return the inner layer function.\n",
    "\n",
    "def decorator(func):\n",
    "    def wrapper():\n",
    "        print(time.time())\n",
    "        func()\n",
    "    return wrapper\n",
    "\n",
    "def f1():\n",
    "    print('This is a function')\n",
    "    \n",
    "f = decorator(f1)\n",
    "f()"
   ]
  },
  {
   "cell_type": "markdown",
   "metadata": {},
   "source": [
    "- Now, we have a decorator, but it looks so weird. And it doesn't seem to have close bonding to the `f1()` function. And it doesn't seem to be concise at all.  \n",
    "\n",
    "- Also we still couldn't call the `f1()` directly, here we need to call the decorator and pass `f1()` as its argument, and assign the return of this call, which is the inner function to a variable. And then call the inner function using this variable. What the f...?  \n",
    "  \n",
    "  \n",
    "- Why are we doing this?  \n",
    "  \n",
    "  \n",
    "- What we need is by still simply calling `f1()`, we get the extended functionality through whatever a decorator does.  \n",
    "  \n",
    "  \n",
    "- Luckily, we have `@`, the Syntactic sugar. It is a syntax that doesn't affect the functionality of the language, but would be more convenient for programmers to use. Syntactic sugar makes code more concise and higher readability.\n"
   ]
  },
  {
   "cell_type": "code",
   "execution_count": 119,
   "metadata": {
    "ExecuteTime": {
     "end_time": "2020-05-27T13:26:37.768429Z",
     "start_time": "2020-05-27T13:26:37.755161Z"
    }
   },
   "outputs": [
    {
     "name": "stdout",
     "output_type": "stream",
     "text": [
      "1590585997.755161\n",
      "This is a function\n"
     ]
    }
   ],
   "source": [
    "import time\n",
    "\n",
    "# define a decorator first\n",
    "def decorator(func):\n",
    "    def wrapper():\n",
    "        print(time.time())\n",
    "        func()\n",
    "    return wrapper\n",
    "\n",
    "\n",
    "# Now we use syntactic sugar, by '@decorator_name'\n",
    "@decorator\n",
    "def f1():\n",
    "    print('This is a function')\n",
    "    \n",
    "f1()"
   ]
  },
  {
   "cell_type": "markdown",
   "metadata": {},
   "source": [
    "- Now finally, this makes decorator making more sense.  \n",
    "  \n",
    "  \n",
    "- It might be complex in defining, but very simple in decorating the function and calling it.  \n",
    "  \n",
    "  \n",
    "**Now we will show something more complex:**  \n",
    "\n",
    "- In the above example, function `f1()` doesn't have any parameter, and we showed how to use decorator on it. What if the function need to be decorated has parameters, sometimes multiple parameters, what do we need to do to the decorator?  \n"
   ]
  },
  {
   "cell_type": "markdown",
   "metadata": {},
   "source": [
    "## Improving decorator"
   ]
  },
  {
   "cell_type": "code",
   "execution_count": 123,
   "metadata": {
    "ExecuteTime": {
     "end_time": "2020-05-27T13:42:11.953520Z",
     "start_time": "2020-05-27T13:42:11.943547Z"
    }
   },
   "outputs": [
    {
     "name": "stdout",
     "output_type": "stream",
     "text": [
      "1590586931.9485345\n",
      "This is a function test_func\n"
     ]
    }
   ],
   "source": [
    "import time\n",
    "\n",
    "# define a decorator first\n",
    "def decorator(func):\n",
    "    def wrapper(arg):  # we give the inner fucntion a parameter 'arg' and pass this in 'func(arg)'\n",
    "        print(time.time())\n",
    "        func(arg)\n",
    "    return wrapper\n",
    "\n",
    "\n",
    "# Now we use syntactic sugar, by '@decorator_name'\n",
    "@decorator\n",
    "def f1(func_name):\n",
    "    print('This is a function ' + func_name)\n",
    "    \n",
    "f1('test_func')"
   ]
  },
  {
   "cell_type": "code",
   "execution_count": 128,
   "metadata": {
    "ExecuteTime": {
     "end_time": "2020-05-27T13:49:31.235887Z",
     "start_time": "2020-05-27T13:49:31.219740Z"
    }
   },
   "outputs": [
    {
     "name": "stdout",
     "output_type": "stream",
     "text": [
      "1590587371.2197409\n",
      "This is a function test_func\n",
      "1590587371.2197409\n",
      "This is a function hellopythonworld\n"
     ]
    }
   ],
   "source": [
    "# Decorator should be universial, what if the functions need to be decorated has multiple parameters?\n",
    "\n",
    "\n",
    "import time\n",
    "\n",
    "def decorator(func):\n",
    "    \n",
    "    # We need to use '*' to represent variable parameters. so we use '*args' parameter and pass it to 'func(*args)' \n",
    "    def wrapper(*args):  \n",
    "        print(time.time())\n",
    "        func(*args)\n",
    "    return wrapper\n",
    "\n",
    "\n",
    "# Now we use syntactic sugar, by '@decorator_name'\n",
    "@decorator\n",
    "def f1(func_name):\n",
    "    print('This is a function ' + func_name)\n",
    "\n",
    "@decorator    \n",
    "def f2(arg1, arg2, arg3):\n",
    "    print('This is a function ' + arg1 +arg2+arg3)\n",
    "\n",
    "f1('test_func')\n",
    "f2('hello', 'python', 'world')"
   ]
  },
  {
   "cell_type": "markdown",
   "metadata": {},
   "source": [
    "**The decorator looks more and more powerful, what else can we do to keep improving it?**"
   ]
  },
  {
   "cell_type": "code",
   "execution_count": 130,
   "metadata": {
    "ExecuteTime": {
     "end_time": "2020-05-27T14:00:01.247367Z",
     "start_time": "2020-05-27T14:00:01.233405Z"
    }
   },
   "outputs": [
    {
     "name": "stdout",
     "output_type": "stream",
     "text": [
      "1590588001.243385\n",
      "This is a function test_func\n",
      "1590588001.243385\n",
      "This is a function hellopythonworld\n",
      "1590588001.243385\n",
      "This is a function apple\n",
      "This is a function pencil\n",
      "{'a': 2, 'b': 'fruit'}\n"
     ]
    }
   ],
   "source": [
    "# How to accomodate functions with keyword arguments?\n",
    "\n",
    "import time\n",
    "\n",
    "def decorator(func):\n",
    "    \n",
    "    # We need to use add '**kw' to represent keyword argumentand pass it to 'func(*args, **kw)' \n",
    "    def wrapper(*args, **kw):  \n",
    "        print(time.time())\n",
    "        func(*args, **kw)\n",
    "    return wrapper\n",
    "\n",
    "\n",
    "# Now we use syntactic sugar, by '@decorator_name'\n",
    "@decorator\n",
    "def f1(func_name):\n",
    "    print('This is a function ' + func_name)\n",
    "\n",
    "@decorator    \n",
    "def f2(arg1, arg2, arg3):\n",
    "    print('This is a function ' + arg1 +arg2+arg3)\n",
    "    \n",
    "@decorator    \n",
    "def f3(arg1, arg2, **kw):\n",
    "    print('This is a function ' + arg1)\n",
    "    print('This is a function ' + arg2)\n",
    "    print(kw)\n",
    "       \n",
    "f1('test_func')\n",
    "f2('hello', 'python', 'world')\n",
    "f3('apple', 'pencil', a=2, b='fruit')"
   ]
  },
  {
   "cell_type": "markdown",
   "metadata": {},
   "source": [
    "- Now it looks much better!!  \n",
    "  \n",
    "  \n",
    "\n",
    "- The function call `func(*args, **kw)` can be used whenever we want to call a function but not sure what parameters is defined and how many are there.  \n"
   ]
  },
  {
   "cell_type": "code",
   "execution_count": null,
   "metadata": {},
   "outputs": [],
   "source": []
  }
 ],
 "metadata": {
  "kernelspec": {
   "display_name": "Python 3",
   "language": "python",
   "name": "python3"
  },
  "language_info": {
   "codemirror_mode": {
    "name": "ipython",
    "version": 3
   },
   "file_extension": ".py",
   "mimetype": "text/x-python",
   "name": "python",
   "nbconvert_exporter": "python",
   "pygments_lexer": "ipython3",
   "version": "3.7.6"
  },
  "toc": {
   "base_numbering": 1,
   "nav_menu": {},
   "number_sections": true,
   "sideBar": true,
   "skip_h1_title": false,
   "title_cell": "Table of Contents",
   "title_sidebar": "Contents",
   "toc_cell": false,
   "toc_position": {},
   "toc_section_display": true,
   "toc_window_display": false
  },
  "varInspector": {
   "cols": {
    "lenName": 16,
    "lenType": 16,
    "lenVar": 40
   },
   "kernels_config": {
    "python": {
     "delete_cmd_postfix": "",
     "delete_cmd_prefix": "del ",
     "library": "var_list.py",
     "varRefreshCmd": "print(var_dic_list())"
    },
    "r": {
     "delete_cmd_postfix": ") ",
     "delete_cmd_prefix": "rm(",
     "library": "var_list.r",
     "varRefreshCmd": "cat(var_dic_list()) "
    }
   },
   "types_to_exclude": [
    "module",
    "function",
    "builtin_function_or_method",
    "instance",
    "_Feature"
   ],
   "window_display": false
  }
 },
 "nbformat": 4,
 "nbformat_minor": 4
}
