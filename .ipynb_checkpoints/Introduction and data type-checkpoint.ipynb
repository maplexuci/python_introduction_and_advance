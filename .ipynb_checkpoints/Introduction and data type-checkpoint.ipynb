{
 "cells": [
  {
   "cell_type": "markdown",
   "metadata": {},
   "source": [
    "# Python Introduction"
   ]
  },
  {
   "cell_type": "markdown",
   "metadata": {},
   "source": [
    "## An example of why python is a concise language"
   ]
  },
  {
   "cell_type": "markdown",
   "metadata": {},
   "source": [
    "### variable exchange in python only need one line of code"
   ]
  },
  {
   "cell_type": "code",
   "execution_count": null,
   "metadata": {},
   "outputs": [],
   "source": [
    "x = 3\n",
    "y = 5\n",
    "x, y = y, x\n",
    "print(x, y)"
   ]
  },
  {
   "cell_type": "markdown",
   "metadata": {},
   "source": [
    "# Data type of Python"
   ]
  },
  {
   "cell_type": "markdown",
   "metadata": {},
   "source": [
    "## Number \n",
    "### Interger (int); Float (float)"
   ]
  },
  {
   "cell_type": "code",
   "execution_count": null,
   "metadata": {},
   "outputs": [],
   "source": [
    "# What data type of the following?\n",
    "type(1)\n",
    "type(-1)\n",
    "type(0.24)\n",
    "type(1.238475638)\n",
    "type(1+3)\n",
    "type(1+1.5)\n",
    "type(1+1.0)\n",
    "type(1*2.0)\n",
    "type(2/2)  # Is this data type the same as you expected? Why?\n",
    "type(2//2)  # What about this one?"
   ]
  },
  {
   "cell_type": "markdown",
   "metadata": {},
   "source": [
    "### Dived and ground divide"
   ]
  },
  {
   "cell_type": "code",
   "execution_count": null,
   "metadata": {},
   "outputs": [],
   "source": [
    "2/2\n",
    "2//2"
   ]
  },
  {
   "cell_type": "markdown",
   "metadata": {},
   "source": [
    "### Binary; octonary; decimal; hexadecimal\n",
    "Different system of counting numbers, not limited to computer. I's just the computer uses more of other system than decimal.\n",
    "The same number mean differently in different number system."
   ]
  },
  {
   "cell_type": "code",
   "execution_count": null,
   "metadata": {},
   "outputs": [],
   "source": [
    "# Use decimal number directly in python,\n",
    "# or use int() method to transform from other systems\n",
    "10\n",
    "int(0o77)\n",
    "\n",
    "# to convert to binary number, use 0b in front of the decimal number\n",
    "# or use bin() method to transform from other number systems\n",
    "0b10\n",
    "0b100\n",
    "bin(10)\n",
    "bin(0xE)\n",
    "\n",
    "# to convert to octonary number, use 0o in front of the decimal number,\n",
    "# or use oct() method to transform from other number systems\n",
    "0o10\n",
    "0o11\n",
    "oct(0b111)\n",
    "\n",
    "# to convert to hexadecimal number, use 0x in front of the decimal number,\n",
    "# or use hex() method to transform from other number systems\n",
    "0x10\n",
    "0x1F\n",
    "hex(0o123)\n",
    "hex(123)"
   ]
  },
  {
   "cell_type": "markdown",
   "metadata": {},
   "source": [
    "### Bool type (a special type of number)"
   ]
  },
  {
   "cell_type": "code",
   "execution_count": null,
   "metadata": {
    "ExecuteTime": {
     "end_time": "2020-05-18T16:43:35.496464Z",
     "start_time": "2020-05-18T16:43:35.470571Z"
    }
   },
   "outputs": [],
   "source": [
    "# only 0 is False, non-zero numbers are all True, including negtive numbers, decimal numbers\n",
    "True\n",
    "False\n",
    "type(True)\n",
    "int(True)\n",
    "int(False)\n",
    "bool(1)\n",
    "bool(0)\n",
    "bool(234.5867)\n",
    "bool(-123.3454)\n",
    "bool(0)\n",
    "\n",
    "# Not only numbers can represented by bool.\n",
    "bool('abc')\n",
    "bool('')\n",
    "bool([1,2,3])\n",
    "bool([])\n",
    "bool({})\n",
    "bool(None)"
   ]
  },
  {
   "cell_type": "markdown",
   "metadata": {},
   "source": [
    "### Complex number"
   ]
  },
  {
   "cell_type": "code",
   "execution_count": null,
   "metadata": {},
   "outputs": [],
   "source": [
    "# j is used to represent complex number\n",
    "36j"
   ]
  },
  {
   "cell_type": "markdown",
   "metadata": {},
   "source": [
    "## String\n",
    "### Representing string"
   ]
  },
  {
   "cell_type": "code",
   "execution_count": null,
   "metadata": {},
   "outputs": [],
   "source": [
    "# use '', \"\" or \"\"\"\"\"\" to represent strings\n",
    "'hello'\n",
    "\"Hello\"\n",
    "type('1')\n",
    "\n",
    "# quate symble inside of the strings\n",
    "\"Let's go\"\n",
    "'She said:\"I am hungry.\"'\n",
    "\n",
    "# Use escape character (not recommanded)\n",
    "'let\\'s go'\n",
    "\n",
    "# Use '''''' or \"\"\"\"\"\" for multi-line strings\n",
    "# output of the following is '\\nfist line\\nsecond line\\nthird line\\n'\n",
    "# \\n means a new line (Enter key press)\n",
    "\"\"\"\n",
    "fist line\n",
    "second line\n",
    "third line\n",
    "\"\"\"\n",
    "\n",
    "# What about this? here \\n is not interperated as escape charater for new line,\n",
    "# but rather a character like the rest of the string.\n",
    "\"\"\"first line\\nsecond line\\nthird line\"\"\"\n",
    "\n",
    "# Now how about this?\n",
    "print(\"\"\"first line\\nsecond line\\nthird line\"\"\") # '' or \"\" also works\n",
    "\n",
    "# Write multer-line string inside of single quote\n",
    "# the out put is still a single line string without the \\n representing a new line\n",
    "'first\\\n",
    "line'"
   ]
  },
  {
   "cell_type": "markdown",
   "metadata": {},
   "source": [
    "### Escape characters\n",
    "a) characters that can not be seen like \"Enter\" \"Tab\"\n",
    "b) characters that are conflicting the python syntax"
   ]
  },
  {
   "cell_type": "code",
   "execution_count": null,
   "metadata": {},
   "outputs": [],
   "source": [
    "# \\n  new line\n",
    "# \\'  single quote\n",
    "# \\t  tab\n",
    "# \\r  enter\n",
    "\n",
    "# How to print 'Hello \\n world' with the \\n in the string \n",
    "# but not changing to a new line?\n",
    "print('Hello \\\\n world')\n",
    "\n",
    "# This is usful when there is windows path in your code, e.g.\n",
    "print('c:\\northwind\\northwest') # what the output would it be?\n",
    "print('c:\\\\northwind\\\\northwest') # How about now?\n",
    "\n",
    "# Another way to solve this problem is to add r or R in front of the path string.\n",
    "print(r'c:\\northwind\\northwest') # r or R convert a string into a original string, \n",
    "                                 # meaning it is what it is written.\n",
    "\n",
    "# Think about this one\n",
    "# print(r'let's go')  # uncomment to try, why this has an error?\n",
    "# Because to use r, it must follow a valid string,\n",
    "# but 'let's go' is not a valid string, as the quote is not in pairs.\n"
   ]
  },
  {
   "cell_type": "markdown",
   "metadata": {},
   "source": [
    "### Manipulating strings"
   ]
  },
  {
   "cell_type": "code",
   "execution_count": null,
   "metadata": {},
   "outputs": [],
   "source": [
    "# concatenate strings\n",
    "'hello' + 'world'\n",
    "'hello' * 3\n",
    "\n",
    "# sting indexing\n",
    "a = 'hello world'\n",
    "a[0]\n",
    "a[5]\n",
    "a[-1]\n",
    "a[-5]\n",
    "a[:7]\n",
    "a[2:6]\n",
    "a[:-1]\n",
    "a[3:-3]\n",
    "a[6:]\n",
    "a[-5:]\n",
    "a[-1:-4] # what does this return?\n",
    "a[:9:2]\n",
    "#a[::-1] # what does this return?\n"
   ]
  },
  {
   "cell_type": "markdown",
   "metadata": {},
   "source": [
    "## List"
   ]
  },
  {
   "cell_type": "code",
   "execution_count": null,
   "metadata": {},
   "outputs": [],
   "source": [
    "# use[] to define list\n",
    "type([1,2,3,4,5])\n",
    "\n",
    "# items in list can be a mix of any data type\n",
    "type([1, 'world', [3,4,5], {'name':'eric', 'age':24}, False])\n"
   ]
  },
  {
   "cell_type": "markdown",
   "metadata": {},
   "source": [
    "### Manipulating list"
   ]
  },
  {
   "cell_type": "code",
   "execution_count": null,
   "metadata": {},
   "outputs": [],
   "source": [
    "# list indexing\n",
    "ls1 = ['Tomato', 'celery', 'cucumber', 'eggplant', 'califlower', 'spinich']\n",
    "ls1[0]\n",
    "ls1[:3] # what data type of the output?\n",
    "ls1[-1:] # what data type of the output?\n"
   ]
  },
  {
   "cell_type": "code",
   "execution_count": null,
   "metadata": {},
   "outputs": [],
   "source": [
    "#  list operation\n",
    "ls2 = ['watermelon', 'apple', 'pear', 'orange']\n",
    "ls1 + ls2 #what is ls1 and ls2 now?\n",
    "ls2 * 2"
   ]
  },
  {
   "cell_type": "code",
   "execution_count": null,
   "metadata": {},
   "outputs": [],
   "source": [
    "# list nesting\n",
    "nest_list = [[1,2,3], [4,5,6], [7,8,9], ['a','b','c']]\n",
    "nest_list[2]\n",
    "nest_list[3][1]\n"
   ]
  },
  {
   "cell_type": "markdown",
   "metadata": {},
   "source": [
    "## Tuple"
   ]
  },
  {
   "cell_type": "code",
   "execution_count": null,
   "metadata": {},
   "outputs": [],
   "source": [
    "# define a tuple\n",
    "t = (1,2,3,4)\n",
    "\n",
    "# tuple has the same opretion and indexing as list\n",
    "\n",
    "type((1)) # what is the output?\n",
    "type(('hello')) # how about this one?\n",
    "\n",
    "type((1,)) # and this one?\n",
    "\n",
    "# if there is only one element inside of the parathesis, python consider the\n",
    "# parathesis as operation symble, but not for the tuple. \n",
    "# an empty tuple can be defined as a pair of parathesis without any element in.\n",
    "\n",
    "type(())"
   ]
  },
  {
   "cell_type": "markdown",
   "metadata": {},
   "source": [
    "## Sequence"
   ]
  },
  {
   "cell_type": "markdown",
   "metadata": {},
   "source": [
    "str, list tuple data type are call sequence, they are a sequence of element and each element has its own position in the sequence.\n",
    "You can do indexing and slicing on sequence.\n",
    "use in or not in to see if a certain element is in the sequence\n",
    "len() return the number of elements of the sequence\n",
    "max() return the maximum element in the sequence \n",
    "min() ...........minimum .......................\n"
   ]
  },
  {
   "cell_type": "code",
   "execution_count": null,
   "metadata": {},
   "outputs": [],
   "source": [
    "ls1 = ['Tomato', 'celery', 'cucumber', 'eggplant', 'califlower', 'spinich']\n",
    "ls2 = ['watermelon', 'apple', 'pear', 'orange']\n",
    "nest_list = [[1,2,3], [4,5,6], [7,8,9], ['a','b','c']]\n",
    "# max(nest_list) # can you do this? uncomment and try.\n",
    "\n",
    "# compare words is to compare on the 1st letter of each word, the the 2nd letter\n",
    "# until it can distinguish the order.\n",
    "\n",
    "# numbers can't compare with strings"
   ]
  },
  {
   "cell_type": "code",
   "execution_count": null,
   "metadata": {},
   "outputs": [],
   "source": [
    "max('hello world')\n",
    "min('hello world')"
   ]
  },
  {
   "cell_type": "code",
   "execution_count": null,
   "metadata": {},
   "outputs": [],
   "source": [
    "# python compares the ascII number of the characters\n",
    "\n",
    "# return the ascII number of the sigle character\n",
    "ord('w')\n",
    "ord(\" \")\n",
    "ord('T')\n",
    "ord('s') # That is why 'spinich' is bigger that 'Tomato', \n",
    "         # although t is the latter in alphabetic order, \n",
    "         # but capital 'T' has smaller ascII number than small letter 's'"
   ]
  },
  {
   "cell_type": "markdown",
   "metadata": {},
   "source": [
    "## Set\n",
    "### set doesn't have order, therefore some operation in sequence can't apply to set"
   ]
  },
  {
   "cell_type": "code",
   "execution_count": null,
   "metadata": {},
   "outputs": [],
   "source": [
    "# define a set\n",
    "type({1,2,3,4,5,6})\n",
    "\n",
    "# how to define an empty set\n",
    "set() # why not {}\n",
    "\n",
    "type({}) # see what type is this\n",
    "\n",
    "# You can not indexing and slicing set"
   ]
  },
  {
   "cell_type": "code",
   "execution_count": null,
   "metadata": {},
   "outputs": [],
   "source": [
    "# elements in set is unduplicable\n",
    "{1,1,2,2,4,5,6,3,2,4,3}"
   ]
  },
  {
   "cell_type": "code",
   "execution_count": null,
   "metadata": {},
   "outputs": [],
   "source": [
    "# some functions that works in sequence can use in set\n",
    "s = {1,1,2,2,4,5,6,3,2,4,3}\n",
    "len(s)\n",
    "1 not in s"
   ]
  },
  {
   "cell_type": "code",
   "execution_count": null,
   "metadata": {},
   "outputs": [],
   "source": [
    "# operation of set\n",
    "s2 = {7,0,3,4}\n",
    "s - {3,4} # this doesn't change the original set\n",
    "s\n",
    "s & s2\n",
    "s | s2"
   ]
  },
  {
   "cell_type": "markdown",
   "metadata": {},
   "source": [
    "## Dict"
   ]
  },
  {
   "cell_type": "code",
   "execution_count": null,
   "metadata": {},
   "outputs": [],
   "source": [
    "# define a dict\n",
    "d = {'W':'watermelon', 'A':'apple', 'P':'pear', 'O':'orange'}\n",
    "\n",
    "# define an empty dict\n",
    "{}\n",
    "\n",
    "# access value through\n",
    "d['P']"
   ]
  },
  {
   "cell_type": "code",
   "execution_count": null,
   "metadata": {},
   "outputs": [],
   "source": [
    "# dict can not have duplicated keys\n",
    "d1 = {'W':'watermelon', 'W':'apple', 'P':'pear', 'O':'orange'}\n",
    "d1 # 'W':'apple' overwrite the first key 'W'"
   ]
  },
  {
   "cell_type": "code",
   "execution_count": null,
   "metadata": {},
   "outputs": [],
   "source": [
    "# value of the dict can be any data type\n",
    "# key of the dict must be immutable data type, like str, tuple"
   ]
  }
 ],
 "metadata": {
  "kernelspec": {
   "display_name": "Python 3",
   "language": "python",
   "name": "python3"
  },
  "language_info": {
   "codemirror_mode": {
    "name": "ipython",
    "version": 3
   },
   "file_extension": ".py",
   "mimetype": "text/x-python",
   "name": "python",
   "nbconvert_exporter": "python",
   "pygments_lexer": "ipython3",
   "version": "3.7.6"
  },
  "notify_time": "10",
  "toc": {
   "base_numbering": 1,
   "nav_menu": {},
   "number_sections": true,
   "sideBar": true,
   "skip_h1_title": false,
   "title_cell": "Table of Contents",
   "title_sidebar": "Contents",
   "toc_cell": false,
   "toc_position": {},
   "toc_section_display": true,
   "toc_window_display": false
  },
  "varInspector": {
   "cols": {
    "lenName": 16,
    "lenType": 16,
    "lenVar": 40
   },
   "kernels_config": {
    "python": {
     "delete_cmd_postfix": "",
     "delete_cmd_prefix": "del ",
     "library": "var_list.py",
     "varRefreshCmd": "print(var_dic_list())"
    },
    "r": {
     "delete_cmd_postfix": ") ",
     "delete_cmd_prefix": "rm(",
     "library": "var_list.r",
     "varRefreshCmd": "cat(var_dic_list()) "
    }
   },
   "position": {
    "height": "761px",
    "left": "1534px",
    "right": "20px",
    "top": "126px",
    "width": "350px"
   },
   "types_to_exclude": [
    "module",
    "function",
    "builtin_function_or_method",
    "instance",
    "_Feature"
   ],
   "window_display": true
  }
 },
 "nbformat": 4,
 "nbformat_minor": 4
}
