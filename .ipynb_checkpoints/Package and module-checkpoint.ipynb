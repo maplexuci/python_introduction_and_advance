{
 "cells": [
  {
   "cell_type": "code",
   "execution_count": null,
   "metadata": {},
   "outputs": [],
   "source": []
  },
  {
   "cell_type": "markdown",
   "metadata": {},
   "source": [
    "structure organization of a python project:  \n",
    "**package**  \n",
    "**module**  \n",
    "**class**  \n",
    "&nbsp;&nbsp;&nbsp;&nbsp;function, variable"
   ]
  },
  {
   "cell_type": "code",
   "execution_count": 2,
   "metadata": {
    "ExecuteTime": {
     "end_time": "2020-05-20T18:19:07.291843Z",
     "start_time": "2020-05-20T18:19:07.285861Z"
    }
   },
   "outputs": [],
   "source": [
    "# package is like a folder, module is like a file in that folder, classes are in the module, which functions and variables defined.\n",
    "# To make a folder become a package, it need a file named __init__.py in that folder.\n",
    "# package name is the folder name, moldule name is the file name in the package.\n",
    "# package can contain sub-package.\n",
    "\n"
   ]
  },
  {
   "cell_type": "code",
   "execution_count": 3,
   "metadata": {
    "ExecuteTime": {
     "end_time": "2020-05-20T18:34:17.765541Z",
     "start_time": "2020-05-20T18:34:17.760599Z"
    }
   },
   "outputs": [],
   "source": [
    "# Import module in python:\n",
    "\n",
    "# import module_name\n",
    "# import package_name.module_name\n",
    "# from package_name import module_name as user_defined_variable_name\n",
    "# from ... import *  # import everything from a certain module.\n",
    "# In a certain module, add __all__ = ['variable1', 'variable2',...] to define which variable can be import when using *.\n",
    "\n",
    "# from moldule_name import var_1, var_2...  # import muliple variables\n",
    "\n",
    "\n",
    "# Always be aware of the naming spacing of each module, class, function or variable you are importing.\n",
    "# import statement always import module, couldn't import variable. Need to use moduld_name.variable_name to access in the following code after importing the module.\n",
    "# variable can be imported using from package_name.module_name import variable_name\n"
   ]
  },
  {
   "cell_type": "code",
   "execution_count": null,
   "metadata": {},
   "outputs": [],
   "source": [
    "# __init__.py\n",
    "# This is the file that each package has and will be firstly excuted when a package is imported.\n",
    "# It can also be excuted when a module in that package is imported.\n",
    "# Therefore it can be used to initialization of a package. e.g. import all the necessary packages in this file, so you don't need to do repetitive work in the rest of the modules .\n",
    "\n",
    "# You can add __all__=['module1', 'module2'...] in the __init__.py file to customize the modules you can import using *.\n",
    " \n",
    "# Packages and modules ara not imported competitively. Meaning, if two modules imported the same packages, thoes packages are only imported once.\n",
    "# So import the common packages needed in the __init__.py file and those packages can be used for all the modules in that packages.\n",
    "\n",
    "# Avoid importing modules in a loop. e.g. in module1 import module2 and at the same time import module1 in module2.\n",
    "\n"
   ]
  }
 ],
 "metadata": {
  "kernelspec": {
   "display_name": "Python 3",
   "language": "python",
   "name": "python3"
  },
  "language_info": {
   "codemirror_mode": {
    "name": "ipython",
    "version": 3
   },
   "file_extension": ".py",
   "mimetype": "text/x-python",
   "name": "python",
   "nbconvert_exporter": "python",
   "pygments_lexer": "ipython3",
   "version": "3.7.6"
  },
  "toc": {
   "base_numbering": 1,
   "nav_menu": {},
   "number_sections": true,
   "sideBar": true,
   "skip_h1_title": false,
   "title_cell": "Table of Contents",
   "title_sidebar": "Contents",
   "toc_cell": false,
   "toc_position": {},
   "toc_section_display": true,
   "toc_window_display": false
  },
  "varInspector": {
   "cols": {
    "lenName": 16,
    "lenType": 16,
    "lenVar": 40
   },
   "kernels_config": {
    "python": {
     "delete_cmd_postfix": "",
     "delete_cmd_prefix": "del ",
     "library": "var_list.py",
     "varRefreshCmd": "print(var_dic_list())"
    },
    "r": {
     "delete_cmd_postfix": ") ",
     "delete_cmd_prefix": "rm(",
     "library": "var_list.r",
     "varRefreshCmd": "cat(var_dic_list()) "
    }
   },
   "types_to_exclude": [
    "module",
    "function",
    "builtin_function_or_method",
    "instance",
    "_Feature"
   ],
   "window_display": false
  }
 },
 "nbformat": 4,
 "nbformat_minor": 4
}
