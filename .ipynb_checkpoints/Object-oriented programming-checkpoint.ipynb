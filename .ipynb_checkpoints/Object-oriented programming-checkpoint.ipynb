{
 "cells": [
  {
   "cell_type": "markdown",
   "metadata": {},
   "source": [
    "# Class\n",
    "The fundamental function of a class is to pack a butch of code that containing different variables and function, to fulfill a specific function."
   ]
  },
  {
   "cell_type": "markdown",
   "metadata": {},
   "source": [
    "## Define a class"
   ]
  },
  {
   "cell_type": "code",
   "execution_count": 1,
   "metadata": {
    "ExecuteTime": {
     "end_time": "2020-05-20T23:08:54.714962Z",
     "start_time": "2020-05-20T23:08:54.636664Z"
    }
   },
   "outputs": [
    {
     "ename": "TypeError",
     "evalue": "print_file() takes 0 positional arguments but 1 was given",
     "output_type": "error",
     "traceback": [
      "\u001b[1;31m---------------------------------------------------------------------------\u001b[0m",
      "\u001b[1;31mTypeError\u001b[0m                                 Traceback (most recent call last)",
      "\u001b[1;32m<ipython-input-1-fcc39e88a074>\u001b[0m in \u001b[0;36m<module>\u001b[1;34m\u001b[0m\n\u001b[0;32m     11\u001b[0m \u001b[1;33m\u001b[0m\u001b[0m\n\u001b[0;32m     12\u001b[0m \u001b[0mstudent\u001b[0m \u001b[1;33m=\u001b[0m \u001b[0mStudent\u001b[0m\u001b[1;33m(\u001b[0m\u001b[1;33m)\u001b[0m  \u001b[1;31m# An instance of a class\u001b[0m\u001b[1;33m\u001b[0m\u001b[1;33m\u001b[0m\u001b[0m\n\u001b[1;32m---> 13\u001b[1;33m \u001b[0mstudent\u001b[0m\u001b[1;33m.\u001b[0m\u001b[0mprint_file\u001b[0m\u001b[1;33m(\u001b[0m\u001b[1;33m)\u001b[0m \u001b[1;31m# Call the method of a class\u001b[0m\u001b[1;33m\u001b[0m\u001b[1;33m\u001b[0m\u001b[0m\n\u001b[0m\u001b[0;32m     14\u001b[0m \u001b[1;33m\u001b[0m\u001b[0m\n",
      "\u001b[1;31mTypeError\u001b[0m: print_file() takes 0 positional arguments but 1 was given"
     ]
    }
   ],
   "source": [
    "# use class to define a class\n",
    "# naming of class should use first letter capitaledized word, if you need two word,\n",
    "# do not use _ to between them, instead put them together, but capitalize the 1st letter of each word \n",
    "class Student():  # () can be optional (when it is a superclass), or empty or have parameters.\n",
    "    name = ''     # some arguments of the class\n",
    "    age = 0\n",
    "    \n",
    "    def print_file():  # this function is a method of the class\n",
    "        print('name: ' + name)\n",
    "        print('age: ' + str(age))\n",
    "    \n",
    "student = Student()  # An instance of a class\n",
    "student.print_file() # Call the method of a class\n",
    "\n",
    "# This will cause the following error.\n",
    "    "
   ]
  },
  {
   "cell_type": "code",
   "execution_count": 2,
   "metadata": {
    "ExecuteTime": {
     "end_time": "2020-05-20T23:13:03.883552Z",
     "start_time": "2020-05-20T23:13:03.876571Z"
    }
   },
   "outputs": [
    {
     "name": "stdout",
     "output_type": "stream",
     "text": [
      "name: \n",
      "age: 0\n"
     ]
    }
   ],
   "source": [
    "# To fix the above\n",
    "class Student():\n",
    "    name = ''\n",
    "    age = 0\n",
    "    \n",
    "    def print_file(self):  # You need self as an argument, eventhough there is no other parameters.\n",
    "        print('name: ' + self.name) # need to use self to call the variable assigned under the class\n",
    "        print('age: ' + str(self.age))\n",
    "    \n",
    "student = Student()  # An instance of a class\n",
    "student.print_file() # Call the method of a class"
   ]
  },
  {
   "cell_type": "markdown",
   "metadata": {},
   "source": [
    "- Class is only to define or describe a type of objects, but it doesn't execute what it defines.  \n",
    "  \n",
    "  \n",
    "- So you couldn't call the functions that are defined in the class.  \n",
    "  \n",
    "  \n",
    "- It's better to just define a class in a module, without making instance or calling methods of it in the same module.  \n",
    "  \n",
    "  \n",
    "- Instead, making instance of a class or call methods of it in another different module."
   ]
  },
  {
   "cell_type": "markdown",
   "metadata": {},
   "source": [
    "## Difference between function and method\n",
    "\n",
    "- There is no absolute difference between function and method.\n",
    "- The functions defined inside of the class should be called method.\n",
    "- Functions directly defined in a module should be called function.\n",
    "\n",
    "No need to particularly distinguish the concept of function and method.\n"
   ]
  },
  {
   "cell_type": "markdown",
   "metadata": {},
   "source": [
    "## Relationship of class and object\n",
    "\n",
    "- Class is the in-computer reflection of the objects of the real world.\n",
    "- It packs all the data and operations of the data.\n",
    "- Data is the description of the **characteristics** of object, assigned to variables.\n",
    "- Methods in the class operate the data(the variables), describing the **behavior** of the object.\n",
    "- For example, if you defined a class of Student, student characteristics such as name, age, height, gender....is the data. Student behaviors such as, attend class, do homework, take exam.... are described by defining methods that operate the data variables.\n",
    "- For a good practice of designing classes, it is important to make clear what is the **subject** of the **behavior**.\n",
    "-  For instance, in the above example, it should be noted that, all the behaviors belongs to what a student might directly do. Behaviors like print file, may sounds like a thing that student do, but the actual object doing the printing is the printer. Therefore, if we define another class called Printer, that would be making more sense and it is a good practice of designing object-oriented programming.\n",
    "  \n",
    "  \n",
    "- Class is the abstract summary of a group of objects that describing their common characteristics and behaviors. It is like a template.\n",
    "- Object is the instance of the class, that comes from the template of the class.\n",
    "- Object instance comes from a class inherit all the characteristics and behavior in the class."
   ]
  },
  {
   "cell_type": "markdown",
   "metadata": {},
   "source": [
    "## Creat instances"
   ]
  },
  {
   "cell_type": "code",
   "execution_count": 1,
   "metadata": {
    "ExecuteTime": {
     "end_time": "2020-05-21T15:58:11.211189Z",
     "start_time": "2020-05-21T15:58:11.205206Z"
    }
   },
   "outputs": [],
   "source": [
    "class Student():\n",
    "    name = ''\n",
    "    age = 0\n",
    "    \n",
    "    def do_homework(self):\n",
    "        print('homework') \n",
    "    \n",
    "student1 = Student()\n",
    "student2 = Student()\n",
    "student3 = Student()\n"
   ]
  },
  {
   "cell_type": "markdown",
   "metadata": {},
   "source": [
    "- In the above example, three instances of class Student are created.\n",
    "- Each instance has a different ID, even though they have the same characteristic. (same name and age in this example)."
   ]
  },
  {
   "cell_type": "code",
   "execution_count": 5,
   "metadata": {
    "ExecuteTime": {
     "end_time": "2020-05-21T16:11:02.438213Z",
     "start_time": "2020-05-21T16:11:02.429272Z"
    }
   },
   "outputs": [
    {
     "name": "stdout",
     "output_type": "stream",
     "text": [
      "student\n",
      "student\n"
     ]
    }
   ],
   "source": [
    "# How to make instances having different characteristic.\n",
    "class Student():\n",
    "    name = ''\n",
    "    age = 0\n",
    "    \n",
    "    def __init__(self):\n",
    "        # This is a constructor function, existing in every class.\n",
    "        print('student')\n",
    "        \n",
    "    def do_homework(self):\n",
    "        print('homework') \n",
    "        \n",
    "student1 = Student()\n",
    "student1.__init__()  # Why the output prints twice of 'student'\n",
    "\n",
    "# Constructor function is self-callable, meaning it will execute whenever an instance is created.\n",
    "# So, if you comment out the code student1.__init__(), there will still be a 'student' print out because instance student1 is created.\n",
    "# This example also shows that __init__() can be called by instance.__init__(), but nomarlly not a common practice, and not necessary.\n",
    "\n"
   ]
  },
  {
   "cell_type": "code",
   "execution_count": 6,
   "metadata": {
    "ExecuteTime": {
     "end_time": "2020-05-21T16:14:11.084338Z",
     "start_time": "2020-05-21T16:14:11.078390Z"
    }
   },
   "outputs": [
    {
     "name": "stdout",
     "output_type": "stream",
     "text": [
      "student\n",
      "None\n",
      "<class 'NoneType'>\n"
     ]
    }
   ],
   "source": [
    "# What is the return of the constructor like we call it in the above example\n",
    "a = student1.__init__()\n",
    "print(a)\n",
    "print(type(a))\n",
    "\n",
    "# We can see the return value of the constructor is None is this example.\n",
    "# Because if we call the constructor, it is just like a normal function, as it doesn't have return statement in this example, so the return value if None.\n",
    "# There is still a 'student' print out, because this is the result of calling this function, it print 'student'. But the return value is None.\n",
    "# Note the difference between function output and return value."
   ]
  },
  {
   "cell_type": "code",
   "execution_count": 7,
   "metadata": {
    "ExecuteTime": {
     "end_time": "2020-05-21T16:25:41.460355Z",
     "start_time": "2020-05-21T16:25:41.245797Z"
    }
   },
   "outputs": [
    {
     "name": "stdout",
     "output_type": "stream",
     "text": [
      "student\n"
     ]
    },
    {
     "ename": "TypeError",
     "evalue": "__init__() should return None, not 'str'",
     "output_type": "error",
     "traceback": [
      "\u001b[1;31m---------------------------------------------------------------------------\u001b[0m",
      "\u001b[1;31mTypeError\u001b[0m                                 Traceback (most recent call last)",
      "\u001b[1;32m<ipython-input-7-54516e970b84>\u001b[0m in \u001b[0;36m<module>\u001b[1;34m\u001b[0m\n\u001b[0;32m     12\u001b[0m         \u001b[0mprint\u001b[0m\u001b[1;33m(\u001b[0m\u001b[1;34m'homework'\u001b[0m\u001b[1;33m)\u001b[0m\u001b[1;33m\u001b[0m\u001b[1;33m\u001b[0m\u001b[0m\n\u001b[0;32m     13\u001b[0m \u001b[1;33m\u001b[0m\u001b[0m\n\u001b[1;32m---> 14\u001b[1;33m \u001b[0mstudent1\u001b[0m \u001b[1;33m=\u001b[0m \u001b[0mStudent\u001b[0m\u001b[1;33m(\u001b[0m\u001b[1;33m)\u001b[0m\u001b[1;33m\u001b[0m\u001b[1;33m\u001b[0m\u001b[0m\n\u001b[0m\u001b[0;32m     15\u001b[0m \u001b[0mstudent1\u001b[0m\u001b[1;33m.\u001b[0m\u001b[0m__init__\u001b[0m\u001b[1;33m(\u001b[0m\u001b[1;33m)\u001b[0m\u001b[1;33m\u001b[0m\u001b[1;33m\u001b[0m\u001b[0m\n",
      "\u001b[1;31mTypeError\u001b[0m: __init__() should return None, not 'str'"
     ]
    }
   ],
   "source": [
    "# Another question, can a constructor function return other data type?\n",
    "class Student():\n",
    "    name = ''\n",
    "    age = 0\n",
    "    \n",
    "    def __init__(self):\n",
    "        # This is a constructor function, existing in every class.\n",
    "        print('student')\n",
    "        return 'student'  # Try to let constructor return something\n",
    "        \n",
    "    def do_homework(self):\n",
    "        print('homework') \n",
    "        \n",
    "student1 = Student()\n",
    "student1.__init__()\n",
    "\n",
    "# Now, we got error, saying, __init() should return None.\n",
    "# So __init() should only return None."
   ]
  },
  {
   "cell_type": "code",
   "execution_count": 9,
   "metadata": {
    "ExecuteTime": {
     "end_time": "2020-05-21T18:53:11.941341Z",
     "start_time": "2020-05-21T18:53:11.933363Z"
    }
   },
   "outputs": [
    {
     "name": "stdout",
     "output_type": "stream",
     "text": [
      "\n"
     ]
    }
   ],
   "source": [
    "# Constructor function is to make different instances from your class template\n",
    "class Student():\n",
    "    name = ''\n",
    "    age = 0\n",
    "    \n",
    "    def __init__(self, name, age):  # Giving constructor parameters to generate intances differeniate in these characteristics.\n",
    "        # This is a constructor function, existing in every class.\n",
    "        # Initialize the object characteristic\n",
    "        name = name\n",
    "        age = age \n",
    "        \n",
    "student1 = Student('Lily', 18)  # Once the constructor has parameters, you need to give arguments to call the class to make instances.\n",
    "print(student1.name)  # Why the output is empty str?\n",
    "\n",
    "# This means that the variable assignment (name = name) in the confactors didn't change the initial value of the variable (name = '')\n",
    "\n",
    "# Is it because of the following reason?\n",
    "# Because name and age are assigned as global variables under the class definition. \n",
    "# When you assign a variable to the same name in local(in a function), it only works locally, but won't change the global variable.\n",
    "\n",
    "\n",
    "# The answer is no. The above explanation applies for a module.\n",
    "# But this concept is not equivelent in class.\n",
    "# So what is the real reason?\n",
    "# See next section."
   ]
  },
  {
   "cell_type": "markdown",
   "metadata": {},
   "source": [
    "### Class variable & instance variable\n",
    "\n",
    "- Class variables are the variables that always related to the class.\n",
    "  \n",
    "  \n",
    "- Instance variables are the variables that always related to the objects\n",
    "  \n",
    "  \n",
    "In the above example, the variable `name` in `name = ''` as well as `age` in `age = 0` is class variable.  \n",
    "\n",
    "But the characteristics of different objects when creating instances need to be saved to somewhere, which can not be the class variable.  \n",
    "Then it need to use `self` (by convention) in the constructor function to indicate of different instances and assign instance variables like `self.variable_name_1 = parameter_name_1`. `self` here is not a key word. Because you can use any other proper word, say `this` to substitute `self`. It is just that `self` is used commonly by convention.\n",
    "\n",
    "So, in the modified code below, the variable `self.name` and `self.age` defined in the constructor function are instance variables."
   ]
  },
  {
   "cell_type": "code",
   "execution_count": 11,
   "metadata": {
    "ExecuteTime": {
     "end_time": "2020-05-21T19:29:06.515144Z",
     "start_time": "2020-05-21T19:29:06.505171Z"
    }
   },
   "outputs": [
    {
     "name": "stdout",
     "output_type": "stream",
     "text": [
      "Lily\n"
     ]
    }
   ],
   "source": [
    "# So to correctly assign instance variables.\n",
    "class Student():\n",
    "    name = ''\n",
    "    age = 0\n",
    "    \n",
    "    def __init__(self, name, age):  # Giving constructor parameters to generate intances differeniate in these characteristics.\n",
    "        # This is a constructor function, existing in every class.\n",
    "        # Initialize the object characteristic\n",
    "        self.name = name  # Assigning instance variable. name after self is the variable name, name on the right side of the = is the parameter you want to pass to this variable.\n",
    "        self.age = age    # Assigning instance variable\n",
    "        \n",
    "student1 = Student('Lily', 18)  # Once the constructor has parameters, you need to give arguments to call the class to make instances.\n",
    "print(student1.name)"
   ]
  },
  {
   "cell_type": "code",
   "execution_count": 12,
   "metadata": {
    "ExecuteTime": {
     "end_time": "2020-05-21T19:31:16.995790Z",
     "start_time": "2020-05-21T19:31:16.991839Z"
    }
   },
   "outputs": [],
   "source": [
    "# Difference of class variable and instance variable grammarlly.\n",
    "# See the following modified code\n"
   ]
  },
  {
   "cell_type": "code",
   "execution_count": 13,
   "metadata": {
    "ExecuteTime": {
     "end_time": "2020-05-21T19:34:59.366700Z",
     "start_time": "2020-05-21T19:34:59.355756Z"
    }
   },
   "outputs": [
    {
     "name": "stdout",
     "output_type": "stream",
     "text": [
      "Lily\n",
      "Hayley\n",
      "Diablo\n"
     ]
    }
   ],
   "source": [
    "class Student():\n",
    "    name = 'Diablo'\n",
    "    age = 0\n",
    "    \n",
    "    def __init__(self, name, age):\n",
    "        self.name = name  \n",
    "        self.age = age    \n",
    "        \n",
    "student1 = Student('Lily', 18) \n",
    "student2 = Student('Hayley', 20)\n",
    "print(student1.name)  # Print the name variable value of the first instance.\n",
    "print(student2.name)  # Print the name variable value of the second instance.\n",
    "print(Student.name)   # Print the name variable value of the class."
   ]
  },
  {
   "cell_type": "markdown",
   "metadata": {},
   "source": [
    "Therefore, it is not alsway make sense to assign class variables. Like in this example, Student class is representing many students, so to assign `name` or `age` to a abstract object is not making sense. Those variables should assigned to each individuel instance.  \n",
    "It doesn't mean it is not necessary to assign class variables. For instance, if we assign another class variable `sum = 200`, it would make more sense if considering the Studing class if representing the student number in the whole grade of a school."
   ]
  },
  {
   "cell_type": "code",
   "execution_count": 14,
   "metadata": {
    "ExecuteTime": {
     "end_time": "2020-05-21T20:58:54.797963Z",
     "start_time": "2020-05-21T20:58:54.793977Z"
    }
   },
   "outputs": [],
   "source": [
    "# Back to the question above this section, \n",
    "# why that code returns the value of the class variable, when calling for the name variable of that instance..\n",
    "# Reason:\n",
    "# Without using self when assigning variables, the fact is no variable is assigned to the instance.\n",
    "# You can check this by calling __dict__ variable of the instance. This will return a dict containing all the variables and their values. You will find it is a empty dict.\n",
    "# Then it comes to the rule of python searching variable names:\n",
    "# When you call the variable in the instance, python looks for that variable in the instance variable dict,\n",
    "# when it is not there, python looks for the same name in the class variables dict. You can access this by calling __dict__ using the class name.\n",
    "# In this case, there is no variable in the instance, so python look for class variable and found the same named one and the value of that variable will be returned.\n",
    "\n",
    "\n",
    "# To understand this, run the code in the next cell and see the output."
   ]
  },
  {
   "cell_type": "code",
   "execution_count": 18,
   "metadata": {
    "ExecuteTime": {
     "end_time": "2020-05-21T22:38:57.356620Z",
     "start_time": "2020-05-21T22:38:57.328189Z"
    }
   },
   "outputs": [
    {
     "name": "stdout",
     "output_type": "stream",
     "text": [
      "Lily\n",
      "18\n",
      "Hayley\n",
      "20\n",
      "{'name': 'Lily', 'age': 18}\n"
     ]
    }
   ],
   "source": [
    "class Student():\n",
    "    name = 'Diablo'\n",
    "    age = 0\n",
    "    \n",
    "    def __init__(self, name, age):\n",
    "        self.name = name  \n",
    "        self.age = age    \n",
    "        print(name)\n",
    "        print(age)\n",
    "student1 = Student('Lily', 18) \n",
    "student2 = Student('Hayley', 20)\n",
    "\n",
    "# Why the variable name and age in the print() function don't need self ahead?\n",
    "\n",
    "# When 2 instances are created, variable 'name' and 'age' in the constructor function has the values of each instance.\n",
    "# Based on the variable usage order, when name and age are called in the print(),\n",
    "# Python firstly look for the instance variable then found their value and prints.\n",
    "# This is run when each instance is created, so the output print both instances' name and age value.\n",
    "# This type of calling of instance variables is not recommanded. It's recommaned that use self whenever accessing instance variables.\n",
    "# Because there is a classical error about this, see the code in the following cell.\n"
   ]
  },
  {
   "cell_type": "code",
   "execution_count": 24,
   "metadata": {
    "ExecuteTime": {
     "end_time": "2020-05-21T23:38:43.602433Z",
     "start_time": "2020-05-21T23:38:43.586453Z"
    }
   },
   "outputs": [
    {
     "name": "stdout",
     "output_type": "stream",
     "text": [
      "Lily\n"
     ]
    },
    {
     "ename": "NameError",
     "evalue": "name 'name' is not defined",
     "output_type": "error",
     "traceback": [
      "\u001b[1;31m---------------------------------------------------------------------------\u001b[0m",
      "\u001b[1;31mNameError\u001b[0m                                 Traceback (most recent call last)",
      "\u001b[1;32m<ipython-input-24-6ae9f8287d69>\u001b[0m in \u001b[0;36m<module>\u001b[1;34m\u001b[0m\n\u001b[0;32m      9\u001b[0m         \u001b[0mprint\u001b[0m\u001b[1;33m(\u001b[0m\u001b[0mname\u001b[0m\u001b[1;33m)\u001b[0m\u001b[1;33m\u001b[0m\u001b[1;33m\u001b[0m\u001b[0m\n\u001b[0;32m     10\u001b[0m \u001b[1;33m\u001b[0m\u001b[0m\n\u001b[1;32m---> 11\u001b[1;33m \u001b[0mstudent1\u001b[0m \u001b[1;33m=\u001b[0m \u001b[0mStudent\u001b[0m\u001b[1;33m(\u001b[0m\u001b[1;34m'Lily'\u001b[0m\u001b[1;33m,\u001b[0m \u001b[1;36m18\u001b[0m\u001b[1;33m)\u001b[0m\u001b[1;33m\u001b[0m\u001b[1;33m\u001b[0m\u001b[0m\n\u001b[0m",
      "\u001b[1;32m<ipython-input-24-6ae9f8287d69>\u001b[0m in \u001b[0;36m__init__\u001b[1;34m(self, name1, age)\u001b[0m\n\u001b[0;32m      7\u001b[0m         \u001b[0mself\u001b[0m\u001b[1;33m.\u001b[0m\u001b[0mage\u001b[0m \u001b[1;33m=\u001b[0m \u001b[0mage\u001b[0m\u001b[1;33m\u001b[0m\u001b[1;33m\u001b[0m\u001b[0m\n\u001b[0;32m      8\u001b[0m         \u001b[0mprint\u001b[0m\u001b[1;33m(\u001b[0m\u001b[0mself\u001b[0m\u001b[1;33m.\u001b[0m\u001b[0mname\u001b[0m\u001b[1;33m)\u001b[0m\u001b[1;33m\u001b[0m\u001b[1;33m\u001b[0m\u001b[0m\n\u001b[1;32m----> 9\u001b[1;33m         \u001b[0mprint\u001b[0m\u001b[1;33m(\u001b[0m\u001b[0mname\u001b[0m\u001b[1;33m)\u001b[0m\u001b[1;33m\u001b[0m\u001b[1;33m\u001b[0m\u001b[0m\n\u001b[0m\u001b[0;32m     10\u001b[0m \u001b[1;33m\u001b[0m\u001b[0m\n\u001b[0;32m     11\u001b[0m \u001b[0mstudent1\u001b[0m \u001b[1;33m=\u001b[0m \u001b[0mStudent\u001b[0m\u001b[1;33m(\u001b[0m\u001b[1;34m'Lily'\u001b[0m\u001b[1;33m,\u001b[0m \u001b[1;36m18\u001b[0m\u001b[1;33m)\u001b[0m\u001b[1;33m\u001b[0m\u001b[1;33m\u001b[0m\u001b[0m\n",
      "\u001b[1;31mNameError\u001b[0m: name 'name' is not defined"
     ]
    }
   ],
   "source": [
    "class Student():\n",
    "    name = 'Diablo'\n",
    "    age = 0\n",
    "    \n",
    "    def __init__(self, name1, age):\n",
    "        self.name = name1  \n",
    "        self.age = age\n",
    "        print(self.name)\n",
    "        print(name)\n",
    "\n",
    "student1 = Student('Lily', 18) \n",
    "\n",
    "\n",
    "# You would see an error for print(name) statement, for variable name is not defined.\n",
    "# The reason is, when the previous code works, the name variable in the print(name) statement accesses the parameter 'name' in the (), because they spell the same.\n",
    "# However, when you change the parameter to 'name1', print(name) couldn't access to 'name1', as they spells differently.\n",
    "# And in this method name is not defined, so it returns an error.\n",
    "\n",
    "# Why python didn't search for name in the class variable in the example?\n",
    "# It is the same reason, simply because 'name' variable is not defined in the method.\n",
    "# If it is defined as the following:\n",
    "# def __init__(self, name, age):  \n",
    "#         name = name\n",
    "#         age = age\n",
    "# Then, python will search 'name' variable in the class variable, because without self, no instance variable is assigned.\n"
   ]
  },
  {
   "cell_type": "code",
   "execution_count": 26,
   "metadata": {
    "ExecuteTime": {
     "end_time": "2020-05-22T00:02:03.529576Z",
     "start_time": "2020-05-22T00:02:03.503331Z"
    }
   },
   "outputs": [
    {
     "ename": "NameError",
     "evalue": "name 'sum1' is not defined",
     "output_type": "error",
     "traceback": [
      "\u001b[1;31m---------------------------------------------------------------------------\u001b[0m",
      "\u001b[1;31mNameError\u001b[0m                                 Traceback (most recent call last)",
      "\u001b[1;32m<ipython-input-26-14f45336d50a>\u001b[0m in \u001b[0;36m<module>\u001b[1;34m\u001b[0m\n\u001b[0;32m     15\u001b[0m \u001b[1;33m\u001b[0m\u001b[0m\n\u001b[0;32m     16\u001b[0m \u001b[0mstudent1\u001b[0m \u001b[1;33m=\u001b[0m \u001b[0mStudent\u001b[0m\u001b[1;33m(\u001b[0m\u001b[1;34m'Jane'\u001b[0m\u001b[1;33m,\u001b[0m \u001b[1;36m20\u001b[0m\u001b[1;33m)\u001b[0m\u001b[1;33m\u001b[0m\u001b[1;33m\u001b[0m\u001b[0m\n\u001b[1;32m---> 17\u001b[1;33m \u001b[0mprint\u001b[0m\u001b[1;33m(\u001b[0m\u001b[0mstudent1\u001b[0m\u001b[1;33m.\u001b[0m\u001b[0mdo_homework\u001b[0m\u001b[1;33m(\u001b[0m\u001b[1;33m)\u001b[0m\u001b[1;33m)\u001b[0m\u001b[1;33m\u001b[0m\u001b[1;33m\u001b[0m\u001b[0m\n\u001b[0m",
      "\u001b[1;32m<ipython-input-26-14f45336d50a>\u001b[0m in \u001b[0;36mdo_homework\u001b[1;34m(self)\u001b[0m\n\u001b[0;32m     12\u001b[0m \u001b[1;33m\u001b[0m\u001b[0m\n\u001b[0;32m     13\u001b[0m     \u001b[1;32mdef\u001b[0m \u001b[0mdo_homework\u001b[0m\u001b[1;33m(\u001b[0m\u001b[0mself\u001b[0m\u001b[1;33m)\u001b[0m\u001b[1;33m:\u001b[0m\u001b[1;33m\u001b[0m\u001b[1;33m\u001b[0m\u001b[0m\n\u001b[1;32m---> 14\u001b[1;33m         \u001b[1;32mreturn\u001b[0m \u001b[0msum1\u001b[0m\u001b[1;33m\u001b[0m\u001b[1;33m\u001b[0m\u001b[0m\n\u001b[0m\u001b[0;32m     15\u001b[0m \u001b[1;33m\u001b[0m\u001b[0m\n\u001b[0;32m     16\u001b[0m \u001b[0mstudent1\u001b[0m \u001b[1;33m=\u001b[0m \u001b[0mStudent\u001b[0m\u001b[1;33m(\u001b[0m\u001b[1;34m'Jane'\u001b[0m\u001b[1;33m,\u001b[0m \u001b[1;36m20\u001b[0m\u001b[1;33m)\u001b[0m\u001b[1;33m\u001b[0m\u001b[1;33m\u001b[0m\u001b[0m\n",
      "\u001b[1;31mNameError\u001b[0m: name 'sum1' is not defined"
     ]
    }
   ],
   "source": [
    "# Another question is can you access class variables in the instance methods of a class?\n",
    "# We can define a method in the above class and see.\n",
    "\n",
    "class Student():\n",
    "    sum1 = 0\n",
    "#     name = 'Diablo'\n",
    "#     age = 0\n",
    "    \n",
    "    def __init__(self, name, age):\n",
    "        self.name = name  \n",
    "        self.age = age    \n",
    "        \n",
    "    def do_homework(self):\n",
    "        return sum1\n",
    "        \n",
    "student1 = Student('Jane', 20)\n",
    "print(student1.do_homework())\n",
    "\n",
    "# This will give you an error. Meaning you can't access class variables directly in the instance methods.\n",
    "\n",
    "# The right way to access class variables in instance methods:\n",
    "# is to use class name as the prefix, e.g. Student.sum1\n",
    "# Another way is to use 'self.__class__sum1'\n",
    "# This can be use both inside and outside of the instance methods.\n"
   ]
  },
  {
   "cell_type": "markdown",
   "metadata": {},
   "source": [
    "## Self"
   ]
  },
  {
   "cell_type": "markdown",
   "metadata": {},
   "source": [
    "- `self` is an instance, it is the object for the current method, by which it is called.  \n",
    "  \n",
    "    \n",
    "    \n",
    "- `self` can be substitute with other legal word, but normally we use `self`.\n",
    "\n",
    "  \n",
    "\n",
    "- Any instance methods in a class should have `self` as their first parameter, even though no other parameters are needed. \n",
    "  \n",
    "    \n",
    "- We don't need to assign an argument to `self`.\n",
    "\n",
    "  \n"
   ]
  },
  {
   "cell_type": "markdown",
   "metadata": {},
   "source": [
    "## Class methods"
   ]
  },
  {
   "cell_type": "code",
   "execution_count": 29,
   "metadata": {
    "ExecuteTime": {
     "end_time": "2020-05-22T00:14:14.753303Z",
     "start_time": "2020-05-22T00:14:14.742332Z"
    }
   },
   "outputs": [
    {
     "name": "stdout",
     "output_type": "stream",
     "text": [
      "The current student number is: 1\n",
      "The current student number is: 2\n",
      "The current student number is: 3\n"
     ]
    }
   ],
   "source": [
    "# We talked before to access class variables in instance methods.\n",
    "# How to do operations to the class variables in instance methods?\n",
    "\n",
    "class Student():\n",
    "    sum_number = 0\n",
    "    \n",
    "    def __init__(self, name, age):\n",
    "        self.name = name  \n",
    "        self.age = age\n",
    "        self.__class__.sum_number += 1\n",
    "        print('The current student number is: ' + str(self.__class__.sum_number))\n",
    "        \n",
    "student1 = Student('Jane', 20)\n",
    "student2 = Student('Susan', 20)\n",
    "student3 = Student('Lily', 20)\n"
   ]
  },
  {
   "cell_type": "code",
   "execution_count": 31,
   "metadata": {
    "ExecuteTime": {
     "end_time": "2020-05-22T00:16:37.488990Z",
     "start_time": "2020-05-22T00:16:37.479018Z"
    }
   },
   "outputs": [
    {
     "name": "stdout",
     "output_type": "stream",
     "text": [
      "The current student number is: 1\n",
      "The current student number is: 2\n",
      "The current student number is: 3\n"
     ]
    }
   ],
   "source": [
    "# It could also be achieved in other instance methods other than constructor function.\n",
    "class Student():\n",
    "    sum_number = 0\n",
    "    \n",
    "    def __init__(self, name, age):\n",
    "        self.name = name  \n",
    "        self.age = age\n",
    "     \n",
    "    def do_homework(self):\n",
    "        self.__class__.sum_number += 1\n",
    "        print('The current student number is: ' + str(self.__class__.sum_number))\n",
    "        \n",
    "student1 = Student('Jane', 20)\n",
    "student1.do_homework()  # You just need to call the methods for each instance.\n",
    "student2 = Student('Susan', 20)\n",
    "student2.do_homework()\n",
    "student3 = Student('Lily', 20)\n",
    "student3.do_homework()\n"
   ]
  },
  {
   "cell_type": "markdown",
   "metadata": {},
   "source": [
    "**Class methods is another way to do operations on class variables.**"
   ]
  },
  {
   "cell_type": "code",
   "execution_count": 34,
   "metadata": {
    "ExecuteTime": {
     "end_time": "2020-05-22T17:44:46.918269Z",
     "start_time": "2020-05-22T17:44:46.904343Z"
    }
   },
   "outputs": [
    {
     "name": "stdout",
     "output_type": "stream",
     "text": [
      "The current student number is: 1\n",
      "2\n",
      "The current student number is: 3\n",
      "4\n",
      "The current student number is: 5\n",
      "6\n"
     ]
    }
   ],
   "source": [
    "# How to define a class method.\n",
    "\n",
    "class Student():\n",
    "    sum_number = 0\n",
    "    \n",
    "    def __init__(self, name, age):\n",
    "        self.name = name  \n",
    "        self.age = age\n",
    "        self.__class__.sum_number += 1\n",
    "        print('The current student number is: ' + str(self.__class__.sum_number))\n",
    "     \n",
    "    def do_homework(self):\n",
    "        print('homework')\n",
    "        \n",
    "    @classmethod  # Decorator(装饰器)\n",
    "    def plus_sum(cls):  \n",
    "        # cls is like self in instance methods. It's a convential word for class method.\n",
    "        # cls refers to the class itself.\n",
    "        # But only this def statement without 装饰器 doesn't define a class method.\n",
    "        # Because self in instance method can be changed to any legal word like cls.\n",
    "        # Likewise, cls can also be substitute other legal names, it's a convention.\n",
    "        cls.sum_number += 1  # Call class variable is much easier in class methods compared to  that in instance methods\n",
    "        print(cls.sum_number)\n",
    "    \n",
    "student1 = Student('Jane', 20)\n",
    "Student.plus_sum()  # Use class.class_method to Call class method.\n",
    "student2 = Student('Susan', 20)\n",
    "Student.plus_sum()\n",
    "student3 = Student('Lily', 20)\n",
    "Student.plus_sum()"
   ]
  },
  {
   "cell_type": "code",
   "execution_count": 33,
   "metadata": {
    "ExecuteTime": {
     "end_time": "2020-05-22T17:36:31.283441Z",
     "start_time": "2020-05-22T17:36:31.271483Z"
    }
   },
   "outputs": [
    {
     "name": "stdout",
     "output_type": "stream",
     "text": [
      "The current student number is: 1\n",
      "2\n"
     ]
    }
   ],
   "source": [
    "# Can you call class method using an object (instance)?\n",
    "class Student():\n",
    "    sum_number = 0\n",
    "    \n",
    "    def __init__(self, name, age):\n",
    "        self.name = name  \n",
    "        self.age = age\n",
    "        self.__class__.sum_number += 1\n",
    "        print('The current student number is: ' + str(self.__class__.sum_number))\n",
    "     \n",
    "    def do_homework(self):\n",
    "        print('homework')\n",
    "        \n",
    "    @classmethod\n",
    "    def plus_sum(cls):  \n",
    "        cls.sum_number += 1  \n",
    "        print(cls.sum_number)\n",
    "    \n",
    "student1 = Student('Jane', 20)\n",
    "student1.plus_sum()\n",
    "\n",
    "# It looks like you can call class method usint an object.\n",
    "# But it is not recommanded to do so, logically, it doesn't make sense."
   ]
  },
  {
   "cell_type": "markdown",
   "metadata": {},
   "source": [
    "- **To summarize, class method links to the Class, whereas instance method links to the object.**  \n",
    "  \n",
    "  \n",
    "- **Question: if we can do operations to class variables in instance methods, why there is need to have class methods?**  \n",
    "  \n",
    "  \n",
    "- **Anster: there is nothing wrong grammarlly to operate class variables in instance method, it is just logically, operates class variables in class method makes more sense and make code less confusing.**  \n",
    "\n",
    "\n",
    "- **Call class methods using class instead of an object(although you can do that). To let code make sense logically.**"
   ]
  },
  {
   "cell_type": "markdown",
   "metadata": {},
   "source": [
    "## Static methods"
   ]
  },
  {
   "cell_type": "code",
   "execution_count": 35,
   "metadata": {
    "ExecuteTime": {
     "end_time": "2020-05-22T17:47:36.218513Z",
     "start_time": "2020-05-22T17:47:36.212531Z"
    }
   },
   "outputs": [],
   "source": [
    "# Define a static method\n",
    "\n",
    "@staticmethod  # It also need a decorator.\n",
    "def add(x,y):  # Static method doesn't need a mandatory parameter like 'self' in instance method, or 'cls' in class methods.\n",
    "    print('This is a static method')\n",
    "    \n",
    "# Other than the decorator, the static method is and functions like a normal method(function).\n",
    "    "
   ]
  },
  {
   "cell_type": "code",
   "execution_count": 37,
   "metadata": {
    "ExecuteTime": {
     "end_time": "2020-05-22T17:52:19.507343Z",
     "start_time": "2020-05-22T17:52:19.474593Z"
    }
   },
   "outputs": [
    {
     "name": "stdout",
     "output_type": "stream",
     "text": [
      "The current student number is: 1\n",
      "1\n",
      "This is a static method\n",
      "1\n",
      "This is a static method\n"
     ]
    }
   ],
   "source": [
    "# To keep adding a static method to the class. And call the static method.\n",
    "class Student():\n",
    "    sum_number = 0\n",
    "    \n",
    "    def __init__(self, name, age):\n",
    "        self.name = name  \n",
    "        self.age = age\n",
    "        self.__class__.sum_number += 1\n",
    "        print('The current student number is: ' + str(self.__class__.sum_number))\n",
    "     \n",
    "    def do_homework(self):\n",
    "        print('homework')\n",
    "        \n",
    "    @classmethod\n",
    "    def plus_sum(cls):  \n",
    "        cls.sum_number += 1  \n",
    "        print(cls.sum_number)\n",
    "        \n",
    "    @staticmethod\n",
    "    def add(x,y):\n",
    "        print(Student.sum_number)  # You can also call class variables inside a static method.\n",
    "        print('This is a static method')\n",
    "    \n",
    "\n",
    "student1 = Student('Jane', 20)\n",
    "\n",
    "# Both object(instance) and class can call the static method.\n",
    "student1.add(1,2)\n",
    "Student.add(1,2)"
   ]
  },
  {
   "cell_type": "code",
   "execution_count": 38,
   "metadata": {
    "ExecuteTime": {
     "end_time": "2020-05-22T17:59:43.839079Z",
     "start_time": "2020-05-22T17:59:43.816135Z"
    }
   },
   "outputs": [
    {
     "ename": "NameError",
     "evalue": "name 'self' is not defined",
     "output_type": "error",
     "traceback": [
      "\u001b[1;31m---------------------------------------------------------------------------\u001b[0m",
      "\u001b[1;31mNameError\u001b[0m                                 Traceback (most recent call last)",
      "\u001b[1;32m<ipython-input-38-abe5a2a0aac2>\u001b[0m in \u001b[0;36m<module>\u001b[1;34m\u001b[0m\n\u001b[0;32m     30\u001b[0m \u001b[1;33m\u001b[0m\u001b[0m\n\u001b[0;32m     31\u001b[0m \u001b[1;31m# Both object(instance) and class can call the static method.\u001b[0m\u001b[1;33m\u001b[0m\u001b[1;33m\u001b[0m\u001b[1;33m\u001b[0m\u001b[0m\n\u001b[1;32m---> 32\u001b[1;33m \u001b[0mstudent1\u001b[0m\u001b[1;33m.\u001b[0m\u001b[0madd\u001b[0m\u001b[1;33m(\u001b[0m\u001b[1;36m1\u001b[0m\u001b[1;33m,\u001b[0m\u001b[1;36m2\u001b[0m\u001b[1;33m)\u001b[0m\u001b[1;33m\u001b[0m\u001b[1;33m\u001b[0m\u001b[0m\n\u001b[0m\u001b[0;32m     33\u001b[0m \u001b[0mStudent\u001b[0m\u001b[1;33m.\u001b[0m\u001b[0madd\u001b[0m\u001b[1;33m(\u001b[0m\u001b[1;36m1\u001b[0m\u001b[1;33m,\u001b[0m\u001b[1;36m2\u001b[0m\u001b[1;33m)\u001b[0m\u001b[1;33m\u001b[0m\u001b[1;33m\u001b[0m\u001b[0m\n\u001b[0;32m     34\u001b[0m \u001b[0mstudent1\u001b[0m\u001b[1;33m.\u001b[0m\u001b[0mplus_sum\u001b[0m\u001b[1;33m(\u001b[0m\u001b[1;33m)\u001b[0m\u001b[1;33m\u001b[0m\u001b[1;33m\u001b[0m\u001b[0m\n",
      "\u001b[1;32m<ipython-input-38-abe5a2a0aac2>\u001b[0m in \u001b[0;36madd\u001b[1;34m(x, y)\u001b[0m\n\u001b[0;32m     22\u001b[0m     \u001b[1;32mdef\u001b[0m \u001b[0madd\u001b[0m\u001b[1;33m(\u001b[0m\u001b[0mx\u001b[0m\u001b[1;33m,\u001b[0m\u001b[0my\u001b[0m\u001b[1;33m)\u001b[0m\u001b[1;33m:\u001b[0m\u001b[1;33m\u001b[0m\u001b[1;33m\u001b[0m\u001b[0m\n\u001b[0;32m     23\u001b[0m \u001b[1;31m#         print(Student.sum_number)\u001b[0m\u001b[1;33m\u001b[0m\u001b[1;33m\u001b[0m\u001b[1;33m\u001b[0m\u001b[0m\n\u001b[1;32m---> 24\u001b[1;33m         \u001b[0mprint\u001b[0m\u001b[1;33m(\u001b[0m\u001b[0mself\u001b[0m\u001b[1;33m.\u001b[0m\u001b[0mname\u001b[0m\u001b[1;33m)\u001b[0m\u001b[1;33m\u001b[0m\u001b[1;33m\u001b[0m\u001b[0m\n\u001b[0m\u001b[0;32m     25\u001b[0m \u001b[1;31m#         print('This is a static method')\u001b[0m\u001b[1;33m\u001b[0m\u001b[1;33m\u001b[0m\u001b[1;33m\u001b[0m\u001b[0m\n\u001b[0;32m     26\u001b[0m \u001b[1;33m\u001b[0m\u001b[0m\n",
      "\u001b[1;31mNameError\u001b[0m: name 'self' is not defined"
     ]
    }
   ],
   "source": [
    "# Can class method and static method call instance variables?\n",
    "\n",
    "class Student():\n",
    "    sum_number = 0\n",
    "    \n",
    "    def __init__(self, name, age):\n",
    "        self.name = name  \n",
    "        self.age = age\n",
    "        self.__class__.sum_number += 1\n",
    "#         print('The current student number is: ' + str(self.__class__.sum_number))\n",
    "     \n",
    "    def do_homework(self):\n",
    "        print('homework')\n",
    "        \n",
    "    @classmethod\n",
    "    def plus_sum(cls):  \n",
    "        cls.sum_number += 1  \n",
    "#         print(cls.sum_number)\n",
    "        print(self.name)  # Try to call instance variable inside a class method\n",
    "        \n",
    "    @staticmethod\n",
    "    def add(x,y):\n",
    "#         print(Student.sum_number)\n",
    "        print(self.name)  # Try to call instance variable inside a static method\n",
    "#         print('This is a static method')\n",
    "        \n",
    "    \n",
    "\n",
    "student1 = Student('Jane', 20)\n",
    "\n",
    "# Both object(instance) and class can call the static method.\n",
    "student1.add(1,2)\n",
    "Student.add(1,2)\n",
    "student1.plus_sum()\n",
    "Student.plus_sum()\n",
    "\n",
    "# So we can not directly call instance variables inside of the class method and static method."
   ]
  },
  {
   "cell_type": "markdown",
   "metadata": {},
   "source": [
    "- **Static method has almost no difference than a normal function.**\n",
    "  \n",
    "  \n",
    "- **It can not call instance variables inside of it.**\n",
    "  \n",
    "  \n",
    "- **Although it can call class variables inside of it, but need to specify the class name, class method would be more easier to do this.**\n",
    "  \n",
    "  \n",
    "- **It is not recommanded to use static method normally.**"
   ]
  },
  {
   "cell_type": "markdown",
   "metadata": {},
   "source": [
    "## Visibility of the members (variables or methods)"
   ]
  },
  {
   "cell_type": "markdown",
   "metadata": {},
   "source": [
    "### Internal and external call of variables and methods\n",
    "\n",
    "- Internal call: Call variables or methods inside of the class.  \n",
    "  \n",
    "    \n",
    "- External call: Call variables or methods outside of the class."
   ]
  },
  {
   "cell_type": "code",
   "execution_count": 39,
   "metadata": {
    "ExecuteTime": {
     "end_time": "2020-05-23T01:11:58.135485Z",
     "start_time": "2020-05-23T01:11:58.126513Z"
    }
   },
   "outputs": [
    {
     "name": "stdout",
     "output_type": "stream",
     "text": [
      "The current student number is: 1\n",
      "Finished English homework\n",
      "homework\n"
     ]
    }
   ],
   "source": [
    "# Examples of internal and external call\n",
    "\n",
    "class Student():\n",
    "    sum_number = 0\n",
    "    \n",
    "    def __init__(self, name, age):\n",
    "        self.name = name  \n",
    "        self.age = age\n",
    "        self.__class__.sum_number += 1\n",
    "        print('The current student number is: ' + str(self.__class__.sum_number))\n",
    "     \n",
    "    # Define a new method.\n",
    "    def do_english_homework(self):\n",
    "        print('Finished English homework')\n",
    "        \n",
    "    def do_homework(self):\n",
    "        self.do_english_homework()  # Internal call of the 'do_english_homework' method.\n",
    "        print('homework')\n",
    "        \n",
    "       \n",
    "    @classmethod\n",
    "    def plus_sum(cls):  \n",
    "        cls.sum_number += 1  \n",
    "        print(cls.sum_number) \n",
    "\n",
    "student1 = Student('Jane', 20)\n",
    "student1.do_homework()  # This is the external call of 'do_homework' method.\n"
   ]
  },
  {
   "cell_type": "markdown",
   "metadata": {},
   "source": [
    "### Security of the class"
   ]
  },
  {
   "cell_type": "markdown",
   "metadata": {},
   "source": [
    "So far, in the class we used, all the variables, whether it is class variable or instance variable; as well as all the methods, whether it is class method or instance method, can be accessed or called externally, either through instance or class itself.\n",
    "  \n",
    "    \n",
    "    \n",
    "This rise the issue of the insecurity of class. Because often we don't want the variables or methods to be change externally, instead we only want to those operations happened internally.\n",
    "  \n",
    "    \n",
    "    \n",
    "See the example in the following cell."
   ]
  },
  {
   "cell_type": "code",
   "execution_count": 42,
   "metadata": {
    "ExecuteTime": {
     "end_time": "2020-05-23T01:25:27.457821Z",
     "start_time": "2020-05-23T01:25:27.443862Z"
    }
   },
   "outputs": [
    {
     "name": "stdout",
     "output_type": "stream",
     "text": [
      "The current student number is: 1\n",
      "Finished English homework\n",
      "homework\n",
      "80\n",
      "-5\n"
     ]
    }
   ],
   "source": [
    "\n",
    "class Student():\n",
    "    sum_number = 0\n",
    "    \n",
    "    # Here in the constructor, we define another variable 'score', to store the score of different student.\n",
    "    # Obviously, we only want this variable is accessed and munipulated internally. So no one from externally can change it.\n",
    "    def __init__(self, name, age, score):  \n",
    "        self.name = name  \n",
    "        self.age = age\n",
    "        self.score = score\n",
    "        self.__class__.sum_number += 1\n",
    "        print('The current student number is: ' + str(self.__class__.sum_number))\n",
    "     \n",
    "    def do_english_homework(self):\n",
    "        print('Finished English homework')\n",
    "        \n",
    "    def do_homework(self):\n",
    "        self.do_english_homework() \n",
    "        print('homework')\n",
    "        \n",
    "       \n",
    "    @classmethod\n",
    "    def plus_sum(cls):  \n",
    "        cls.sum_number += 1  \n",
    "        print(cls.sum_number) \n",
    "\n",
    "student1 = Student('Jane', 20, 80)\n",
    "student1.do_homework()\n",
    "\n",
    "print(student1.score)  # Let's see what is student1's score now?\n",
    "\n",
    "# However, currently, we can modify this variable externally, e.g\n",
    "student1.score = -5\n",
    "\n",
    "print(student1.score)  # After we accessed this variable and made changes, what is student1's score now?\n"
   ]
  },
  {
   "cell_type": "code",
   "execution_count": 46,
   "metadata": {
    "ExecuteTime": {
     "end_time": "2020-05-23T01:34:46.739784Z",
     "start_time": "2020-05-23T01:34:46.729776Z"
    }
   },
   "outputs": [
    {
     "name": "stdout",
     "output_type": "stream",
     "text": [
      "Finished English homework\n",
      "homework\n",
      "Jane 's score is 59\n",
      "59\n",
      "-5\n"
     ]
    }
   ],
   "source": [
    "# How to make it better?\n",
    "\n",
    "class Student():\n",
    "    sum_number = 0\n",
    "    \n",
    "    def __init__(self, name, age):  # Firstly, we remove variable 'score' in the constructor function.\n",
    "        self.name = name  \n",
    "        self.age = age\n",
    "        self.score = 0  # But we can still assign this variable and we want the intial value is 0.\n",
    "        self.__class__.sum_number += 1\n",
    "    \n",
    "    # Now we define another method, to mark and munipulate the score variable.\n",
    "    def marking(self, score):\n",
    "        self.score = score\n",
    "        print(self.name + \" 's score is \" + str(score))\n",
    "    \n",
    "    def do_english_homework(self):\n",
    "        print('Finished English homework')\n",
    "        \n",
    "    def do_homework(self):\n",
    "        self.do_english_homework() \n",
    "        print('homework')\n",
    "        \n",
    "       \n",
    "    @classmethod\n",
    "    def plus_sum(cls):  \n",
    "        cls.sum_number += 1  \n",
    "        print(cls.sum_number) \n",
    "\n",
    "student1 = Student('Jane', 20)\n",
    "student1.do_homework()\n",
    "\n",
    "# Now, we manipulate the variable 'score' by calling the 'marking' method.\n",
    "student1.marking(59) \n",
    "print(student1.score)\n",
    "\n",
    "\n",
    "student1.score = -5  # Why this is still working?\n",
    "print(student1.score)"
   ]
  },
  {
   "cell_type": "code",
   "execution_count": 47,
   "metadata": {
    "ExecuteTime": {
     "end_time": "2020-05-23T02:03:04.209207Z",
     "start_time": "2020-05-23T02:03:04.204210Z"
    }
   },
   "outputs": [],
   "source": [
    "# Now, you may have the question or be confused. Why the code 'student1.score = -5' still works?\n",
    "# If it still working, what is the point of manipulating the variable internally.\n",
    "\n",
    "# Firstly, it is ture that you can still access the variable externally through instance.\n",
    "# Secondly, the example is shown to help learning, so we know what variables are in this class.\n",
    "# However, in a real program, the user won't be able to know how the variables are assigned and what are their names.\n",
    "# So, normally users won't be able to call the variables externally.\n",
    "# Therefore, this guarantees the operation to the varaibles can only be done internally.\n",
    "# In another work, preventing the data to be destructed.\n",
    "\n",
    "# You may say that we can still pass the marking method a negative value, which won't make sense.\n",
    "# To prevent nonsense output like this, we can control the return of the method 'marking' by conditional statement.\n",
    "# See the following cell."
   ]
  },
  {
   "cell_type": "code",
   "execution_count": 48,
   "metadata": {
    "ExecuteTime": {
     "end_time": "2020-05-23T02:13:10.800307Z",
     "start_time": "2020-05-23T02:13:10.788342Z"
    }
   },
   "outputs": [
    {
     "name": "stdout",
     "output_type": "stream",
     "text": [
      "Finished English homework\n",
      "homework\n",
      "Jane 's score is 59\n",
      "You can not mark negtive score!\n"
     ]
    }
   ],
   "source": [
    "# Control the behavior of the score variable\n",
    "class Student():\n",
    "    sum_number = 0\n",
    "    \n",
    "    def __init__(self, name, age):  \n",
    "        self.name = name  \n",
    "        self.age = age\n",
    "        self.score = 0 \n",
    "        self.__class__.sum_number += 1\n",
    "    \n",
    "    \n",
    "    def marking(self, score):\n",
    "        \n",
    "        # We add if statement here to make sure the score is not negtive.\n",
    "        if score < 0:  # Use score instead self.score here, as this 'score' is the same 'score' in the method definition.\n",
    "                       # Which will be the argument that passed through method call externally.\n",
    "            return 'You can not mark negtive score!'\n",
    "        self.score = score  # Assign the passed argument 'score' to the variable 'score' of each instance, only when the argument is not negtive.\n",
    "        print(self.name + \" 's score is \" + str(score))\n",
    "    \n",
    "    def do_english_homework(self):\n",
    "        print('Finished English homework')\n",
    "        \n",
    "    def do_homework(self):\n",
    "        self.do_english_homework() \n",
    "        print('homework')\n",
    "        \n",
    "       \n",
    "    @classmethod\n",
    "    def plus_sum(cls):  \n",
    "        cls.sum_number += 1  \n",
    "        print(cls.sum_number) \n",
    "\n",
    "student1 = Student('Jane', 20)\n",
    "student1.do_homework()\n",
    "\n",
    "# Now, we manipulate the variable 'score' by calling the 'marking' method.\n",
    "student1.marking(59) \n",
    "\n",
    "result = student1.marking(-5) # You need to assign the return value of the method to a variable in order to print the return value.\n",
    "print(result)"
   ]
  },
  {
   "cell_type": "markdown",
   "metadata": {},
   "source": [
    "Therefore, variables in the class are important characteristic data. If you want to modify the value of the variables, you should do that through internal methods, instead of by chaning externally, although you can do that.\n"
   ]
  },
  {
   "cell_type": "markdown",
   "metadata": {},
   "source": [
    "### Preventing access or assign variable externally"
   ]
  },
  {
   "cell_type": "markdown",
   "metadata": {},
   "source": [
    "In the above examples, eventhough we made changes to make the code look more secure, but we can still change the variables externally, for example, by doing `student1.score = -1` to modify variable `score`.\n",
    "  \n",
    "    \n",
    "That is because the `score` variable is public. \n",
    "Correspondingly, there is a concept of private varaibles.\n",
    "\n",
    "If a variable is public, it can be accessed or assigned externally; \n",
    "If it is private, then it is nonaccessible externally.\n",
    "  \n",
    "    \n",
    "    \n",
    "So far, all the variables and methods in the above examples are public. Why is that? How to make a public variable or method private?\n"
   ]
  },
  {
   "cell_type": "markdown",
   "metadata": {},
   "source": [
    "    "
   ]
  },
  {
   "cell_type": "markdown",
   "metadata": {},
   "source": [
    "To make a public variable or method private, we need to add `__` in front of the name of the variable or method. Otherwise, python will consider it as a public variable or method.\n",
    "  \n",
    "    \n",
    "Note that, `__` is double underscore, and only needed in front of the name, but not in the end."
   ]
  },
  {
   "cell_type": "code",
   "execution_count": 51,
   "metadata": {
    "ExecuteTime": {
     "end_time": "2020-05-23T02:42:36.795299Z",
     "start_time": "2020-05-23T02:42:36.777350Z"
    }
   },
   "outputs": [
    {
     "name": "stdout",
     "output_type": "stream",
     "text": [
      "Finished English homework\n",
      "homework\n"
     ]
    },
    {
     "ename": "AttributeError",
     "evalue": "'Student' object has no attribute '__marking'",
     "output_type": "error",
     "traceback": [
      "\u001b[1;31m---------------------------------------------------------------------------\u001b[0m",
      "\u001b[1;31mAttributeError\u001b[0m                            Traceback (most recent call last)",
      "\u001b[1;32m<ipython-input-51-bd4928b5b4eb>\u001b[0m in \u001b[0;36m<module>\u001b[1;34m\u001b[0m\n\u001b[0;32m     35\u001b[0m \u001b[1;33m\u001b[0m\u001b[0m\n\u001b[0;32m     36\u001b[0m \u001b[1;31m# Now, call the private method will rise an error\u001b[0m\u001b[1;33m\u001b[0m\u001b[1;33m\u001b[0m\u001b[1;33m\u001b[0m\u001b[0m\n\u001b[1;32m---> 37\u001b[1;33m \u001b[0mstudent1\u001b[0m\u001b[1;33m.\u001b[0m\u001b[0m__marking\u001b[0m\u001b[1;33m(\u001b[0m\u001b[1;36m59\u001b[0m\u001b[1;33m)\u001b[0m\u001b[1;33m\u001b[0m\u001b[1;33m\u001b[0m\u001b[0m\n\u001b[0m\u001b[0;32m     38\u001b[0m \u001b[1;33m\u001b[0m\u001b[0m\n\u001b[0;32m     39\u001b[0m \u001b[0mresult\u001b[0m \u001b[1;33m=\u001b[0m \u001b[0mstudent1\u001b[0m\u001b[1;33m.\u001b[0m\u001b[0m__marking\u001b[0m\u001b[1;33m(\u001b[0m\u001b[1;33m-\u001b[0m\u001b[1;36m5\u001b[0m\u001b[1;33m)\u001b[0m \u001b[1;31m# Same error will rise here, if it runs.\u001b[0m\u001b[1;33m\u001b[0m\u001b[1;33m\u001b[0m\u001b[0m\n",
      "\u001b[1;31mAttributeError\u001b[0m: 'Student' object has no attribute '__marking'"
     ]
    }
   ],
   "source": [
    "# Make a method private\n",
    "\n",
    "class Student():\n",
    "    sum_number = 0\n",
    "    \n",
    "    def __init__(self, name, age):  \n",
    "        self.name = name  \n",
    "        self.age = age\n",
    "        self.score = 0 \n",
    "        self.__class__.sum_number += 1\n",
    "    \n",
    "    \n",
    "    # Now we are making the 'marking' method private by adding '__' on the left.\n",
    "    def __marking(self, score):\n",
    "        if score < 0:  \n",
    "            return 'You can not mark negtive score!'\n",
    "        self.score = score\n",
    "        print(self.name + \" 's score is \" + str(score))\n",
    "    \n",
    "    def do_english_homework(self):\n",
    "        print('Finished English homework')\n",
    "        \n",
    "    def do_homework(self):\n",
    "        self.do_english_homework() \n",
    "        print('homework')\n",
    "        \n",
    "       \n",
    "    @classmethod\n",
    "    def plus_sum(cls):  \n",
    "        cls.sum_number += 1  \n",
    "        print(cls.sum_number) \n",
    "\n",
    "student1 = Student('Jane', 20)\n",
    "student1.do_homework()\n",
    "\n",
    "# Now, call the private method will rise an error\n",
    "student1.__marking(59) \n",
    "\n",
    "result = student1.__marking(-5) # Same error will rise here, if it runs.\n",
    "print(result)"
   ]
  },
  {
   "cell_type": "code",
   "execution_count": 54,
   "metadata": {
    "ExecuteTime": {
     "end_time": "2020-05-23T02:50:08.647674Z",
     "start_time": "2020-05-23T02:50:08.636706Z"
    }
   },
   "outputs": [
    {
     "name": "stdout",
     "output_type": "stream",
     "text": [
      "Jane 's score is 59\n",
      "None\n",
      "-1\n"
     ]
    }
   ],
   "source": [
    "# Make a variable private\n",
    "\n",
    "class Student():\n",
    "    sum_number = 0\n",
    "    \n",
    "    def __init__(self, name, age):  \n",
    "        self.name = name  \n",
    "        self.age = age\n",
    "        self.__score = 0   # Change scroe varaible to private.\n",
    "        self.__class__.sum_number += 1\n",
    "    \n",
    "    def marking(self, score):\n",
    "        if score < 0:  \n",
    "            return 'You can not mark negtive score!'\n",
    "        self.__score = score  # Make corresponding change here.\n",
    "        print(self.name + \" 's score is \" + str(score))\n",
    "    \n",
    "    def do_english_homework(self):\n",
    "        print('Finished English homework')\n",
    "        \n",
    "    def do_homework(self):\n",
    "        self.do_english_homework() \n",
    "        print('homework')\n",
    "        \n",
    "       \n",
    "    @classmethod\n",
    "    def plus_sum(cls):  \n",
    "        cls.sum_number += 1  \n",
    "        print(cls.sum_number) \n",
    "\n",
    "student1 = Student('Jane', 20)\n",
    "\n",
    "result = student1.marking(59)\n",
    "print(result)\n",
    "\n",
    "student1.__score = -1  # access and modify private variable externally, is there an error rose?\n",
    "print(student1.__score)\n",
    "\n",
    "# Why there is no error? Instead, private variable __score can still be accessed and assigned new value?\n"
   ]
  },
  {
   "cell_type": "code",
   "execution_count": 61,
   "metadata": {
    "ExecuteTime": {
     "end_time": "2020-05-23T16:26:11.255371Z",
     "start_time": "2020-05-23T16:26:11.244398Z"
    }
   },
   "outputs": [
    {
     "name": "stdout",
     "output_type": "stream",
     "text": [
      "-1\n",
      "{'name': 'Jane', 'age': 20, '_Student__score': 0, '__score': -1}\n",
      "{'name': 'Lily', 'age': 18, '_Student__score': 0}\n",
      "-5\n"
     ]
    }
   ],
   "source": [
    "# To explain the above quesion, see the following code and check out the output\n",
    "\n",
    "# Make a variable private\n",
    "\n",
    "class Student():\n",
    "    sum_number = 0\n",
    "    \n",
    "    def __init__(self, name, age):  \n",
    "        self.name = name  \n",
    "        self.age = age\n",
    "        self.__score = 0   # Change scroe varaible to private.\n",
    "        self.__class__.sum_number += 1\n",
    "    \n",
    "    def marking(self, score):\n",
    "        if score < 0:  \n",
    "            return 'You can not mark negtive score!'\n",
    "        self.__score = score  # Make corresponding change here.\n",
    "        print(self.name + \" 's score is \" + str(score))\n",
    "    \n",
    "    def do_english_homework(self):\n",
    "        print('Finished English homework')\n",
    "        \n",
    "    def do_homework(self):\n",
    "        self.do_english_homework() \n",
    "        print('homework')\n",
    "        \n",
    "       \n",
    "    @classmethod\n",
    "    def plus_sum(cls):  \n",
    "        cls.sum_number += 1  \n",
    "        print(cls.sum_number) \n",
    "\n",
    "student1 = Student('Jane', 20)\n",
    "student2 = Student('Lily', 18)  # Create another instance.\n",
    "\n",
    "student1.__score = -1  # access and modify private variable externally, is there an error rose?\n",
    "print(student1.__score)\n",
    "print(student1.__dict__)  # We can check what variables are associated to object 'student1' now?\n",
    "\n",
    "#print(student2.__score) # let instance 'student2' access the private variable.\n",
    "print(student2.__dict__)  # Also check what variable s are associated to object 'student2' now.\n",
    "                          # Uncomment 'print(student2.__score)' to run this.\n",
    "\n",
    "# Uncomment these two lines to see what is the output.    \n",
    "#student2._Student__score = -5  \n",
    "#print(student2._Student__score)\n",
    "    \n",
    "# Why print(student1.__score) worked but print(student2.__score) didn't work?\n",
    "# What can you learn from the variables associated with these two objects?\n"
   ]
  },
  {
   "cell_type": "code",
   "execution_count": 59,
   "metadata": {
    "ExecuteTime": {
     "end_time": "2020-05-23T16:14:46.317374Z",
     "start_time": "2020-05-23T16:14:46.313384Z"
    }
   },
   "outputs": [],
   "source": [
    "# There is an illusion in the above question.\n",
    "# __score is indeed a private variable.\n",
    "# By doing 'student.__score = -1', we forced created a new variable for student1 called '__score', and assign value -1 to it.\n",
    "# You can do this due to the dynamic characteristic of python.\n",
    "# The new variable has the same name of the previously defined private variable. But they are two different variables.\n",
    "# This new variable only related to instance 'student1', because it is defined externally through 'student1'.\n",
    "# Therefore, without assigning another variable to 'student2', print(student2.__score) give an error.\n",
    "# Meaning, this instance couldn't access the private variable that defined internally.\n"
   ]
  },
  {
   "cell_type": "markdown",
   "metadata": {},
   "source": [
    "- From the variables of these two objects returned by `__dirc__`, we can see that `student1` has the varaible `__score`, but `student2` doesn't have.  \n",
    "This variable is the same one that defined externally by `student1.__score = -1`.  \n",
    "  \n",
    "    \n",
    "    \n",
    "- Meanwhile, we can see both objects have the same variable named `_Student__score` and their value is `0`. Where does this variable come from?  \n",
    "In fact, these two variables are the same, which is the private varaible defined in the constructor function, and it's value is `0`. Why its name changed?  \n",
    "  \n",
    "    \n",
    "    \n",
    "- This is the protective mechenism of python to store private variables. Whe you define a private variable, Python will change the name of it by adding `_class_name` in front of its name. And that's why you can not access `_score` anymore externally, as it's name has been changed.  \n",
    "  \n",
    "  \n",
    "  \n",
    "- However, when you know this, you can still access and change the private variable externally by calling the changed name. e.g. `student2._Student__score = -5`.  \n",
    "  \n",
    "    \n",
    "    \n",
    "- Therefore, stringintly speaking, python doesn't have a absolute private variable. If you want to access a private variable, you can alway do by accessing the changed name. So this would require us to be conscious of using other peoples's package, that is not trying to access the variables that people made them private. "
   ]
  },
  {
   "cell_type": "markdown",
   "metadata": {},
   "source": [
    "## Three main charactistics of object-oriented\n",
    "\n",
    "- Inheritance\n",
    "- Encapsulation\n",
    "- polymorphism"
   ]
  },
  {
   "cell_type": "markdown",
   "metadata": {},
   "source": [
    "### Encapsulation"
   ]
  },
  {
   "cell_type": "markdown",
   "metadata": {},
   "source": [
    "This is a very abstract concept."
   ]
  },
  {
   "cell_type": "markdown",
   "metadata": {},
   "source": [
    "### Inheritance"
   ]
  },
  {
   "cell_type": "markdown",
   "metadata": {},
   "source": [
    "The basic function of class inheritance is to avoid repeately defining methods and variables.  \n",
    "  \n",
    "  \n",
    "  \n",
    "To think about the class `Student` we have been using in the above examples. We consider it as a abstract summary of the students. If we think a little more abstractively, student is also a certain type of people. To this end, we can say that student is a inheritance of people.  \n",
    "  \n",
    "  \n",
    "  \n",
    "Now, let's try to define a `Human` class.\n"
   ]
  },
  {
   "cell_type": "code",
   "execution_count": 72,
   "metadata": {
    "ExecuteTime": {
     "end_time": "2020-05-23T17:30:34.933209Z",
     "start_time": "2020-05-23T17:30:34.927223Z"
    }
   },
   "outputs": [],
   "source": [
    "# Now we define another class\n",
    "\n",
    "# And to think carefully, characteristic 'name', 'age' is not specifically belong to student, \n",
    "# but rather belong to every human.\n",
    "# So we move those from Student to Human.\n",
    "class Human():\n",
    "    sum = 0\n",
    "    \n",
    "    def __init__(self, name, age):  \n",
    "        self.name = name  \n",
    "        self.age = age\n",
    "        \n",
    "    def get_name(self):\n",
    "        print(self.name)\n",
    "        "
   ]
  },
  {
   "cell_type": "code",
   "execution_count": 75,
   "metadata": {
    "ExecuteTime": {
     "end_time": "2020-05-23T17:44:53.052458Z",
     "start_time": "2020-05-23T17:44:53.042510Z"
    }
   },
   "outputs": [
    {
     "name": "stdout",
     "output_type": "stream",
     "text": [
      "0\n",
      "0\n",
      "Jane\n",
      "20\n",
      "Jane\n"
     ]
    }
   ],
   "source": [
    "# Now we simply a bit the Student class.\n",
    "\n",
    "# Now by puting the Class name of 'Human' in the definition of class Student, \n",
    "# we created class Student as the sub-class of Human.\n",
    "\n",
    "# We can do this in jupyter notebook, if you want to inheritant class from different module.\n",
    "# you need to use 'from module_name import class_name'\n",
    "\n",
    "# But now this not meaningful, as class Human is empty.\n",
    "\n",
    "class Student(Human): \n",
    "#    sum = 0\n",
    "    \n",
    "#     def __init__(self):\n",
    "#         self.__score = 0\n",
    "#         self.__class__.sum += 1\n",
    "        \n",
    "    def do_homework(self): \n",
    "        print('homework')\n",
    "        \n",
    "        \n",
    "# We comment out the class variable and constructor function in this sub-class.\n",
    "# Now in the sub-class, we don't have a class variable and constructor.\n",
    "# If we create an instance of Student, can it still be albe to access the variable 'sum', 'name' and 'age'?\n",
    "\n",
    "# Now we create an instance and try to access those variables.\n",
    "student1 = Student('Jane', 20)\n",
    "print(student1.sum)\n",
    "print(Student.sum)\n",
    "print(student1.name)\n",
    "print(student1.age)\n",
    "\n",
    "# Now we try to access the method in the father-class throung the object of sub-class.\n",
    "student1.get_name()\n"
   ]
  },
  {
   "cell_type": "markdown",
   "metadata": {},
   "source": [
    "- We can see that even though we didn't define a constructor in the sub-class `Student`, class `Student` and its instance `student1` are still able to access the class variable `sum` and instance variable `name` and `age`, which are defined in the class `Human`.  \n",
    "  \n",
    "  \n",
    "- Because class `Student` is defined as a sub-class of `Human`, so it inherit all the variables and methods and don't need to define it in the sub-class again.  \n",
    "  \n",
    "  \n",
    "- Note that, when you create instance in the sub-class, you need to pass arguments that are defined in the constructor of the father-class."
   ]
  },
  {
   "cell_type": "markdown",
   "metadata": {},
   "source": [
    "**In python, one sub-class can have multiple father-class. This will be talked about of the course.** \n",
    "\n",
    "  \n",
    "**We need to master single inheritance in order to be able to use multiple inheritance.**"
   ]
  },
  {
   "cell_type": "markdown",
   "metadata": {},
   "source": [
    "#### Call superclass constructor in subclass constructor"
   ]
  },
  {
   "cell_type": "code",
   "execution_count": 76,
   "metadata": {
    "ExecuteTime": {
     "end_time": "2020-05-23T20:02:54.326476Z",
     "start_time": "2020-05-23T20:02:54.301171Z"
    }
   },
   "outputs": [
    {
     "ename": "TypeError",
     "evalue": "__init__() missing 1 required positional argument: 'age'",
     "output_type": "error",
     "traceback": [
      "\u001b[1;31m---------------------------------------------------------------------------\u001b[0m",
      "\u001b[1;31mTypeError\u001b[0m                                 Traceback (most recent call last)",
      "\u001b[1;32m<ipython-input-76-47c1bc53e547>\u001b[0m in \u001b[0;36m<module>\u001b[1;34m\u001b[0m\n\u001b[0;32m     30\u001b[0m         \u001b[0mprint\u001b[0m\u001b[1;33m(\u001b[0m\u001b[1;34m'homework'\u001b[0m\u001b[1;33m)\u001b[0m\u001b[1;33m\u001b[0m\u001b[1;33m\u001b[0m\u001b[0m\n\u001b[0;32m     31\u001b[0m \u001b[1;33m\u001b[0m\u001b[0m\n\u001b[1;32m---> 32\u001b[1;33m \u001b[0mstudent1\u001b[0m \u001b[1;33m=\u001b[0m \u001b[0mStudent\u001b[0m\u001b[1;33m(\u001b[0m\u001b[1;34m'First School'\u001b[0m\u001b[1;33m,\u001b[0m \u001b[1;34m'Jane'\u001b[0m\u001b[1;33m,\u001b[0m \u001b[1;36m20\u001b[0m\u001b[1;33m)\u001b[0m  \u001b[1;31m# Now we creat an instance, NOTE: here we need to pass three arguments.\u001b[0m\u001b[1;33m\u001b[0m\u001b[1;33m\u001b[0m\u001b[0m\n\u001b[0m\u001b[0;32m     33\u001b[0m \u001b[1;33m\u001b[0m\u001b[0m\n\u001b[0;32m     34\u001b[0m \u001b[0mprint\u001b[0m\u001b[1;33m(\u001b[0m\u001b[0mstudent1\u001b[0m\u001b[1;33m.\u001b[0m\u001b[0mname\u001b[0m\u001b[1;33m)\u001b[0m\u001b[1;33m\u001b[0m\u001b[1;33m\u001b[0m\u001b[0m\n",
      "\u001b[1;32m<ipython-input-76-47c1bc53e547>\u001b[0m in \u001b[0;36m__init__\u001b[1;34m(self, school, name, age)\u001b[0m\n\u001b[0;32m     18\u001b[0m \u001b[1;33m\u001b[0m\u001b[0m\n\u001b[0;32m     19\u001b[0m         \u001b[0mself\u001b[0m\u001b[1;33m.\u001b[0m\u001b[0mschool\u001b[0m \u001b[1;33m=\u001b[0m \u001b[0mschool\u001b[0m\u001b[1;33m\u001b[0m\u001b[1;33m\u001b[0m\u001b[0m\n\u001b[1;32m---> 20\u001b[1;33m         \u001b[0mHuman\u001b[0m\u001b[1;33m.\u001b[0m\u001b[0m__init__\u001b[0m\u001b[1;33m(\u001b[0m\u001b[0mname\u001b[0m\u001b[1;33m,\u001b[0m \u001b[0mage\u001b[0m\u001b[1;33m)\u001b[0m\u001b[1;33m\u001b[0m\u001b[1;33m\u001b[0m\u001b[0m\n\u001b[0m\u001b[0;32m     21\u001b[0m         \u001b[1;31m# Here we call the constructor of the superclass\u001b[0m\u001b[1;33m\u001b[0m\u001b[1;33m\u001b[0m\u001b[1;33m\u001b[0m\u001b[0m\n\u001b[0;32m     22\u001b[0m         \u001b[1;31m# to pass 'name' and 'age' variables to the constructor of the subclass.\u001b[0m\u001b[1;33m\u001b[0m\u001b[1;33m\u001b[0m\u001b[1;33m\u001b[0m\u001b[0m\n",
      "\u001b[1;31mTypeError\u001b[0m: __init__() missing 1 required positional argument: 'age'"
     ]
    }
   ],
   "source": [
    "# If a subclass only inherit variables from superclass, but not having its own variable,\n",
    "# there is not point for such class to exist.\n",
    "\n",
    "# Now we give the subclass some specific variables that are not defined in father-class.\n",
    "\n",
    "class Student(Human): \n",
    "#    sum = 0\n",
    "\n",
    "    def __init__(self, school, name, age):\n",
    "        # Now, we give 'Student' a new instance variable 'school' in the constructor, but this is not enough.\n",
    "        # Because 'Student' is also inheriting variables in 'Human' constructor.\n",
    "        # And the variables in these two constructors are not structered the same.\n",
    "        # So we also need to have 'name' and 'age' varaibles of the superclass in the constructor of the subclass.\n",
    "        # Otherwise, you will not be able to pass arguments in order when creating instances.\n",
    "        # And then we call the constructor of the superclass to pass instance's argument to the variables.\n",
    "        # Here, 'school' belongs to subclass 'Student', and 'name' and 'age' belongs to superclass 'Human'.\n",
    "        \n",
    "        self.school = school\n",
    "        Human.__init__(name, age)\n",
    "        # Here we call the constructor of the superclass \n",
    "        # to pass 'name' and 'age' variables to the constructor of the subclass.\n",
    "        # In this way, these two variables in the superclass will also be initialized when new instance is created.\n",
    "        \n",
    "        \n",
    "#         self.__score = 0\n",
    "#         self.__class__.sum += 1\n",
    "        \n",
    "    def do_homework(self): \n",
    "        print('homework')\n",
    "        \n",
    "student1 = Student('First School', 'Jane', 20)  # Now we creat an instance, NOTE: here we need to pass three arguments.\n",
    "\n",
    "print(student1.name)\n",
    "print(student1.age)\n",
    "\n",
    "# Why there is error for this code? What does the error information mean?"
   ]
  },
  {
   "cell_type": "code",
   "execution_count": 79,
   "metadata": {
    "ExecuteTime": {
     "end_time": "2020-05-23T20:09:43.938210Z",
     "start_time": "2020-05-23T20:09:43.931231Z"
    }
   },
   "outputs": [
    {
     "name": "stdout",
     "output_type": "stream",
     "text": [
      "Jane\n",
      "20\n"
     ]
    }
   ],
   "source": [
    "# To fix up the code above.\n",
    "class Student(Human): \n",
    "#    sum = 0\n",
    "\n",
    "    def __init__(self, school, name, age):\n",
    "        self.school = school\n",
    "        Human.__init__(self, name, age)  \n",
    "        # Here, we need all the variables (including 'self') in the constructor of superclass.\n",
    "        # Why is it? Why we don't need to pass 'self' when creating new instance?\n",
    "        \n",
    "        \n",
    "    def do_homework(self): \n",
    "        print('homework')\n",
    "        \n",
    "student1 = Student('First School', 'Jane', 20)\n",
    "\n",
    "print(student1.name)\n",
    "print(student1.age)\n",
    "\n"
   ]
  },
  {
   "cell_type": "markdown",
   "metadata": {},
   "source": [
    "This is a very strange way to call the superclass constructor.  \n",
    "  \n",
    "  \n",
    "First of all, `Human` is a class, `__init__` is an instance method.  \n",
    "  \n",
    "  \n",
    "It should be an object to call an instance method. It is strange and doesn't make a lot sense logically for a class to call an instance method, although python allows you to do that.  \n",
    "  \n",
    "  \n",
    "When we creating instances, e.g. `student1 = Student('First School', 'Jane', 20)`, it looks like we also used class `Student` to call the constructor. But actually it is not. It is the mechenism of python for creating instance that automaticlly call the constructor for us. Under this mechenism, python will auto-fill the `self` variable (to pass `self` into the constructor) for us.  \n",
    "  \n",
    "  \n",
    "But for `Human.__init__(name, age)` is substantially different with instance creation. This is a class (`Human`) calling a method (`__init__`), so just a ordinary method calling, therefore, of course, we need to pass all the parameters for that method.  \n",
    "  \n",
    "  \n",
    "You may also noticed that when we call instance method through object, we don't need to pass `self` to the call. e.g. `student1.do_homework()`. That is because we call the instance through an object, and python knows that the variable `self` in the method refers to the object that is calling the method. e.g. Here, python knows `self` variable refers to `student1`, so it automaticlly pass `student1` to the `self` variable in `do_homework(self)` method.  \n",
    "  \n",
    "  \n",
    "So if you want to try to call instance method through a class. e.g. we do this `Student.do_homework()`, python will give us error saying `do_homework() missing 1 required positional argument: 'self'`. Because we are calling instance method through class, python doesn't know which instance in the class you are refering to call this method. Therefore, you need to pass a argument to the method calling stating the instance for variable `self`, like this `Student.do_homework(student1)`. Now although it runs, but `Student.do_homework(student1)` is a very funny way of writing code. Because, we have already created the instance `student1`, we are able to call `do_homework()` directly using `student1`, there is absolutly no necessary to use the class `Student` to call `do_homework()` and again passing an already created instance `student1` to the call. It is just stupid, although python didn't forbit us to to that. By calling instance method using class, `self` becomes an very ordinary parameter like `name` and `age`. Actually, you can pass any argument in this type of call, because `self` is no longer refers to an instance.  \n",
    "  \n",
    "  \n",
    "Therefore, it is not recommanded to use this type of call. Another reason for avoiding doing this is if we decide to modify the superclass name later, we need to make the corresponding changes whereever this name is used in the method."
   ]
  },
  {
   "cell_type": "markdown",
   "metadata": {},
   "source": [
    "#### Use `super` to call constructor of superclass"
   ]
  },
  {
   "cell_type": "markdown",
   "metadata": {},
   "source": [
    "Syntax: `super(current_class_name, self).__init(variable1, variable2...)`"
   ]
  },
  {
   "cell_type": "code",
   "execution_count": 80,
   "metadata": {
    "ExecuteTime": {
     "end_time": "2020-05-24T01:49:11.028762Z",
     "start_time": "2020-05-24T01:49:11.020784Z"
    }
   },
   "outputs": [
    {
     "name": "stdout",
     "output_type": "stream",
     "text": [
      "Jane\n",
      "20\n"
     ]
    }
   ],
   "source": [
    "# Another common way to call the constructor of the superclass\n",
    "\n",
    "class Student(Human): \n",
    "#    sum = 0\n",
    "\n",
    "    def __init__(self, school, name, age):\n",
    "        self.school = school\n",
    "        \n",
    "        # Here we use key word 'super' to call constructor of the superclass.\n",
    "        # 'super' takes two arguments, first one is the current class, second one is 'self'.\n",
    "        # Then we use '.__init__(variables1, variable2)' to call the variables.\n",
    "        super(Student, self).__init__(name, age)  # Note here, we don't need to pass 'self' again to '__init__'     \n",
    "        \n",
    "    def do_homework(self): \n",
    "        print('homework')\n",
    "        \n",
    "student1 = Student('First School', 'Jane', 20)\n",
    "\n",
    "print(student1.name)\n",
    "print(student1.age)\n"
   ]
  },
  {
   "cell_type": "markdown",
   "metadata": {},
   "source": [
    "#### Use `super` to call other methods of superclass"
   ]
  },
  {
   "cell_type": "code",
   "execution_count": 82,
   "metadata": {
    "ExecuteTime": {
     "end_time": "2020-05-24T02:08:58.545027Z",
     "start_time": "2020-05-24T02:08:58.530067Z"
    }
   },
   "outputs": [
    {
     "name": "stdout",
     "output_type": "stream",
     "text": [
      "homework\n",
      "This is a method in the superclass\n",
      "homework\n"
     ]
    }
   ],
   "source": [
    "# call other instance methods of superclass using super.\n",
    "\n",
    "class Human():\n",
    "    sum = 0\n",
    "    \n",
    "    def __init__(self, name, age):  \n",
    "        self.name = name  \n",
    "        self.age = age\n",
    "        \n",
    "    def get_name(self):\n",
    "        print(self.name)\n",
    "        \n",
    "        \n",
    "    # Here we define another methods that has the same name as one of the subclass method.\n",
    "    def do_homework(self):\n",
    "        print('This is a method in the superclass')\n",
    "        \n",
    "        \n",
    "\n",
    "# Firstly, we call 'do_homework()' method directly using the object.\n",
    "\n",
    "class Student(Human): \n",
    "#    sum = 0\n",
    "\n",
    "    def __init__(self, school, name, age):\n",
    "        self.school = school\n",
    "        super(Student, self).__init__(name, age)    \n",
    "        \n",
    "    def do_homework(self):  # We didn't make any changes here.\n",
    "        print('homework')\n",
    "        \n",
    "student1 = Student('First School', 'Jane', 20)\n",
    "\n",
    "student1.do_homework()  # Which 'do_homework()' method does this called. The one in 'Student' or in 'Human'?\n",
    "\n",
    "# Clearly, from the output, we know this calls the one in the current class.\n",
    "# What if we want to call the one in the superclass?\n",
    "\n",
    "\n",
    "# Now we call 'do_home work()' method of the superclass in the subclass.\n",
    "\n",
    "class Student(Human): \n",
    "#    sum = 0\n",
    "\n",
    "    def __init__(self, school, name, age):\n",
    "        self.school = school\n",
    "        super(Student, self).__init__(name, age)    \n",
    "        \n",
    "    def do_homework(self):  # use super here to call superclass method.\n",
    "        super(Student, self).do_homework()\n",
    "        print('homework')\n",
    "        \n",
    "student1 = Student('First School', 'Jane', 20)\n",
    "\n",
    "student1.do_homework() # Now by calling the 'do_homework()' method in the current class, we called a method with the same name in the superclass.\n",
    "\n"
   ]
  },
  {
   "cell_type": "markdown",
   "metadata": {},
   "source": [
    "Python allows us to write multiple classes in the same module, but it is a good practice to write only one class in one module."
   ]
  },
  {
   "cell_type": "markdown",
   "metadata": {},
   "source": [
    "**Polymorphism will be talked about later in this class**"
   ]
  },
  {
   "cell_type": "code",
   "execution_count": null,
   "metadata": {},
   "outputs": [],
   "source": []
  }
 ],
 "metadata": {
  "kernelspec": {
   "display_name": "Python 3",
   "language": "python",
   "name": "python3"
  },
  "language_info": {
   "codemirror_mode": {
    "name": "ipython",
    "version": 3
   },
   "file_extension": ".py",
   "mimetype": "text/x-python",
   "name": "python",
   "nbconvert_exporter": "python",
   "pygments_lexer": "ipython3",
   "version": "3.7.6"
  },
  "toc": {
   "base_numbering": 1,
   "nav_menu": {},
   "number_sections": true,
   "sideBar": true,
   "skip_h1_title": false,
   "title_cell": "Table of Contents",
   "title_sidebar": "Contents",
   "toc_cell": false,
   "toc_position": {},
   "toc_section_display": true,
   "toc_window_display": false
  },
  "varInspector": {
   "cols": {
    "lenName": 16,
    "lenType": 16,
    "lenVar": 40
   },
   "kernels_config": {
    "python": {
     "delete_cmd_postfix": "",
     "delete_cmd_prefix": "del ",
     "library": "var_list.py",
     "varRefreshCmd": "print(var_dic_list())"
    },
    "r": {
     "delete_cmd_postfix": ") ",
     "delete_cmd_prefix": "rm(",
     "library": "var_list.r",
     "varRefreshCmd": "cat(var_dic_list()) "
    }
   },
   "types_to_exclude": [
    "module",
    "function",
    "builtin_function_or_method",
    "instance",
    "_Feature"
   ],
   "window_display": false
  }
 },
 "nbformat": 4,
 "nbformat_minor": 4
}
