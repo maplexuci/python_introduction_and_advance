{
 "cells": [
  {
   "cell_type": "markdown",
   "metadata": {},
   "source": [
    "# Built-in functions"
   ]
  },
  {
   "cell_type": "code",
   "execution_count": 1,
   "metadata": {
    "ExecuteTime": {
     "end_time": "2020-05-20T20:49:18.036832Z",
     "start_time": "2020-05-20T20:49:18.030882Z"
    }
   },
   "outputs": [
    {
     "name": "stdout",
     "output_type": "stream",
     "text": [
      "1.236\n"
     ]
    }
   ],
   "source": [
    "# There is a lot of built-in functions in python.\n",
    "a = 1.235984857\n",
    "print(round(a, 3))"
   ]
  },
  {
   "cell_type": "code",
   "execution_count": 2,
   "metadata": {
    "ExecuteTime": {
     "end_time": "2020-05-20T20:49:18.450190Z",
     "start_time": "2020-05-20T20:49:18.444211Z"
    }
   },
   "outputs": [
    {
     "name": "stdout",
     "output_type": "stream",
     "text": [
      "Help on built-in function round in module builtins:\n",
      "\n",
      "round(number, ndigits=None)\n",
      "    Round a number to a given precision in decimal digits.\n",
      "    \n",
      "    The return value is an integer if ndigits is omitted or None.  Otherwise\n",
      "    the return value has the same type as the number.  ndigits may be negative.\n",
      "\n"
     ]
    }
   ],
   "source": [
    "# Check the usage of the function\n",
    "help(round)"
   ]
  },
  {
   "cell_type": "markdown",
   "metadata": {},
   "source": [
    "Functions:\n",
    "- has certain function\n",
    "- easily be called\n",
    "- reduced code repeatity\n"
   ]
  },
  {
   "cell_type": "markdown",
   "metadata": {},
   "source": [
    "# Self-defined functions\n",
    "## Define function"
   ]
  },
  {
   "cell_type": "code",
   "execution_count": 3,
   "metadata": {
    "ExecuteTime": {
     "end_time": "2020-05-20T20:49:20.913678Z",
     "start_time": "2020-05-20T20:49:20.909689Z"
    }
   },
   "outputs": [],
   "source": [
    "# Define a function:\n",
    "def funcname(parameter_list):\n",
    "    pass #code block\n",
    "\n",
    "# parameter_list could be empty.\n",
    "# code block should have a return value, by using return statement. otherwise function may have output but return value is None."
   ]
  },
  {
   "cell_type": "code",
   "execution_count": 7,
   "metadata": {
    "ExecuteTime": {
     "end_time": "2020-05-20T20:50:37.144665Z",
     "start_time": "2020-05-20T20:50:37.138679Z"
    }
   },
   "outputs": [
    {
     "data": {
      "text/plain": [
       "7"
      ]
     },
     "execution_count": 7,
     "metadata": {},
     "output_type": "execute_result"
    }
   ],
   "source": [
    "# An simple exmple\n",
    "\n",
    "def add(x, y):\n",
    "    result = x + y\n",
    "    return result\n",
    "\n",
    "add(2, 5)  # parameter are positional, unless manually defined."
   ]
  },
  {
   "cell_type": "code",
   "execution_count": 8,
   "metadata": {
    "ExecuteTime": {
     "end_time": "2020-05-20T20:50:37.918969Z",
     "start_time": "2020-05-20T20:50:37.913981Z"
    }
   },
   "outputs": [],
   "source": [
    "# def print(code):\n",
    "#     print(code) \n",
    "# This is a dead function, as it is self-called. It is a infinite recursion. \n",
    "# It is also a bad habit to use the built-in function name as the self-defined function name. \n",
    "\n",
    "# How to modify it?\n",
    "def print_code(code):\n",
    "    print(code)\n"
   ]
  },
  {
   "cell_type": "code",
   "execution_count": 9,
   "metadata": {
    "ExecuteTime": {
     "end_time": "2020-05-20T20:53:52.444019Z",
     "start_time": "2020-05-20T20:53:52.439032Z"
    }
   },
   "outputs": [],
   "source": [
    "# set the mamxium recursion times\n",
    "import sys\n",
    "sys.setrecursionlimit(2000)\n",
    "\n",
    "# recursion limit depends on the computer."
   ]
  },
  {
   "cell_type": "markdown",
   "metadata": {},
   "source": [
    "## Call functions and the returns"
   ]
  },
  {
   "cell_type": "code",
   "execution_count": 10,
   "metadata": {
    "ExecuteTime": {
     "end_time": "2020-05-20T20:54:58.543301Z",
     "start_time": "2020-05-20T20:54:58.536322Z"
    }
   },
   "outputs": [
    {
     "name": "stdout",
     "output_type": "stream",
     "text": [
      "python\n",
      "3 None\n"
     ]
    }
   ],
   "source": [
    "# what is the output of the following code?\n",
    "def add(x, y):\n",
    "    result = x + y\n",
    "    return result\n",
    "\n",
    "def print_code(code):\n",
    "    print(code)\n",
    "    \n",
    "a = add(1, 2)  # function add() is called, the return value is 3 and is assigned to a.\n",
    "b = print_code('python') # print_code() function is called, because there is print() function inside of it,\n",
    "                         # so 'python' will be printed through this function.\n",
    "                         # However, this function doesn't have return statment, therefore no return value, so b is None.\n",
    "\n",
    "print(a, b)"
   ]
  },
  {
   "cell_type": "code",
   "execution_count": 16,
   "metadata": {
    "ExecuteTime": {
     "end_time": "2020-05-20T21:15:41.807722Z",
     "start_time": "2020-05-20T21:15:41.803865Z"
    }
   },
   "outputs": [],
   "source": [
    "# return statment should be the last line of a function, \n",
    "# code after return statment will not be exucated."
   ]
  },
  {
   "cell_type": "markdown",
   "metadata": {},
   "source": [
    "## Multiple returns"
   ]
  },
  {
   "cell_type": "code",
   "execution_count": 19,
   "metadata": {
    "ExecuteTime": {
     "end_time": "2020-05-20T21:21:39.875242Z",
     "start_time": "2020-05-20T21:21:39.867267Z"
    }
   },
   "outputs": [
    {
     "name": "stdout",
     "output_type": "stream",
     "text": [
      "<class 'tuple'>\n",
      "6 22\n",
      "9 22\n"
     ]
    }
   ],
   "source": [
    "# multiple returens\n",
    "def damage(skill_1, skill_2):\n",
    "    damage_1 = skill_1 * 3\n",
    "    damage_2 = skill_2 * 2 + 10\n",
    "    return damage_1, damage_2  # for multiple returns, simply use , to seperate each return\n",
    "\n",
    "damages = damage(2, 6)\n",
    "print(type(damages))  # mutiple returns will be a tuple.\n",
    "\n",
    "# print(damage[0], damage[1])  # Why this has error? How to fix?\n",
    "                               # Although multiple returns is a tuple, but you can not access returns from the function.\n",
    "\n",
    "print(damages[0], damages[1])  # mutiple returns of function can be accessed through the return results (which is a tuple).\n",
    "                               # But this is not a good practice to access the return. How to improve?\n",
    "\n",
    "\n",
    "    \n",
    "# Assign meaningful variables to the multiple returns of the function for more clear access of each return result.\n",
    "skill_1_damage, skill_2_damage = damage(3, 6)\n",
    "print(skill_1_damage, skill_2_damage)"
   ]
  },
  {
   "cell_type": "markdown",
   "metadata": {},
   "source": [
    "## Sequence unpacking"
   ]
  },
  {
   "cell_type": "code",
   "execution_count": 21,
   "metadata": {
    "ExecuteTime": {
     "end_time": "2020-05-20T21:25:27.643360Z",
     "start_time": "2020-05-20T21:25:27.637377Z"
    }
   },
   "outputs": [],
   "source": [
    "# Normal two ways of variable assignment\n",
    "a = 1\n",
    "b = 2\n",
    "c = 3\n",
    "\n",
    "a, b, c = 1, 2, 3\n",
    "\n"
   ]
  },
  {
   "cell_type": "code",
   "execution_count": 23,
   "metadata": {
    "ExecuteTime": {
     "end_time": "2020-05-20T21:27:04.505115Z",
     "start_time": "2020-05-20T21:27:04.499135Z"
    }
   },
   "outputs": [
    {
     "name": "stdout",
     "output_type": "stream",
     "text": [
      "4 5 6\n"
     ]
    }
   ],
   "source": [
    "# define a tuple first\n",
    "d = 4, 5, 6\n",
    "type(d)\n",
    "\n",
    "# Unpacking d and let a, b, c to receive each element. Variable numbers should be the same with the elements in the tuple.\n",
    "a, b, c = d\n",
    "print(a, b, c)"
   ]
  },
  {
   "cell_type": "markdown",
   "metadata": {},
   "source": [
    "## Parameters and arguments of functions"
   ]
  },
  {
   "cell_type": "code",
   "execution_count": null,
   "metadata": {},
   "outputs": [],
   "source": [
    "# parameters are the variables defined in the function.\n",
    "\n",
    "# arguments are the values that are passed to the function when it is called."
   ]
  },
  {
   "cell_type": "markdown",
   "metadata": {},
   "source": [
    "### Mandatory arguments"
   ]
  },
  {
   "cell_type": "code",
   "execution_count": 26,
   "metadata": {
    "ExecuteTime": {
     "end_time": "2020-05-20T21:41:19.758654Z",
     "start_time": "2020-05-20T21:41:19.751693Z"
    }
   },
   "outputs": [
    {
     "name": "stdout",
     "output_type": "stream",
     "text": [
      "3\n"
     ]
    }
   ],
   "source": [
    "# You have to assign values to those parameters, positionally.\n",
    "# e.g.\n",
    "def add(x, y):  # x, y parameters\n",
    "    result = x + y\n",
    "    return result\n",
    "\n",
    "a = add(1, 2)  # When you call the function, both arguments need to be assigned, positionally.\n",
    "\n",
    "print(a)"
   ]
  },
  {
   "cell_type": "raw",
   "metadata": {},
   "source": []
  },
  {
   "cell_type": "markdown",
   "metadata": {},
   "source": [
    "### Key word arguments"
   ]
  },
  {
   "cell_type": "code",
   "execution_count": 27,
   "metadata": {
    "ExecuteTime": {
     "end_time": "2020-05-20T21:41:50.582891Z",
     "start_time": "2020-05-20T21:41:50.578941Z"
    }
   },
   "outputs": [],
   "source": [
    "# You can assign arguments by specifying the arguments when you call the function, without cosidering the arguments position"
   ]
  },
  {
   "cell_type": "code",
   "execution_count": 31,
   "metadata": {
    "ExecuteTime": {
     "end_time": "2020-05-20T22:31:34.005997Z",
     "start_time": "2020-05-20T22:31:33.974482Z"
    }
   },
   "outputs": [
    {
     "name": "stdout",
     "output_type": "stream",
     "text": [
      "3\n"
     ]
    }
   ],
   "source": [
    "# e.g.\n",
    "def add(x, y):  # x, y parameters\n",
    "    result = x + y\n",
    "    return result\n",
    "\n",
    "a = add(y = 2, x = 1) # Assign arguments by specifying each argument.\n",
    "\n",
    "print(a)"
   ]
  },
  {
   "cell_type": "markdown",
   "metadata": {},
   "source": [
    "### Default parameters"
   ]
  },
  {
   "cell_type": "code",
   "execution_count": null,
   "metadata": {},
   "outputs": [],
   "source": [
    "# you can assign the variables to a specific value, when defining a function, without considering the position of the function.\n",
    "# You can assign different arguments to key word parameters when you call the function."
   ]
  },
  {
   "cell_type": "code",
   "execution_count": 33,
   "metadata": {
    "ExecuteTime": {
     "end_time": "2020-05-20T22:34:48.122796Z",
     "start_time": "2020-05-20T22:34:48.114851Z"
    }
   },
   "outputs": [
    {
     "name": "stdout",
     "output_type": "stream",
     "text": [
      "20\n"
     ]
    }
   ],
   "source": [
    "# e.g.\n",
    "def add(x, y=6, z=7):  # x, y parameters\n",
    "    result = x + y + z\n",
    "    return result\n",
    "\n",
    "a = add(3)  # When you call the function, you could assign no arguments, as the key word parameters are the default arguments.\n",
    "a = add(3, 8, 9) # You can modify the arguments by assigning a new value, this will overwrite the default value.\n",
    "print(a)"
   ]
  },
  {
   "cell_type": "code",
   "execution_count": 34,
   "metadata": {
    "ExecuteTime": {
     "end_time": "2020-05-20T22:38:33.896989Z",
     "start_time": "2020-05-20T22:38:33.891999Z"
    }
   },
   "outputs": [],
   "source": [
    "# You can not put a mandatory parameter behind a default parament.\n",
    "\n",
    "# def add(x, y=6, z=7, w): \n",
    "# This will result error, should put w before y=6"
   ]
  },
  {
   "cell_type": "code",
   "execution_count": 39,
   "metadata": {
    "ExecuteTime": {
     "end_time": "2020-05-20T22:45:29.417584Z",
     "start_time": "2020-05-20T22:45:29.411598Z"
    }
   },
   "outputs": [
    {
     "name": "stdout",
     "output_type": "stream",
     "text": [
      "21\n"
     ]
    }
   ],
   "source": [
    "# If you only need to change z, but not changing y, what should you do?\n",
    "a = add(3,z=12) # you need to specify the key word of the argument.\n",
    "print(a)"
   ]
  },
  {
   "cell_type": "code",
   "execution_count": 40,
   "metadata": {
    "ExecuteTime": {
     "end_time": "2020-05-20T22:48:09.957071Z",
     "start_time": "2020-05-20T22:48:09.949090Z"
    }
   },
   "outputs": [
    {
     "ename": "SyntaxError",
     "evalue": "positional argument follows keyword argument (<ipython-input-40-5f5be62b0cb6>, line 1)",
     "output_type": "error",
     "traceback": [
      "\u001b[1;36m  File \u001b[1;32m\"<ipython-input-40-5f5be62b0cb6>\"\u001b[1;36m, line \u001b[1;32m1\u001b[0m\n\u001b[1;33m    a = add(3, y=10, 8) # you need to specify the key word of the argument.\u001b[0m\n\u001b[1;37m                    ^\u001b[0m\n\u001b[1;31mSyntaxError\u001b[0m\u001b[1;31m:\u001b[0m positional argument follows keyword argument\n"
     ]
    }
   ],
   "source": [
    "# In function call, default arguments(when changing) can't be mix-up with key word arguments.\n",
    "# All key words arguments should be put in the end.\n",
    "a = add(3, y=10, 8) # This will cause error, as a key word argument (y = 10) is put before a changed default argument.\n",
    "print(a)"
   ]
  },
  {
   "cell_type": "code",
   "execution_count": null,
   "metadata": {},
   "outputs": [],
   "source": []
  }
 ],
 "metadata": {
  "kernelspec": {
   "display_name": "Python 3",
   "language": "python",
   "name": "python3"
  },
  "language_info": {
   "codemirror_mode": {
    "name": "ipython",
    "version": 3
   },
   "file_extension": ".py",
   "mimetype": "text/x-python",
   "name": "python",
   "nbconvert_exporter": "python",
   "pygments_lexer": "ipython3",
   "version": "3.7.6"
  },
  "toc": {
   "base_numbering": 1,
   "nav_menu": {},
   "number_sections": true,
   "sideBar": true,
   "skip_h1_title": false,
   "title_cell": "Table of Contents",
   "title_sidebar": "Contents",
   "toc_cell": false,
   "toc_position": {},
   "toc_section_display": true,
   "toc_window_display": false
  },
  "varInspector": {
   "cols": {
    "lenName": 16,
    "lenType": 16,
    "lenVar": 40
   },
   "kernels_config": {
    "python": {
     "delete_cmd_postfix": "",
     "delete_cmd_prefix": "del ",
     "library": "var_list.py",
     "varRefreshCmd": "print(var_dic_list())"
    },
    "r": {
     "delete_cmd_postfix": ") ",
     "delete_cmd_prefix": "rm(",
     "library": "var_list.r",
     "varRefreshCmd": "cat(var_dic_list()) "
    }
   },
   "types_to_exclude": [
    "module",
    "function",
    "builtin_function_or_method",
    "instance",
    "_Feature"
   ],
   "window_display": false
  }
 },
 "nbformat": 4,
 "nbformat_minor": 4
}
