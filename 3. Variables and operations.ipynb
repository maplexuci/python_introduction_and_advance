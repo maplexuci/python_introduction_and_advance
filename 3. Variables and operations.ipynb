{
 "cells": [
  {
   "cell_type": "markdown",
   "metadata": {},
   "source": [
    "# Variable\n",
    "## Variable assignment"
   ]
  },
  {
   "cell_type": "code",
   "execution_count": null,
   "metadata": {
    "ExecuteTime": {
     "end_time": "2020-05-18T17:01:25.641117Z",
     "start_time": "2020-05-18T17:01:25.634141Z"
    }
   },
   "outputs": [],
   "source": [
    "# Define a variable\n",
    "a = [1,2,3,4,5,6]\n",
    "a\n",
    "b = [1,2,3]\n",
    "b\n",
    "#a*3+b+a\n",
    "\n",
    "# Variable in python doesn't have type, you can assign any type of data to any variable"
   ]
  },
  {
   "cell_type": "markdown",
   "metadata": {},
   "source": [
    "## Conventions of variable naming\n",
    "<font new color = blue size = 4>  \n",
    "**The name should be understandable, concise and meaningful.**  \n",
    "      \n",
    "**Variable name should only contain number, letter or underscore but should not start with number**  \n",
    "    \n",
    "**Variable name is capital sensitive**\n",
    "    \n",
    "**Variable name should not be conflict with the python key words.**\n",
    "    \n",
    "**Avoid using the words that are the name of functions or methods even though they are not python key words.**   \n",
    "</font>\n",
    "\n"
   ]
  },
  {
   "cell_type": "code",
   "execution_count": null,
   "metadata": {},
   "outputs": [],
   "source": [
    "# Search for the key words of python to see how many are there?"
   ]
  },
  {
   "cell_type": "markdown",
   "metadata": {},
   "source": [
    "## Dynamic typing"
   ]
  },
  {
   "cell_type": "code",
   "execution_count": null,
   "metadata": {
    "ExecuteTime": {
     "end_time": "2020-05-18T18:55:22.626492Z",
     "start_time": "2020-05-18T18:55:22.620507Z"
    }
   },
   "outputs": [],
   "source": [
    "# Loot at this example\n",
    "a = 1\n",
    "b = a\n",
    "a = 3\n",
    "# Now, what is the value of b?\n",
    "#b # Uncomment to see the result, why is it?"
   ]
  },
  {
   "cell_type": "code",
   "execution_count": null,
   "metadata": {
    "ExecuteTime": {
     "end_time": "2020-05-18T18:57:57.754706Z",
     "start_time": "2020-05-18T18:57:57.739168Z"
    }
   },
   "outputs": [],
   "source": [
    "# Loot at another example\n",
    "a = [1, 2, 3, 4]\n",
    "b = a\n",
    "a[0] = 6\n",
    "# Now, what is the value of b? And why is it?"
   ]
  },
  {
   "cell_type": "markdown",
   "metadata": {},
   "source": [
    "<font new color = blue size = 4>  \n",
    "**In python, variable assignment, there are 3 concepts you need to understand: object, variable, reference.**  \n",
    "      \n",
    "**In the first example, in the assignment `a = 1`, `1` is the object, `a` is the variable and the assignment `=` create a reference between these two.**  \n",
    "      \n",
    "**Variable can only be referenced to object, but can't be referenced to variables.**\n",
    "    \n",
    "**Therefore, when a is assigned to b in `b = a`, `b` should be referenced to `a`, but `a` itself is a variable, so `b` is referenced to the value of `a`, which is `1`. Therefore, at this stage, the value of `b` is `1`.**\n",
    "    \n",
    "**Another principle is: one variable can only have reference to one object. If a new reference for the same variable is created, the previous reference of this variable will be removed automatically**\n",
    "    \n",
    "**So, based on the above principle, when a new assignment of variable `a` is made by `a = 3`, `a` now has a new reference to `3`, the previous reference to `1` is removed. But variable `b` and its reference is not changed, therefore the value of `b` is still `1`.**\n",
    "    \n",
    "**However, in the second example, `a = [1, 2, 3, 4]` create a reference between variable `a` and a list object `[1, 2, 3, 4]`. When making the assignment `b = a`, `b` will have the reference to the same list object. Then, `a[0] = 6` changes one element of `a`, makes the value of `a` becomes `[6, 2, 3, 4]`, but this list is still the same object, it's just one element of it is changed, but no new assignment is made, so no new reference is created, now `a` is still referenced to the same list object, one of whose element is changed. As `b` is also still referenced to the same object, therefore, the value of `b` is also changed to `[6, 2, 3, 4]`**\n",
    "    \n",
    "**To conclude as a summary: variable assignment to immutable data type will result the 1st example; variable assignment to mutable data type will result in the 2nd example.**\n",
    "</font>"
   ]
  },
  {
   "cell_type": "code",
   "execution_count": null,
   "metadata": {
    "ExecuteTime": {
     "end_time": "2020-05-18T20:07:55.413462Z",
     "start_time": "2020-05-18T20:07:55.406483Z"
    }
   },
   "outputs": [],
   "source": [
    "# To test if a variable is changed or not, use id() to see the object address in the memory.\n",
    "a = 'hello'\n",
    "id(a)\n",
    "#a = a + 'python'\n",
    "#id(a)  # Uncomment these two lines to see if the id is changed."
   ]
  },
  {
   "cell_type": "code",
   "execution_count": null,
   "metadata": {
    "ExecuteTime": {
     "end_time": "2020-05-18T20:17:33.444781Z",
     "start_time": "2020-05-18T20:17:33.437799Z"
    }
   },
   "outputs": [],
   "source": [
    "# How about the 2nd example.\n",
    "b = [1, 2, 3, 4]\n",
    "id(b)\n",
    "b[0] = 6\n",
    "id(b)"
   ]
  },
  {
   "cell_type": "code",
   "execution_count": null,
   "metadata": {
    "ExecuteTime": {
     "end_time": "2020-05-18T20:19:55.793222Z",
     "start_time": "2020-05-18T20:19:55.785244Z"
    }
   },
   "outputs": [],
   "source": [
    "# Can you make assignment to the mutable element inside of an immutable data?\n",
    "t = (1, 2, 3, [5, 7, 9])\n",
    "t[3][2] = 8\n",
    "t\n",
    "\n",
    "# In this example, you are actually changing a list not a tuple.\n",
    "# Therefore, try to avoid using mutable data inside of immutable data when possible."
   ]
  },
  {
   "cell_type": "markdown",
   "metadata": {},
   "source": [
    "# Operations\n",
    "## Numerical operations"
   ]
  },
  {
   "cell_type": "code",
   "execution_count": null,
   "metadata": {
    "ExecuteTime": {
     "end_time": "2020-05-18T20:33:39.339672Z",
     "start_time": "2020-05-18T20:33:39.331671Z"
    }
   },
   "outputs": [],
   "source": [
    "# numerical operations in python\n",
    "1+2\n",
    "3*4\n",
    "5/2\n",
    "5//2\n",
    "5%2\n",
    "2**3\n"
   ]
  },
  {
   "cell_type": "markdown",
   "metadata": {},
   "source": [
    "## Assignment operations"
   ]
  },
  {
   "cell_type": "code",
   "execution_count": null,
   "metadata": {
    "ExecuteTime": {
     "end_time": "2020-05-18T20:52:20.445720Z",
     "start_time": "2020-05-18T20:52:20.439736Z"
    }
   },
   "outputs": [],
   "source": [
    "a = 1\n",
    "a += 1\n",
    "a *= 1\n",
    "a /= 1\n",
    "a %= 1\n",
    "a **= 1\n",
    "a //= 1"
   ]
  },
  {
   "cell_type": "code",
   "execution_count": null,
   "metadata": {
    "ExecuteTime": {
     "end_time": "2020-05-18T20:54:57.320605Z",
     "start_time": "2020-05-18T20:54:57.313623Z"
    }
   },
   "outputs": [],
   "source": [
    "a = 3\n",
    "b = 2\n",
    "a + b   # Only do numerical operation, but the value of a and b is not changed\n",
    "a += b  # Result is the same as a + b, but this way, the vaule of a is changed\n",
    "a\n",
    "a -= b\n",
    "a"
   ]
  },
  {
   "cell_type": "markdown",
   "metadata": {},
   "source": [
    "## Comparison operations"
   ]
  },
  {
   "cell_type": "code",
   "execution_count": null,
   "metadata": {
    "ExecuteTime": {
     "end_time": "2020-05-18T20:41:59.225557Z",
     "start_time": "2020-05-18T20:41:59.217579Z"
    }
   },
   "outputs": [],
   "source": [
    "a = 1\n",
    "b = 3   # One = is assignment\n",
    "a == b  # Two == is comparison, compares the value of the two variables\n",
    "a != b\n",
    "a > b\n",
    "a < b\n",
    "a >= b\n",
    "a <= b"
   ]
  },
  {
   "cell_type": "code",
   "execution_count": null,
   "metadata": {
    "ExecuteTime": {
     "end_time": "2020-05-18T21:03:31.610243Z",
     "start_time": "2020-05-18T21:03:31.601266Z"
    }
   },
   "outputs": [],
   "source": [
    "b = 1\n",
    "b += b>=1 # b>=1 returns True, True can be converted to 1 in interger\n",
    "print(b)\n",
    "b =+ b>=1 # what is the differece with the above example? += or =+\n",
    "\n",
    "# Not only numbers can do comparison operations\n",
    "'a' > 'b'  # Charaters compare their correponding ASCII value.\n",
    "'abc' < 'abd'  # Compare the charater one by one.\n",
    "\n",
    "[1,2,3] < [2,3,4]  # Still compare each element one by one\n",
    "# Same with tuple.\n"
   ]
  },
  {
   "cell_type": "markdown",
   "metadata": {},
   "source": [
    "## Boolean operations"
   ]
  },
  {
   "cell_type": "code",
   "execution_count": null,
   "metadata": {
    "ExecuteTime": {
     "end_time": "2020-05-18T20:42:40.059388Z",
     "start_time": "2020-05-18T20:42:40.045373Z"
    }
   },
   "outputs": [],
   "source": [
    "a and b\n",
    "a or b\n",
    "not a"
   ]
  },
  {
   "cell_type": "code",
   "execution_count": null,
   "metadata": {
    "ExecuteTime": {
     "end_time": "2020-05-18T22:09:04.422810Z",
     "start_time": "2020-05-18T22:09:04.415829Z"
    }
   },
   "outputs": [],
   "source": [
    "# Boolean operations between non boolean type variables\n",
    "# Other type of variables will be converted to boolean type\n",
    "# 0 is considered False, empty str, list,... is considered as False\n",
    "bool('0')  # What is the boolean type of this?\n",
    "[1] or []\n",
    "[] or [1]\n",
    "\n",
    "1 and 2\n",
    "2 and 1  # Why these two examples returns the latter?\n",
    "# Both operations equals to True and True. The result will be True, \n",
    "# but both 1 and 2 are considered Trun. Why alsways return the latter?\n",
    "# This is related to the order of computer interperatation of the code.\n",
    "# In these two examples, when computer read the first character (1 or 2),\n",
    "# they are or True, then it read 'and', because it is 'and' operation, so the\n",
    "# result depends on the other component of the comparison. Then it read the latter,\n",
    "# and again, both are all True, so computer return the 'nearest' True result.\n",
    "\n",
    "1 or 2\n",
    "2 or 1\n",
    "# In these two examples, they always return the first element.\n",
    "# Same logic would apply, both 1 and 2 are True, then computer continue to read 'or'\n",
    "# When computer knows it is a 'or' operation, then it doesn't bother continuing reading,\n",
    "# because the first element is already True, so it returns it.\n",
    "# If the first is False, in an 'or' operation, computer will continue to read the\n",
    "# the second element, and will return that one."
   ]
  },
  {
   "cell_type": "markdown",
   "metadata": {},
   "source": [
    "## Membership operations"
   ]
  },
  {
   "cell_type": "code",
   "execution_count": null,
   "metadata": {
    "ExecuteTime": {
     "end_time": "2020-05-18T22:18:16.395356Z",
     "start_time": "2020-05-18T22:18:16.388374Z"
    }
   },
   "outputs": [],
   "source": [
    "# Numbers can not do this operation, it has to be sequence type variable\n",
    "a = [3, 4]\n",
    "b = [3, 4, 5, 6]\n",
    "a in b\n",
    "a not in b\n",
    "\n",
    "# For operation to dict, the comparison component need to be the key of the dict\n",
    "'c' in {'c': 1}"
   ]
  },
  {
   "cell_type": "markdown",
   "metadata": {},
   "source": [
    "## Identity operations"
   ]
  },
  {
   "cell_type": "code",
   "execution_count": null,
   "metadata": {
    "ExecuteTime": {
     "end_time": "2020-05-18T22:24:31.408423Z",
     "start_time": "2020-05-18T22:24:31.399453Z"
    }
   },
   "outputs": [],
   "source": [
    "# 'is' and 'is not' compares the physical address of the variables in the memory\n",
    "a = 1\n",
    "b = 1.0\n",
    "\n",
    "a is b\n",
    "a == b  # Why the result of these two are different\n",
    "\n",
    "#  '==' compares the value of the variables\n",
    "\n",
    "c = (1,2,3)\n",
    "d = (2,1,3)\n",
    "c == d\n",
    "c is d\n",
    "# c and d are tuples, has order, so the values are not the same\n",
    "\n",
    "a = {1,2,3}\n",
    "b = {2,1,3}\n",
    "a == b\n",
    "a is b\n",
    "# a and b are sets, doesn't have order, so the values are same\n",
    "\n",
    "# In both cases, the id of the variables are not the same."
   ]
  },
  {
   "cell_type": "code",
   "execution_count": null,
   "metadata": {
    "ExecuteTime": {
     "end_time": "2020-05-18T22:32:37.963208Z",
     "start_time": "2020-05-18T22:32:37.955229Z"
    }
   },
   "outputs": [],
   "source": [
    "# Type comparison\n",
    "a = 'hello'\n",
    "type(a) == str\n",
    "\n",
    "# Use function to compare\n",
    "isinstance(a, str)\n",
    "isinstance(a, int)\n",
    "isinstance(a,(int,str,float))  # To see if a is any of thoes types in the ()\n",
    "isinstance(a,(int,float))"
   ]
  },
  {
   "cell_type": "markdown",
   "metadata": {},
   "source": [
    "<font size=4>\n",
    "Three characteristic of objects:  \n",
    "    \n",
    "Value  \n",
    "ID  \n",
    "Type  \n",
    "</font>"
   ]
  },
  {
   "cell_type": "markdown",
   "metadata": {},
   "source": [
    "## Bitwise operations"
   ]
  },
  {
   "cell_type": "code",
   "execution_count": null,
   "metadata": {
    "ExecuteTime": {
     "end_time": "2020-05-18T22:40:10.929418Z",
     "start_time": "2020-05-18T22:40:10.921438Z"
    }
   },
   "outputs": [],
   "source": [
    "# Not commenly used\n",
    "# Compare binary bit by bit\n",
    "# Other type of data will be firstly converted to binary\n",
    "a = 2\n",
    "b = 3\n",
    "a & b\n",
    "a | b"
   ]
  },
  {
   "cell_type": "code",
   "execution_count": null,
   "metadata": {},
   "outputs": [],
   "source": []
  }
 ],
 "metadata": {
  "kernelspec": {
   "display_name": "Python 3",
   "language": "python",
   "name": "python3"
  },
  "language_info": {
   "codemirror_mode": {
    "name": "ipython",
    "version": 3
   },
   "file_extension": ".py",
   "mimetype": "text/x-python",
   "name": "python",
   "nbconvert_exporter": "python",
   "pygments_lexer": "ipython3",
   "version": "3.7.6"
  },
  "toc": {
   "base_numbering": 1,
   "nav_menu": {},
   "number_sections": true,
   "sideBar": true,
   "skip_h1_title": false,
   "title_cell": "Table of Contents",
   "title_sidebar": "Contents",
   "toc_cell": false,
   "toc_position": {},
   "toc_section_display": true,
   "toc_window_display": false
  },
  "varInspector": {
   "cols": {
    "lenName": 16,
    "lenType": 16,
    "lenVar": 40
   },
   "kernels_config": {
    "python": {
     "delete_cmd_postfix": "",
     "delete_cmd_prefix": "del ",
     "library": "var_list.py",
     "varRefreshCmd": "print(var_dic_list())"
    },
    "r": {
     "delete_cmd_postfix": ") ",
     "delete_cmd_prefix": "rm(",
     "library": "var_list.r",
     "varRefreshCmd": "cat(var_dic_list()) "
    }
   },
   "types_to_exclude": [
    "module",
    "function",
    "builtin_function_or_method",
    "instance",
    "_Feature"
   ],
   "window_display": false
  }
 },
 "nbformat": 4,
 "nbformat_minor": 4
}
