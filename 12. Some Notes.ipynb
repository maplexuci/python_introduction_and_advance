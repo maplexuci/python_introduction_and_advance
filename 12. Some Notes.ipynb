{
 "cells": [
  {
   "cell_type": "markdown",
   "metadata": {},
   "source": [
    "# `dict` mapping\n",
    "Replace the usage of `switch` in other languages."
   ]
  },
  {
   "cell_type": "code",
   "execution_count": 2,
   "metadata": {
    "ExecuteTime": {
     "end_time": "2020-05-30T14:25:27.124211Z",
     "start_time": "2020-05-30T14:25:27.118227Z"
    }
   },
   "outputs": [
    {
     "name": "stdout",
     "output_type": "stream",
     "text": [
      "Tuesday\n"
     ]
    }
   ],
   "source": [
    "day = 2\n",
    "\n",
    "switcher = {0: 'Sunday', 1: 'Monday', 2: 'Tuesday'}\n",
    "\n",
    "day_name = switcher[day]\n",
    "\n",
    "print(day_name)"
   ]
  },
  {
   "cell_type": "code",
   "execution_count": 4,
   "metadata": {
    "ExecuteTime": {
     "end_time": "2020-05-30T14:28:43.868171Z",
     "start_time": "2020-05-30T14:28:43.860180Z"
    }
   },
   "outputs": [
    {
     "name": "stdout",
     "output_type": "stream",
     "text": [
      "No such day\n"
     ]
    }
   ],
   "source": [
    "day = 6\n",
    "\n",
    "switcher = {0: 'Sunday', 1: 'Monday', 2: 'Tuesday'}\n",
    "\n",
    "day_name = switcher.get(day, 'No such day')\n",
    "\n",
    "print(day_name)"
   ]
  },
  {
   "cell_type": "code",
   "execution_count": 9,
   "metadata": {
    "ExecuteTime": {
     "end_time": "2020-05-30T14:36:29.261495Z",
     "start_time": "2020-05-30T14:36:29.252518Z"
    }
   },
   "outputs": [
    {
     "name": "stdout",
     "output_type": "stream",
     "text": [
      "No such day\n"
     ]
    }
   ],
   "source": [
    "day = 8\n",
    "\n",
    "def get_sunday():\n",
    "    return 'Sunday'\n",
    "\n",
    "def get_monday():\n",
    "    return 'Monday'\n",
    "\n",
    "def get_tuesday():\n",
    "    return 'Tuesday'\n",
    "\n",
    "def get_default():\n",
    "    return 'No such day'\n",
    "\n",
    "switcher = {0: get_sunday, 1: get_monday, 2: get_tuesday}\n",
    "\n",
    "\n",
    "day_name = switcher.get(day, get_default)()\n",
    "\n",
    "print(day_name)"
   ]
  },
  {
   "cell_type": "markdown",
   "metadata": {},
   "source": [
    "#  List comprehension\n",
    "## General usage"
   ]
  },
  {
   "cell_type": "code",
   "execution_count": 10,
   "metadata": {
    "ExecuteTime": {
     "end_time": "2020-05-30T14:40:08.562913Z",
     "start_time": "2020-05-30T14:40:08.544963Z"
    }
   },
   "outputs": [
    {
     "data": {
      "text/plain": [
       "[1, 4, 9, 16, 25, 36, 49, 64]"
      ]
     },
     "execution_count": 10,
     "metadata": {},
     "output_type": "execute_result"
    }
   ],
   "source": [
    "a = [1,2,3,4,5,6,7,8]\n",
    "\n",
    "# create a new list based on each element of 'a'\n",
    "\n",
    "b = [i**2 for i in a]\n",
    "\n",
    "b"
   ]
  },
  {
   "cell_type": "code",
   "execution_count": 11,
   "metadata": {
    "ExecuteTime": {
     "end_time": "2020-05-30T14:43:20.887800Z",
     "start_time": "2020-05-30T14:43:20.878826Z"
    }
   },
   "outputs": [
    {
     "data": {
      "text/plain": [
       "[36, 49, 64]"
      ]
     },
     "execution_count": 11,
     "metadata": {},
     "output_type": "execute_result"
    }
   ],
   "source": [
    "# list comprehension is especially usful when you only use partial elements in the original list.\n",
    "\n",
    "a = [1,2,3,4,5,6,7,8]\n",
    "\n",
    "\n",
    "# Add conditions to filter elements.\n",
    "b = [i**2 for i in a if i > 5]\n",
    "\n",
    "b"
   ]
  },
  {
   "cell_type": "markdown",
   "metadata": {},
   "source": [
    "- `[]` is not a must syntax for comprehension.\n",
    "- set `{}`, dict `{}` can also be used in comprehension.\n",
    "- `()`  in comprehension is not a tuple comprehension, but rather a generator comprehension. Because `()` is used for generator comprehension in the early stage of python development. You can get a tuple using tuple(comprehension) in generator comprehension.\n",
    "-  The original list doesn't need to be changed to set or tuple if you want to get a set or tuple."
   ]
  },
  {
   "cell_type": "code",
   "execution_count": 18,
   "metadata": {
    "ExecuteTime": {
     "end_time": "2020-05-30T14:58:25.925446Z",
     "start_time": "2020-05-30T14:58:25.915509Z"
    }
   },
   "outputs": [
    {
     "name": "stdout",
     "output_type": "stream",
     "text": [
      "(36, 49, 64)\n",
      "{64, 49, 36}\n"
     ]
    }
   ],
   "source": [
    "a = [1,2,3,4,5,6,7,8]\n",
    "\n",
    "b = tuple(i**2 for i in a if i > 5)\n",
    "\n",
    "c = {i**2 for i in a if i > 5}\n",
    "\n",
    "print(b)\n",
    "print(c)"
   ]
  },
  {
   "cell_type": "markdown",
   "metadata": {},
   "source": [
    "## Dictionary comprehension"
   ]
  },
  {
   "cell_type": "code",
   "execution_count": 23,
   "metadata": {
    "ExecuteTime": {
     "end_time": "2020-05-30T15:04:35.610256Z",
     "start_time": "2020-05-30T15:04:35.601315Z"
    }
   },
   "outputs": [
    {
     "name": "stdout",
     "output_type": "stream",
     "text": [
      "['Lily', 'Jane', 'Victoria']\n",
      "{18: 'Lily', 19: 'Jane', 20: 'Victoria'}\n"
     ]
    }
   ],
   "source": [
    "students = {'Lily': 18, 'Jane':19, 'Victoria':20}\n",
    "\n",
    "# We need to have two variables in the 'for' expression and use '.item()' for the dict.\n",
    "b = [key for key, value in students.items()]\n",
    "\n",
    "# Invert the key and value of the original dict\n",
    "c = {value:key for key, value in students.items()}\n",
    "\n",
    "print(b)\n",
    "print(c)"
   ]
  },
  {
   "cell_type": "markdown",
   "metadata": {},
   "source": [
    "# None"
   ]
  },
  {
   "cell_type": "markdown",
   "metadata": {},
   "source": [
    "- `None` means nothing, not existing. It is not equal to `0`, `''`, `[]`, `{}`,  `()` or `False` etc.\n",
    "- `None` is also a object type. It's just a `Nonetype`.\n",
    "- For a variable `a`, does `not a` equal to `a is None`? Well, not always. If the value of `a` is `None`, then they are the same, both returns `True`. If `a` is a empty list, then `not a` returns `Trun`, while `a is None` returns `False`.\n",
    "- We can simply use `if a` or `if not a` for the judgement of `Nonetype`.\n"
   ]
  },
  {
   "cell_type": "markdown",
   "metadata": {},
   "source": [
    "# An object exist doesn't mean it is True"
   ]
  },
  {
   "cell_type": "markdown",
   "metadata": {},
   "source": [
    "- `Nonetype` is False. `[]`, `''` etc are False.\n",
    "- For an instance object, usually we think it is `True` if it is not `None`."
   ]
  },
  {
   "cell_type": "code",
   "execution_count": 25,
   "metadata": {
    "ExecuteTime": {
     "end_time": "2020-05-30T15:42:45.832948Z",
     "start_time": "2020-05-30T15:42:45.823971Z"
    }
   },
   "outputs": [
    {
     "name": "stdout",
     "output_type": "stream",
     "text": [
      "F\n"
     ]
    }
   ],
   "source": [
    "class Test():\n",
    "    def __len__(self):\n",
    "        return 0\n",
    "    \n",
    "test = Test()  # An instance of Test(), which returns the instance length is 0\n",
    "\n",
    "if test:\n",
    "    print('S')\n",
    "else:\n",
    "    print('F')\n",
    "    "
   ]
  },
  {
   "cell_type": "code",
   "execution_count": 26,
   "metadata": {
    "ExecuteTime": {
     "end_time": "2020-05-30T16:25:04.294650Z",
     "start_time": "2020-05-30T16:25:04.289665Z"
    }
   },
   "outputs": [
    {
     "name": "stdout",
     "output_type": "stream",
     "text": [
      "True\n"
     ]
    }
   ],
   "source": [
    "class Test():\n",
    "    pass\n",
    "    \n",
    "print(bool(Test()))"
   ]
  },
  {
   "cell_type": "code",
   "execution_count": 27,
   "metadata": {
    "ExecuteTime": {
     "end_time": "2020-05-30T16:25:55.648579Z",
     "start_time": "2020-05-30T16:25:55.641637Z"
    }
   },
   "outputs": [
    {
     "name": "stdout",
     "output_type": "stream",
     "text": [
      "False\n"
     ]
    }
   ],
   "source": [
    "class Test():\n",
    "    \n",
    "    def __len__(self):\n",
    "        return 0\n",
    "    \n",
    "print(bool(Test()))"
   ]
  },
  {
   "cell_type": "code",
   "execution_count": 29,
   "metadata": {
    "ExecuteTime": {
     "end_time": "2020-05-30T16:26:23.119795Z",
     "start_time": "2020-05-30T16:26:23.111854Z"
    }
   },
   "outputs": [
    {
     "name": "stdout",
     "output_type": "stream",
     "text": [
      "True\n"
     ]
    }
   ],
   "source": [
    "class Test():\n",
    "    \n",
    "    def __len__(self):\n",
    "        return 8\n",
    "    \n",
    "print(bool(Test()))"
   ]
  },
  {
   "cell_type": "code",
   "execution_count": 30,
   "metadata": {
    "ExecuteTime": {
     "end_time": "2020-05-30T16:26:37.168499Z",
     "start_time": "2020-05-30T16:26:37.154022Z"
    }
   },
   "outputs": [
    {
     "ename": "TypeError",
     "evalue": "'str' object cannot be interpreted as an integer",
     "output_type": "error",
     "traceback": [
      "\u001b[1;31m---------------------------------------------------------------------------\u001b[0m",
      "\u001b[1;31mTypeError\u001b[0m                                 Traceback (most recent call last)",
      "\u001b[1;32m<ipython-input-30-7b0c70926358>\u001b[0m in \u001b[0;36m<module>\u001b[1;34m\u001b[0m\n\u001b[0;32m      6\u001b[0m \u001b[1;33m\u001b[0m\u001b[0m\n\u001b[0;32m      7\u001b[0m \u001b[0mtest\u001b[0m \u001b[1;33m=\u001b[0m \u001b[0mTest\u001b[0m\u001b[1;33m(\u001b[0m\u001b[1;33m)\u001b[0m\u001b[1;33m\u001b[0m\u001b[1;33m\u001b[0m\u001b[0m\n\u001b[1;32m----> 8\u001b[1;33m \u001b[0mprint\u001b[0m\u001b[1;33m(\u001b[0m\u001b[0mbool\u001b[0m\u001b[1;33m(\u001b[0m\u001b[0mTest\u001b[0m\u001b[1;33m(\u001b[0m\u001b[1;33m)\u001b[0m\u001b[1;33m)\u001b[0m\u001b[1;33m)\u001b[0m\u001b[1;33m\u001b[0m\u001b[1;33m\u001b[0m\u001b[0m\n\u001b[0m",
      "\u001b[1;31mTypeError\u001b[0m: 'str' object cannot be interpreted as an integer"
     ]
    }
   ],
   "source": [
    "class Test():\n",
    "    \n",
    "    def __len__(self):\n",
    "        return '0'\n",
    "    \n",
    "print(bool(Test()))"
   ]
  },
  {
   "cell_type": "code",
   "execution_count": 31,
   "metadata": {
    "ExecuteTime": {
     "end_time": "2020-05-30T16:26:50.197277Z",
     "start_time": "2020-05-30T16:26:50.185299Z"
    }
   },
   "outputs": [
    {
     "ename": "TypeError",
     "evalue": "'float' object cannot be interpreted as an integer",
     "output_type": "error",
     "traceback": [
      "\u001b[1;31m---------------------------------------------------------------------------\u001b[0m",
      "\u001b[1;31mTypeError\u001b[0m                                 Traceback (most recent call last)",
      "\u001b[1;32m<ipython-input-31-a49372df6032>\u001b[0m in \u001b[0;36m<module>\u001b[1;34m\u001b[0m\n\u001b[0;32m      6\u001b[0m \u001b[1;33m\u001b[0m\u001b[0m\n\u001b[0;32m      7\u001b[0m \u001b[0mtest\u001b[0m \u001b[1;33m=\u001b[0m \u001b[0mTest\u001b[0m\u001b[1;33m(\u001b[0m\u001b[1;33m)\u001b[0m\u001b[1;33m\u001b[0m\u001b[1;33m\u001b[0m\u001b[0m\n\u001b[1;32m----> 8\u001b[1;33m \u001b[0mprint\u001b[0m\u001b[1;33m(\u001b[0m\u001b[0mbool\u001b[0m\u001b[1;33m(\u001b[0m\u001b[0mTest\u001b[0m\u001b[1;33m(\u001b[0m\u001b[1;33m)\u001b[0m\u001b[1;33m)\u001b[0m\u001b[1;33m)\u001b[0m\u001b[1;33m\u001b[0m\u001b[1;33m\u001b[0m\u001b[0m\n\u001b[0m",
      "\u001b[1;31mTypeError\u001b[0m: 'float' object cannot be interpreted as an integer"
     ]
    }
   ],
   "source": [
    "class Test():\n",
    "    \n",
    "    def __len__(self):\n",
    "        return 1.0\n",
    "    \n",
    "print(bool(Test()))"
   ]
  },
  {
   "cell_type": "code",
   "execution_count": 33,
   "metadata": {
    "ExecuteTime": {
     "end_time": "2020-05-30T16:29:52.322659Z",
     "start_time": "2020-05-30T16:29:52.315679Z"
    }
   },
   "outputs": [
    {
     "name": "stdout",
     "output_type": "stream",
     "text": [
      "1\n",
      "True\n"
     ]
    }
   ],
   "source": [
    "class Test():\n",
    "    \n",
    "    def __len__(self):\n",
    "        return True\n",
    "    \n",
    "print(len(Test())) # so the built-in function len() is actually a call to the __len__ method in the class.\n",
    "print(bool(Test()))"
   ]
  },
  {
   "cell_type": "code",
   "execution_count": 36,
   "metadata": {
    "ExecuteTime": {
     "end_time": "2020-05-30T16:37:39.298304Z",
     "start_time": "2020-05-30T16:37:39.291343Z"
    }
   },
   "outputs": [
    {
     "name": "stdout",
     "output_type": "stream",
     "text": [
      "bool called\n",
      "False\n"
     ]
    }
   ],
   "source": [
    "class Test():\n",
    "\n",
    "    def __bool__(self):\n",
    "        print('bool called')\n",
    "        return False\n",
    "    \n",
    "    def __len__(self):\n",
    "        print('len called')\n",
    "        return True\n",
    "\n",
    "print(bool(Test()))\n",
    "\n",
    "# With __bool__ method defined, __len__ method will not affect the returen anymore (it won't be called).\n"
   ]
  },
  {
   "cell_type": "code",
   "execution_count": 35,
   "metadata": {
    "ExecuteTime": {
     "end_time": "2020-05-30T16:35:45.929272Z",
     "start_time": "2020-05-30T16:35:45.915309Z"
    }
   },
   "outputs": [
    {
     "ename": "TypeError",
     "evalue": "__bool__ should return bool, returned int",
     "output_type": "error",
     "traceback": [
      "\u001b[1;31m---------------------------------------------------------------------------\u001b[0m",
      "\u001b[1;31mTypeError\u001b[0m                                 Traceback (most recent call last)",
      "\u001b[1;32m<ipython-input-35-d36b3fc054a4>\u001b[0m in \u001b[0;36m<module>\u001b[1;34m\u001b[0m\n\u001b[0;32m      7\u001b[0m         \u001b[1;32mreturn\u001b[0m \u001b[1;32mTrue\u001b[0m\u001b[1;33m\u001b[0m\u001b[1;33m\u001b[0m\u001b[0m\n\u001b[0;32m      8\u001b[0m \u001b[1;33m\u001b[0m\u001b[0m\n\u001b[1;32m----> 9\u001b[1;33m \u001b[0mprint\u001b[0m\u001b[1;33m(\u001b[0m\u001b[0mbool\u001b[0m\u001b[1;33m(\u001b[0m\u001b[0mTest\u001b[0m\u001b[1;33m(\u001b[0m\u001b[1;33m)\u001b[0m\u001b[1;33m)\u001b[0m\u001b[1;33m)\u001b[0m\u001b[1;33m\u001b[0m\u001b[1;33m\u001b[0m\u001b[0m\n\u001b[0m",
      "\u001b[1;31mTypeError\u001b[0m: __bool__ should return bool, returned int"
     ]
    }
   ],
   "source": [
    "class Test():\n",
    "\n",
    "    def __bool__(self):\n",
    "        return 0  # __bool__ can only return True or False, not the equavilent.\n",
    "    \n",
    "    def __len__(self):\n",
    "        return True\n",
    "\n",
    "print(bool(Test()))"
   ]
  },
  {
   "cell_type": "code",
   "execution_count": null,
   "metadata": {},
   "outputs": [],
   "source": []
  }
 ],
 "metadata": {
  "kernelspec": {
   "display_name": "Python 3",
   "language": "python",
   "name": "python3"
  },
  "language_info": {
   "codemirror_mode": {
    "name": "ipython",
    "version": 3
   },
   "file_extension": ".py",
   "mimetype": "text/x-python",
   "name": "python",
   "nbconvert_exporter": "python",
   "pygments_lexer": "ipython3",
   "version": "3.7.6"
  },
  "toc": {
   "base_numbering": 1,
   "nav_menu": {},
   "number_sections": true,
   "sideBar": true,
   "skip_h1_title": false,
   "title_cell": "Table of Contents",
   "title_sidebar": "Contents",
   "toc_cell": false,
   "toc_position": {},
   "toc_section_display": true,
   "toc_window_display": false
  },
  "varInspector": {
   "cols": {
    "lenName": 16,
    "lenType": 16,
    "lenVar": 40
   },
   "kernels_config": {
    "python": {
     "delete_cmd_postfix": "",
     "delete_cmd_prefix": "del ",
     "library": "var_list.py",
     "varRefreshCmd": "print(var_dic_list())"
    },
    "r": {
     "delete_cmd_postfix": ") ",
     "delete_cmd_prefix": "rm(",
     "library": "var_list.r",
     "varRefreshCmd": "cat(var_dic_list()) "
    }
   },
   "types_to_exclude": [
    "module",
    "function",
    "builtin_function_or_method",
    "instance",
    "_Feature"
   ],
   "window_display": false
  }
 },
 "nbformat": 4,
 "nbformat_minor": 4
}
