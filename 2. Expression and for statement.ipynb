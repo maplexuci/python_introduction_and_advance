{
 "cells": [
  {
   "cell_type": "markdown",
   "metadata": {},
   "source": [
    "# Expression"
   ]
  },
  {
   "cell_type": "markdown",
   "metadata": {},
   "source": [
    "**<font size=4>Expression is the sequencial combination of the operators and the operands.</font>**  "
   ]
  },
  {
   "cell_type": "markdown",
   "metadata": {},
   "source": [
    "* Operators are not only limited to numerical operators, others like assignment, comparison, boolen operation all have operators.  \n",
    "  \n",
    "  \n",
    "* Expression is sequencial, meaning it has the order of operations. The operators follow the priority of operation.  \n",
    "  \n",
    "  \n",
    "* Same type of operators may also have priority between each of them.  \n",
    "  \n",
    "  \n",
    "* Use() to alter the order of operation or make the expression more clear to improve readability.  \n",
    "  \n",
    "  \n",
    "* Functions or methods can be included in expression.  "
   ]
  },
  {
   "cell_type": "code",
   "execution_count": 1,
   "metadata": {
    "ExecuteTime": {
     "end_time": "2020-05-19T22:14:33.226029Z",
     "start_time": "2020-05-19T22:14:33.212068Z"
    }
   },
   "outputs": [
    {
     "data": {
      "text/plain": [
       "1"
      ]
     },
     "execution_count": 1,
     "metadata": {},
     "output_type": "execute_result"
    }
   ],
   "source": [
    "a = 1\n",
    "b = 2\n",
    "c = 3\n",
    "a + b*c\n",
    "a or b and c  # 'and' operation has priority over 'or'"
   ]
  },
  {
   "cell_type": "code",
   "execution_count": 3,
   "metadata": {
    "ExecuteTime": {
     "end_time": "2020-05-19T22:26:26.651936Z",
     "start_time": "2020-05-19T22:26:26.644953Z"
    }
   },
   "outputs": [
    {
     "data": {
      "text/plain": [
       "False"
      ]
     },
     "execution_count": 3,
     "metadata": {},
     "output_type": "execute_result"
    }
   ],
   "source": [
    "# Use () to mark the operation order of the following expression\n",
    "not a or b + 2 == c\n",
    "(not a) or ((b + 2) == c)  # Boolen opreation has the lowest priority.\n",
    "                           # Inside of them, the priority is: not > and > or"
   ]
  },
  {
   "cell_type": "markdown",
   "metadata": {},
   "source": [
    "# if statement"
   ]
  },
  {
   "cell_type": "code",
   "execution_count": 1,
   "metadata": {
    "ExecuteTime": {
     "end_time": "2020-05-20T16:15:15.781982Z",
     "start_time": "2020-05-20T16:15:15.761022Z"
    }
   },
   "outputs": [],
   "source": [
    "# if condition1:\n",
    "#     pass\n",
    "# else:\n",
    "#     if condition2:\n",
    "#         pass\n",
    "#     else:\n",
    "#         if condition3:\n",
    "#             pass\n",
    "#         else\n",
    "#         .\n",
    "#         .\n",
    "#         .\n",
    "#         .\n",
    "        \n",
    "# Theoretically, code like this, also called nested if else statment can go on \n",
    "# infinitatly. But it is recommonded to avoid this type of coding, as it dramatically\n",
    "# reduce the code readability. Instead use if elif else."
   ]
  },
  {
   "cell_type": "code",
   "execution_count": 2,
   "metadata": {
    "ExecuteTime": {
     "end_time": "2020-05-20T16:17:24.426045Z",
     "start_time": "2020-05-20T16:17:21.896436Z"
    }
   },
   "outputs": [
    {
     "name": "stdout",
     "output_type": "stream",
     "text": [
      "2\n",
      "shopping\n"
     ]
    }
   ],
   "source": [
    "# Play with the following code.\n",
    "a = input()\n",
    "if a == 1:\n",
    "    print('apple')\n",
    "elif a == 2:\n",
    "    print('orange')\n",
    "elif a == 3:\n",
    "    print('banana')\n",
    "else:\n",
    "    print('shopping')\n",
    "    "
   ]
  },
  {
   "cell_type": "code",
   "execution_count": 3,
   "metadata": {
    "ExecuteTime": {
     "end_time": "2020-05-20T16:19:18.671496Z",
     "start_time": "2020-05-20T16:19:16.369974Z"
    }
   },
   "outputs": [
    {
     "name": "stdout",
     "output_type": "stream",
     "text": [
      "2\n",
      "orange\n"
     ]
    }
   ],
   "source": [
    "# What problem do you discover from the above code?\n",
    "# Is the logic of the code wrong? or it is due to other issue?\n",
    "\n",
    "# How about now?\n",
    "a = int(input())\n",
    "if a == 1:\n",
    "    print('apple')\n",
    "elif a == 2:\n",
    "    print('orange')\n",
    "elif a == 3:\n",
    "    print('banana')\n",
    "else:\n",
    "    print('shopping')"
   ]
  },
  {
   "cell_type": "code",
   "execution_count": 4,
   "metadata": {
    "ExecuteTime": {
     "end_time": "2020-05-20T16:20:35.107002Z",
     "start_time": "2020-05-20T16:20:32.673320Z"
    }
   },
   "outputs": [
    {
     "name": "stdout",
     "output_type": "stream",
     "text": [
      "1\n",
      "apple\n"
     ]
    }
   ],
   "source": [
    "# What else method can you use to make the code return expected result.\n",
    "a = input()\n",
    "if a == '1':\n",
    "    print('apple')\n",
    "elif a == '2':\n",
    "    print('orange')\n",
    "elif a == '3':\n",
    "    print('banana')\n",
    "else:\n",
    "    print('shopping')"
   ]
  },
  {
   "cell_type": "code",
   "execution_count": 5,
   "metadata": {
    "ExecuteTime": {
     "end_time": "2020-05-20T16:34:51.293290Z",
     "start_time": "2020-05-20T16:34:51.289299Z"
    }
   },
   "outputs": [],
   "source": [
    "# What is your conclusion?\n",
    "\n",
    "# input() function returns only string."
   ]
  },
  {
   "cell_type": "markdown",
   "metadata": {},
   "source": [
    "# Thinking in a different way"
   ]
  },
  {
   "cell_type": "markdown",
   "metadata": {},
   "source": [
    "Question: there are two variables `a` and `b`, they can't both be false.\n",
    "Write a code to return the one which is True."
   ]
  },
  {
   "cell_type": "code",
   "execution_count": 6,
   "metadata": {
    "ExecuteTime": {
     "end_time": "2020-05-20T16:39:57.487521Z",
     "start_time": "2020-05-20T16:39:57.482534Z"
    }
   },
   "outputs": [
    {
     "name": "stdout",
     "output_type": "stream",
     "text": [
      "1\n"
     ]
    }
   ],
   "source": [
    "# Normal thinking: use if...else statement\n",
    "a = 1\n",
    "b = 0\n",
    "if a:\n",
    "    print(a)\n",
    "else:\n",
    "    print(b)"
   ]
  },
  {
   "cell_type": "code",
   "execution_count": 8,
   "metadata": {
    "ExecuteTime": {
     "end_time": "2020-05-20T16:41:18.382825Z",
     "start_time": "2020-05-20T16:41:18.376875Z"
    }
   },
   "outputs": [
    {
     "data": {
      "text/plain": [
       "1"
      ]
     },
     "execution_count": 8,
     "metadata": {},
     "output_type": "execute_result"
    }
   ],
   "source": [
    "# Thinking in another way, only use logical operation, makes the code simple and concise.\n",
    "a or b"
   ]
  },
  {
   "cell_type": "code",
   "execution_count": null,
   "metadata": {},
   "outputs": [],
   "source": []
  }
 ],
 "metadata": {
  "kernelspec": {
   "display_name": "Python 3",
   "language": "python",
   "name": "python3"
  },
  "language_info": {
   "codemirror_mode": {
    "name": "ipython",
    "version": 3
   },
   "file_extension": ".py",
   "mimetype": "text/x-python",
   "name": "python",
   "nbconvert_exporter": "python",
   "pygments_lexer": "ipython3",
   "version": "3.7.6"
  },
  "toc": {
   "base_numbering": 1,
   "nav_menu": {},
   "number_sections": true,
   "sideBar": true,
   "skip_h1_title": false,
   "title_cell": "Table of Contents",
   "title_sidebar": "Contents",
   "toc_cell": false,
   "toc_position": {},
   "toc_section_display": true,
   "toc_window_display": false
  },
  "varInspector": {
   "cols": {
    "lenName": 16,
    "lenType": 16,
    "lenVar": 40
   },
   "kernels_config": {
    "python": {
     "delete_cmd_postfix": "",
     "delete_cmd_prefix": "del ",
     "library": "var_list.py",
     "varRefreshCmd": "print(var_dic_list())"
    },
    "r": {
     "delete_cmd_postfix": ") ",
     "delete_cmd_prefix": "rm(",
     "library": "var_list.r",
     "varRefreshCmd": "cat(var_dic_list()) "
    }
   },
   "types_to_exclude": [
    "module",
    "function",
    "builtin_function_or_method",
    "instance",
    "_Feature"
   ],
   "window_display": false
  }
 },
 "nbformat": 4,
 "nbformat_minor": 4
}
